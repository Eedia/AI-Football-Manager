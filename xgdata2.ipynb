{
 "cells": [
  {
   "cell_type": "code",
   "execution_count": null,
   "id": "424ee82d",
   "metadata": {},
   "outputs": [],
   "source": [
    "import pandas as pd\n",
    "from sklearn.ensemble import RandomForestClassifier\n",
    "from sklearn.model_selection import train_test_split\n",
    "from sklearn.metrics import classification_report, accuracy_score\n",
    "\n",
    "def load_match_data(path):\n",
    "    df = pd.read_csv(path)\n",
    "    df[\"xG_diff\"] = df[\"h_xg\"] - df[\"a_xg\"]\n",
    "\n",
    "    def label_result(r):\n",
    "        if r[\"h_goals\"] > r[\"a_goals\"]:\n",
    "            return 2  # 홈 승\n",
    "        elif r[\"h_goals\"] < r[\"a_goals\"]:\n",
    "            return 0  # 원정 승\n",
    "        else:\n",
    "            return 1  # 무승부\n",
    "\n",
    "    df[\"result\"] = df.apply(label_result, axis=1)\n",
    "    return df\n",
    "\n",
    "def train_model(df):\n",
    "    X = df[[\"h_xg\", \"a_xg\", \"xG_diff\"]]\n",
    "    y = df[\"result\"]\n",
    "\n",
    "    X_train, X_test, y_train, y_test = train_test_split(\n",
    "        X, y, test_size=0.2, random_state=42\n",
    "    )\n",
    "\n",
    "    clf = RandomForestClassifier(random_state=42)\n",
    "    clf.fit(X_train, y_train)\n",
    "    y_pred = clf.predict(X_test)\n",
    "\n",
    "    acc = accuracy_score(y_test, y_pred)\n",
    "    report = classification_report(y_test, y_pred, digits=3)\n",
    "    return clf, acc, report\n",
    "\n",
    "def main():\n",
    "    df = load_match_data(\"2021-2022_xG.csv\")  \n",
    "\n",
    "    df.to_csv(\"epl_2021.csv\", index=False)  \n",
    "    print(\"[✅ 파일 저장됨] epl_2021.csv\")\n",
    "\n",
    "    clf, acc, report = train_model(df)\n",
    "    print(f\"\\n✅ 모델 정확도: {acc:.3f}\\n\")\n",
    "    print(report)\n",
    "\n",
    "\n",
    "if __name__ == \"__main__\":\n",
    "    main()"
   ]
  }
 ],
 "metadata": {
  "language_info": {
   "name": "python"
  }
 },
 "nbformat": 4,
 "nbformat_minor": 5
}
