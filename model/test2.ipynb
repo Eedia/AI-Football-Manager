{
 "cells": [
  {
   "cell_type": "code",
   "execution_count": 3,
   "id": "a66c902c",
   "metadata": {},
   "outputs": [
    {
     "data": {
      "text/plain": [
       "['model_final.pkl']"
      ]
     },
     "execution_count": 3,
     "metadata": {},
     "output_type": "execute_result"
    }
   ],
   "source": [
    "from xgboost import XGBClassifier\n",
    "from sklearn.model_selection import train_test_split\n",
    "import pandas as pd, joblib\n",
    "\n",
    "df = pd.read_csv('EPL_with_Elo_Ratings.csv')\n",
    "df['label'] = (df['result'] == 2).astype(int)\n",
    "features = ['elo_home', 'elo_away', 'elo_diff', 'h_xg', 'a_xg', 'xG_diff']\n",
    "X = df[features].fillna(0)\n",
    "y = df['label']\n",
    "\n",
    "X_train, X_test, y_train, y_test = train_test_split(X, y, test_size=0.2, random_state=42)\n",
    "model = XGBClassifier(n_estimators=100, max_depth=4, eval_metric='logloss')  # use_label_encoder 제거\n",
    "model.fit(X_train, y_train)\n",
    "\n",
    "joblib.dump(model, 'model_final.pkl')\n"
   ]
  }
 ],
 "metadata": {
  "kernelspec": {
   "display_name": ".venv",
   "language": "python",
   "name": "python3"
  },
  "language_info": {
   "codemirror_mode": {
    "name": "ipython",
    "version": 3
   },
   "file_extension": ".py",
   "mimetype": "text/x-python",
   "name": "python",
   "nbconvert_exporter": "python",
   "pygments_lexer": "ipython3",
   "version": "3.9.13"
  }
 },
 "nbformat": 4,
 "nbformat_minor": 5
}
