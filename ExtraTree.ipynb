{
 "cells": [
  {
   "cell_type": "code",
   "execution_count": 2,
   "id": "c7910549",
   "metadata": {},
   "outputs": [],
   "source": [
    "# 다운로드가 필요한 모듈, 라이브러리\n",
    "# pip install lightgbm\n",
    "# pip install catboost\n",
    "# pip install soccerdata\n",
    "# pip install xgboost\n",
    "# pip install imbalanced-learn"
   ]
  },
  {
   "cell_type": "code",
   "execution_count": 3,
   "id": "cb752be4",
   "metadata": {},
   "outputs": [
    {
     "data": {
      "text/html": [
       "<pre style=\"white-space:pre;overflow-x:auto;line-height:normal;font-family:Menlo,'DejaVu Sans Mono',consolas,'Courier New',monospace\"><span style=\"color: #7fbfbf; text-decoration-color: #7fbfbf\">[07/03/25 15:25:36] </span><span style=\"color: #000080; text-decoration-color: #000080\">INFO    </span> No custom team name replacements found. You can configure these in       <a href=\"file://c:\\project\\module_project\\.venv\\lib\\site-packages\\soccerdata\\_config.py\" target=\"_blank\"><span style=\"color: #7f7f7f; text-decoration-color: #7f7f7f\">_config.py</span></a><span style=\"color: #7f7f7f; text-decoration-color: #7f7f7f\">:</span><a href=\"file://c:\\project\\module_project\\.venv\\lib\\site-packages\\soccerdata\\_config.py#91\" target=\"_blank\"><span style=\"color: #7f7f7f; text-decoration-color: #7f7f7f\">91</span></a>\n",
       "<span style=\"color: #7fbfbf; text-decoration-color: #7fbfbf\">                    </span>         C:\\Users\\User\\soccerdata\\config\\teamname_replacements.json.              <span style=\"color: #7f7f7f; text-decoration-color: #7f7f7f\">             </span>\n",
       "</pre>\n"
      ],
      "text/plain": [
       "\u001b[2;36m[07/03/25 15:25:36]\u001b[0m\u001b[2;36m \u001b[0m\u001b[34mINFO    \u001b[0m No custom team name replacements found. You can configure these in       \u001b]8;id=981740;file://c:\\project\\module_project\\.venv\\lib\\site-packages\\soccerdata\\_config.py\u001b\\\u001b[2m_config.py\u001b[0m\u001b]8;;\u001b\\\u001b[2m:\u001b[0m\u001b]8;id=215400;file://c:\\project\\module_project\\.venv\\lib\\site-packages\\soccerdata\\_config.py#91\u001b\\\u001b[2m91\u001b[0m\u001b]8;;\u001b\\\n",
       "\u001b[2;36m                    \u001b[0m         C:\\Users\\User\\soccerdata\\config\\teamname_replacements.json.              \u001b[2m             \u001b[0m\n"
      ]
     },
     "metadata": {},
     "output_type": "display_data"
    },
    {
     "data": {
      "text/html": [
       "<pre style=\"white-space:pre;overflow-x:auto;line-height:normal;font-family:Menlo,'DejaVu Sans Mono',consolas,'Courier New',monospace\"><span style=\"color: #7fbfbf; text-decoration-color: #7fbfbf\">                    </span><span style=\"color: #000080; text-decoration-color: #000080\">INFO    </span> No custom league dict found. You can configure additional leagues in    <a href=\"file://c:\\project\\module_project\\.venv\\lib\\site-packages\\soccerdata\\_config.py\" target=\"_blank\"><span style=\"color: #7f7f7f; text-decoration-color: #7f7f7f\">_config.py</span></a><span style=\"color: #7f7f7f; text-decoration-color: #7f7f7f\">:</span><a href=\"file://c:\\project\\module_project\\.venv\\lib\\site-packages\\soccerdata\\_config.py#197\" target=\"_blank\"><span style=\"color: #7f7f7f; text-decoration-color: #7f7f7f\">197</span></a>\n",
       "<span style=\"color: #7fbfbf; text-decoration-color: #7fbfbf\">                    </span>         C:\\Users\\User\\soccerdata\\config\\league_dict.json.                       <span style=\"color: #7f7f7f; text-decoration-color: #7f7f7f\">              </span>\n",
       "</pre>\n"
      ],
      "text/plain": [
       "\u001b[2;36m                   \u001b[0m\u001b[2;36m \u001b[0m\u001b[34mINFO    \u001b[0m No custom league dict found. You can configure additional leagues in    \u001b]8;id=697817;file://c:\\project\\module_project\\.venv\\lib\\site-packages\\soccerdata\\_config.py\u001b\\\u001b[2m_config.py\u001b[0m\u001b]8;;\u001b\\\u001b[2m:\u001b[0m\u001b]8;id=851477;file://c:\\project\\module_project\\.venv\\lib\\site-packages\\soccerdata\\_config.py#197\u001b\\\u001b[2m197\u001b[0m\u001b]8;;\u001b\\\n",
       "\u001b[2;36m                    \u001b[0m         C:\\Users\\User\\soccerdata\\config\\league_dict.json.                       \u001b[2m              \u001b[0m\n"
      ]
     },
     "metadata": {},
     "output_type": "display_data"
    }
   ],
   "source": [
    "import pandas as pd\n",
    "import numpy as np\n",
    "from sklearn.model_selection import train_test_split, StratifiedKFold, cross_val_score\n",
    "from sklearn.preprocessing import StandardScaler, OneHotEncoder\n",
    "from sklearn.compose import ColumnTransformer\n",
    "from sklearn.pipeline import Pipeline\n",
    "from sklearn.metrics import accuracy_score, classification_report, confusion_matrix, log_loss, roc_auc_score, accuracy_score\n",
    "\n",
    "from soccerdata.fbref import FBref \n",
    "from pathlib import Path\n",
    "\n",
    "# 학습 모델들\n",
    "from sklearn.ensemble import ExtraTreesClassifier\n",
    "from sklearn.model_selection import RandomizedSearchCV\n",
    "from imblearn.ensemble import BalancedRandomForestClassifier"
   ]
  },
  {
   "cell_type": "code",
   "execution_count": 4,
   "id": "955a0a36",
   "metadata": {},
   "outputs": [],
   "source": [
    "# 1) CSV 불러오기 & match_id 생성\n",
    "data = pd.read_csv('Matches.csv', parse_dates=['MatchDate'])\n",
    "data = data.reset_index().rename(columns={'index':'match_id'})\n",
    "\n",
    "# 2) 홈/원정 각각 long 포맷으로 전환\n",
    "home = data[['match_id','MatchDate','HomeTeam','FTHome','FTAway']].copy()\n",
    "home = home.assign(\n",
    "    team           = home['HomeTeam'],\n",
    "    goals_for      = home['FTHome'],\n",
    "    goals_against  = home['FTAway'],\n",
    "    venue          = 'Home'\n",
    ")[['match_id','MatchDate','team','goals_for','goals_against','venue']]\n",
    "\n",
    "away = data[['match_id','MatchDate','AwayTeam','FTAway','FTHome']].copy()\n",
    "away = away.assign(\n",
    "    team           = away['AwayTeam'],\n",
    "    goals_for      = away['FTAway'],\n",
    "    goals_against  = away['FTHome'],\n",
    "    venue          = 'Away'\n",
    ")[['match_id','MatchDate','team','goals_for','goals_against','venue']]\n",
    "\n",
    "matches_long = pd.concat([home, away], ignore_index=True)\n",
    "\n",
    "# 3) 정렬하고 인덱스 재설정 (꼭 필요)\n",
    "matches_long = matches_long.sort_values(['team','MatchDate']).reset_index(drop=True)\n",
    "\n",
    "# 4) 과거 3·5경기 득실 합계 계산 (transform 이용)\n",
    "for N in (3, 5):\n",
    "    # 먼저 “현재 경기” 제외를 위해 shift()\n",
    "    shifted_gf = matches_long.groupby('team')['goals_for']     .shift()\n",
    "    shifted_ga = matches_long.groupby('team')['goals_against'] .shift()\n",
    "\n",
    "    # rolling 합계 계산\n",
    "    matches_long[f'GF{N}'] = (shifted_gf\n",
    "                              .groupby(matches_long['team'])\n",
    "                              .transform(lambda x: x.rolling(N).sum()))\n",
    "    matches_long[f'GA{N}'] = (shifted_ga\n",
    "                              .groupby(matches_long['team'])\n",
    "                              .transform(lambda x: x.rolling(N).sum()))\n",
    "\n",
    "# 5) 홈/Away별로 다시 뽑아서 이름 바꾸기\n",
    "home_stats = (\n",
    "    matches_long[matches_long['venue']=='Home']\n",
    "    .set_index('match_id')[['GF3','GA3','GF5','GA5']]\n",
    "    .rename(columns={\n",
    "        'GF3':'GF3Home','GA3':'GA3Home',\n",
    "        'GF5':'GF5Home','GA5':'GA5Home'\n",
    "    })\n",
    ")\n",
    "away_stats = (\n",
    "    matches_long[matches_long['venue']=='Away']\n",
    "    .set_index('match_id')[['GF3','GA3','GF5','GA5']]\n",
    "    .rename(columns={\n",
    "        'GF3':'GF3Away','GA3':'GA3Away',\n",
    "        'GF5':'GF5Away','GA5':'GA5Away'\n",
    "    })\n",
    ")\n",
    "\n",
    "# 6) map으로 원본 data에 컬럼 추가\n",
    "for col in home_stats.columns:\n",
    "    data[col] = data['match_id'].map(home_stats[col])\n",
    "for col in away_stats.columns:\n",
    "    data[col] = data['match_id'].map(away_stats[col])\n",
    "\n",
    "# 7) 불필요해진 match_id 제거 (선택)\n",
    "data = data.drop(columns=['match_id'])\n",
    "\n",
    "# 8) 결과 확인\n",
    "# data.info()"
   ]
  },
  {
   "cell_type": "code",
   "execution_count": 5,
   "id": "cb0dbfcc",
   "metadata": {},
   "outputs": [],
   "source": [
    "data = data[data['Division'] == 'E0']   # 프리미어 리그(epl) 데이터 추출\n",
    "\n",
    "# 1-1 xg 데이터 불러오기\n",
    "xg_data = pd.read_csv('xg_data.csv')\n",
    "\n",
    "# 1-2 xg 데이터와 Matches 데이터 합치기\n",
    "\n",
    "# 날짜 칼럼을 datetime.date 로 맞추기\n",
    "xg_data['MatchDate'] = pd.to_datetime(xg_data['MatchDate']).dt.date\n",
    "data['MatchDate'] = pd.to_datetime(data['MatchDate']).dt.date \n",
    "\n",
    "# Mathces와 다른 팀명들을 모두 동일하도록 mapping\n",
    "team_name_map = {\n",
    "    'Manchester City'   : 'Man City',\n",
    "    'Manchester United' : 'Man United',\n",
    "    'Newcastle United' : 'Newcastle',\n",
    "    'Nottingham Forest' : 'Nottm Forest',\n",
    "    'Wolverhampton Wanderers' : 'Wolves',\n",
    "    'West Bromwich Albion' : 'West Brom',\n",
    "}   \n",
    "\n",
    "# xg_data 에 적용 (Home / Away 양쪽)\n",
    "xg_data['HomeTeam'] = xg_data['HomeTeam'].replace(team_name_map)\n",
    "xg_data['AwayTeam'] = xg_data['AwayTeam'].replace(team_name_map)\n",
    "\n",
    "\n",
    "\n",
    "# MatchDate를 시계열 데이터로 전환\n",
    "xg_data['MatchDate'] = pd.to_datetime(xg_data['MatchDate'])  # MatchDate를 datetime 형식으로 변환\n",
    "data['MatchDate'] = pd.to_datetime(data['MatchDate'])  # MatchDate를 datetime 형식으로 변환\n",
    "data = data[(data['MatchDate'] > '2016-08-13')]\n",
    "\n",
    "\n",
    "# xg_data와 Matches 데이터 합치기\n",
    "data_final = data.merge(\n",
    "    xg_data,\n",
    "    on=['MatchDate', 'HomeTeam', 'AwayTeam'],\n",
    "    how='inner',          # 이전에 left\n",
    "    validate='1:1'        # 같은 키가 중복되면 오류로 알려줌\n",
    ")"
   ]
  },
  {
   "cell_type": "code",
   "execution_count": 6,
   "id": "10904799",
   "metadata": {},
   "outputs": [],
   "source": [
    "# 2. 데이터 전처리\n",
    "# 2-1 데이터 전처리 :데이터 연도 기준 필터링\n",
    "# 프리미어 리그(epl)의 2022~2023연도 데이터를 사용\n",
    "\n",
    "\n",
    "# 2-2 데이터 전처리 : 학습에 사용할 column만 추출\n",
    "# 'MatchTime' 제거\n",
    "columns = ['MatchDate', 'HomeTeam', 'AwayTeam', 'HomeElo', 'AwayElo', 'Form3Home', 'Form5Home', 'Form3Away', 'Form5Away', 'OddHome', 'OddDraw', 'OddAway', 'FTResult', 'MaxHome', 'MaxDraw', 'MaxAway', 'Over25', 'Under25', 'MaxOver25', 'MaxUnder25', 'HandiSize', 'HandiHome', 'HandiAway', 'GF3Home', 'GA3Home', 'GF5Home', 'GA5Home', 'GF3Away', 'GA3Away', 'GF5Away', 'GA5Away', 'home_goals_l3', 'home_goals_l5', 'away_goals_l3', 'away_goals_l5', 'home_xg_l3', 'home_xg_l5', 'away_xg_l3', 'away_xg_l5'\n",
    "]\n",
    "data_final = data_final[columns]"
   ]
  },
  {
   "cell_type": "code",
   "execution_count": 7,
   "id": "b287c146",
   "metadata": {},
   "outputs": [],
   "source": [
    "# 2-3 데이터 전처리 : 결측치 확인\n",
    "data_final.isnull().sum()\n",
    "\n",
    "# 결측치는 학습에 영향을 주지 않도록 모두 0으로 처리 \n",
    "columns_NaN = ['home_goals_l3', 'home_goals_l5', 'away_goals_l3', 'away_goals_l5', 'home_xg_l3', 'home_xg_l5', 'away_xg_l3', 'away_xg_l5']\n",
    "\n",
    "# 결측치 있는 행 제거\n",
    "data_final[columns_NaN] = data_final[columns_NaN].fillna(0)\n",
    "\n",
    "# data_final = data_final.dropna(subset=columns).copy()"
   ]
  },
  {
   "cell_type": "code",
   "execution_count": 8,
   "id": "a60c4bd3",
   "metadata": {},
   "outputs": [],
   "source": [
    "# 2-4 데이터 전처리 : Standardize(표준화), OneHotEncoding(원-핫 인코딩)\n",
    "log_columns = ['HomeElo', 'AwayElo', 'OddHome', 'OddDraw', 'OddAway', 'MaxHome', 'MaxDraw', 'MaxAway', 'Over25', 'Under25', 'MaxOver25', 'MaxUnder25', 'HandiHome', 'HandiAway'] # 로그 변환할 columns\n",
    "standarize_columns = ['HomeElo', 'AwayElo', 'OddHome', 'OddDraw', 'OddAway', 'Form3Home', 'Form5Home', 'Form3Away', 'Form5Away', 'HandiSize', 'HandiHome', 'HandiAway', 'GF3Home', 'GA3Home', 'GF5Home', 'GA5Home', 'GF3Away', 'GA3Away', 'GF5Away', 'GA5Away']  # 표준화할 columns\n",
    "encoding_columns = ['HomeTeam', 'AwayTeam']  # 원-핫 인코딩할 columns\n",
    "\n",
    "# 분산이 큰 배당률 관련 columns와 Elo columns는 표준화 전에 log scale을 먼저 적용\n",
    "data_final[log_columns] = np.log1p(data_final[log_columns])\n",
    "\n",
    "# Pipeline에서 전처리 해줄 ColumnsTransformer 정의\n",
    "preprocessor = ColumnTransformer(\n",
    "    transformers=[\n",
    "        ('standardize', StandardScaler(), standarize_columns),  # 표준화\n",
    "        ('onehot', OneHotEncoder(handle_unknown='ignore', sparse_output=True), encoding_columns)  # 원-핫 인코딩\n",
    "    ],\n",
    "    remainder='passthrough'  # 나머지 컬럼은 그대로 유지\n",
    ")\n"
   ]
  },
  {
   "cell_type": "code",
   "execution_count": null,
   "id": "c0219f79",
   "metadata": {},
   "outputs": [],
   "source": [
    "# 팀의 전력 차이를 예측하기 위한 파생 column 생성\n",
    "\n",
    "# home과 away의 xG차이\n",
    "data_final['xg_l3_diff'] = data_final['home_xg_l3'] - data_final['away_xg_l3']  \n",
    "data_final['xg_l5_diff'] = data_final['home_xg_l5'] - data_final['away_xg_l5']\n",
    "\n",
    "# home과 away의 Elo 차이\n",
    "data_final['elo_diff'] = data_final['HomeElo'] - data_final['AwayElo']  \n",
    "\n"
   ]
  },
  {
   "cell_type": "code",
   "execution_count": 32,
   "id": "a0a0dcd5",
   "metadata": {},
   "outputs": [],
   "source": [
    "pd.DataFrame.to_csv(data_final, 'data_final.csv', index=False)"
   ]
  },
  {
   "cell_type": "code",
   "execution_count": null,
   "id": "ff709ad0",
   "metadata": {},
   "outputs": [],
   "source": [
    "# 1) 학습·테스트 시즌 분리\n",
    "train_mask = (data_final['MatchDate'] > '2016-08-13') & (data_final['MatchDate'] < '2025-01-01')\n",
    "test_mask  =  data_final['MatchDate'] >= '2025-01-01'\n",
    "\n",
    "data_train = data_final.loc[train_mask].copy()\n",
    "data_test  = data_final.loc[test_mask].copy()\n",
    "\n",
    "# 2) 무승부(Draw) 제거 → Home=0, Away=1\n",
    "data_train = data_train[data_train['FTResult'] != 'D']\n",
    "data_test  = data_test[data_test['FTResult']  != 'D']\n",
    "\n",
    "target_map = {'H': 0, 'A': 1}\n",
    "\n",
    "# 3) MatchDate 컬럼 삭제\n",
    "data_train.drop(columns='MatchDate', inplace=True)\n",
    "data_test.drop(columns='MatchDate', inplace=True)\n",
    "\n",
    "# 4) feature 컬럼 자동 도출 & 분리\n",
    "features = [c for c in data_train.columns if c != 'FTResult']\n",
    "\n",
    "X_train = data_train[features]\n",
    "X_test  = data_test[features]\n",
    "\n",
    "y_train = data_train['FTResult'].map(target_map)\n",
    "y_test  = data_test['FTResult'].map(target_map)\n",
    "\n",
    "\n",
    "# 학습용/검증용 데이터 분리\n",
    "from sklearn.model_selection import train_test_split\n",
    "X_tr, X_val, y_tr, y_val = train_test_split(\n",
    "    X_train, y_train,                       # ← 앞서 만든 0/1 데이터\n",
    "    test_size=0.20,\n",
    "    stratify=y_train,\n",
    "    random_state=42\n",
    ")\n",
    "\n",
    "\n",
    "\n",
    "\n"
   ]
  },
  {
   "cell_type": "code",
   "execution_count": 24,
   "id": "86c3ff78",
   "metadata": {},
   "outputs": [],
   "source": [
    "rf = ExtraTreesClassifier(\n",
    "        n_estimators   = 1900,        #\n",
    "        max_depth      = 10,          # 이전에 10\n",
    "        max_features   = 0.25,         # 이전에 0.3\n",
    "        min_samples_leaf = 15,         # 이전에 10\n",
    "        n_jobs         = -1,\n",
    "        class_weight   = 'balanced_subsample',\n",
    "        random_state   = 42\n",
    ")\n",
    "\n"
   ]
  },
  {
   "cell_type": "code",
   "execution_count": 25,
   "id": "b75ab2b9",
   "metadata": {},
   "outputs": [],
   "source": [
    "pipe_extra = Pipeline([\n",
    "    ('preprocessor', preprocessor),  \n",
    "    ('classifier', rf)                \n",
    "])\n"
   ]
  },
  {
   "cell_type": "code",
   "execution_count": 26,
   "id": "ea9eacc7",
   "metadata": {},
   "outputs": [
    {
     "name": "stdout",
     "output_type": "stream",
     "text": [
      "AUC  (cal): 0.816\n",
      "LogLoss(cal): 0.513 \n",
      "\n",
      "AUC (5-fold) : 0.786 ± 0.017\n"
     ]
    }
   ],
   "source": [
    "from sklearn.calibration import CalibratedClassifierCV\n",
    "\n",
    "cal_et = CalibratedClassifierCV(\n",
    "    pipe_extra, \n",
    "    cv=5,\n",
    "    method='isotonic'\n",
    ")\n",
    "\n",
    "cal_et.fit(X_train, y_train)\n",
    "\n",
    "# 홀드-아웃 검증\n",
    "proba_val = cal_et.predict_proba(X_val)[:, 1]\n",
    "print(\"AUC  (cal):\", round(roc_auc_score(y_val, proba_val), 3))\n",
    "print(\"LogLoss(cal):\", round(log_loss(y_val, proba_val), 3), '\\n')\n",
    "\n",
    "# 5-fold CV 성능 (원본 파이프라인)\n",
    "cv = StratifiedKFold(n_splits=5, shuffle=True, random_state=42)\n",
    "auc = cross_val_score(pipe_extra, X_train, y_train, cv=cv, scoring='roc_auc')\n",
    "print(f\"AUC (5-fold) : {auc.mean():.3f} ± {auc.std():.3f}\")"
   ]
  },
  {
   "cell_type": "code",
   "execution_count": 27,
   "id": "b96b7871",
   "metadata": {},
   "outputs": [
    {
     "data": {
      "image/png": "[encoded data removed]",
      "text/plain": [
       "<Figure size 700x400 with 1 Axes>"
      ]
     },
     "metadata": {},
     "output_type": "display_data"
    }
   ],
   "source": [
    "import matplotlib.pyplot as plt\n",
    "import numpy as np\n",
    "from sklearn.model_selection import learning_curve, StratifiedKFold\n",
    "from sklearn.metrics import roc_auc_score, log_loss, accuracy_score\n",
    "import pandas as pd\n",
    "\n",
    "# NOTE: The variables `pipe` (your ExtraTrees pipeline),\n",
    "#        `X_train`, `y_train` should already be defined in your notebook.\n",
    "# If the code below raises NameError, run the cell where `pipe`, `X_train`, `y_train` are created.\n",
    "\n",
    "cv = StratifiedKFold(n_splits=5, shuffle=True, random_state=42)\n",
    "\n",
    "# 1) Learning curve for AUC\n",
    "train_sizes, train_scores, val_scores = learning_curve(\n",
    "    pipe_extra, X_train, y_train,\n",
    "    cv=cv, scoring='roc_auc',\n",
    "    train_sizes=np.linspace(0.1, 1.0, 6),   # 10%, …, 100%\n",
    "    n_jobs=-1, shuffle=True, random_state=42\n",
    ")\n",
    "\n",
    "train_mean = train_scores.mean(axis=1)\n",
    "val_mean   = val_scores.mean(axis=1)\n",
    "\n",
    "plt.figure(figsize=(7,4))\n",
    "plt.plot(train_sizes, train_mean, marker='o', label='Train AUC')\n",
    "plt.plot(train_sizes, val_mean,   marker='o', label='Val AUC')\n",
    "plt.xlabel(\"Training sample size\")\n",
    "plt.ylabel(\"AUC\")\n",
    "plt.title(\"Learning Curve — Extra Trees\")\n",
    "plt.legend()\n",
    "plt.grid(True)\n",
    "plt.tight_layout()\n",
    "plt.show()\n",
    "\n",
    "# 2) Train vs Val metrics on full data (5-fold CV) — table\n",
    "from sklearn.model_selection import cross_validate\n",
    "\n",
    "scoring = {\"auc\":\"roc_auc\", \"logloss\":\"neg_log_loss\", \"acc\":\"accuracy\"}\n",
    "cv_res = cross_validate(pipe_extra, X_train, y_train,\n",
    "                        cv=cv, scoring=scoring, return_train_score=True)\n",
    "\n",
    "metrics_df = pd.DataFrame({\n",
    "    \"Metric\": [\"AUC\", \"LogLoss\", \"Accuracy\"],\n",
    "    \"Train mean\": [cv_res[\"train_auc\"].mean(),\n",
    "                   -cv_res[\"train_logloss\"].mean(),\n",
    "                   cv_res[\"train_acc\"].mean()],\n",
    "    \"Val mean\":   [cv_res[\"test_auc\"].mean(),\n",
    "                   -cv_res[\"test_logloss\"].mean(),\n",
    "                   cv_res[\"test_acc\"].mean()],\n",
    "    \"Gap\":        [cv_res[\"train_auc\"].mean() - cv_res[\"test_auc\"].mean(),\n",
    "                   (-cv_res[\"train_logloss\"].mean()) - (-cv_res[\"test_logloss\"].mean()),\n",
    "                   cv_res[\"train_acc\"].mean() - cv_res[\"test_acc\"].mean()]\n",
    "})\n"
   ]
  },
  {
   "cell_type": "code",
   "execution_count": 28,
   "id": "25138bb4",
   "metadata": {},
   "outputs": [
    {
     "data": {
      "image/png": "[encoded data removed]",
      "text/plain": [
       "<Figure size 700x400 with 1 Axes>"
      ]
     },
     "metadata": {},
     "output_type": "display_data"
    },
    {
     "name": "stdout",
     "output_type": "stream",
     "text": [
      "     Metric  Train mean  Val mean       Gap\n",
      "0       AUC    0.847181  0.785040  0.062140\n",
      "1   LogLoss    0.479661  0.599479 -0.119817\n",
      "2  Accuracy    0.770737  0.716313  0.054424\n"
     ]
    }
   ],
   "source": [
    "# 1) Learning curve – 사용 모델을 cal_et 로!\n",
    "train_sizes, train_scores, val_scores = learning_curve(\n",
    "    cal_et,           # ← 여기를 cal_et로 교체\n",
    "    X_train, y_train,\n",
    "    cv=cv, scoring='roc_auc',\n",
    "    train_sizes=np.linspace(0.1, 1.0, 6),\n",
    "    n_jobs=-1, shuffle=True, random_state=42\n",
    ")\n",
    "\n",
    "# 곡선 그리기\n",
    "plt.figure(figsize=(7,4))\n",
    "plt.plot(train_sizes, train_scores.mean(axis=1), marker='o', label='Train AUC')\n",
    "plt.plot(train_sizes, val_scores.mean(axis=1),   marker='o', label='Val AUC')\n",
    "plt.xlabel(\"Training sample size\"); plt.ylabel(\"AUC\")\n",
    "plt.title(\"Learning Curve — Calibrated Extra Trees\")\n",
    "plt.grid(True); plt.legend(); plt.tight_layout(); plt.show()\n",
    "\n",
    "# 2) 5-fold Train vs Val 지표\n",
    "scoring = {\"auc\":\"roc_auc\", \"logloss\":\"neg_log_loss\", \"acc\":\"accuracy\"}\n",
    "cv_res = cross_validate(cal_et, X_train, y_train,\n",
    "                        cv=cv, scoring=scoring,\n",
    "                        return_train_score=True, n_jobs=-1)\n",
    "\n",
    "metrics_df = pd.DataFrame({\n",
    "    \"Metric\": [\"AUC\", \"LogLoss\", \"Accuracy\"],\n",
    "    \"Train mean\": [cv_res[\"train_auc\"].mean(),\n",
    "                   -cv_res[\"train_logloss\"].mean(),\n",
    "                   cv_res[\"train_acc\"].mean()],\n",
    "    \"Val mean\":   [cv_res[\"test_auc\"].mean(),\n",
    "                   -cv_res[\"test_logloss\"].mean(),\n",
    "                   cv_res[\"test_acc\"].mean()],\n",
    "    \"Gap\":        [cv_res[\"train_auc\"].mean() - cv_res[\"test_auc\"].mean(),\n",
    "                   (-cv_res[\"train_logloss\"].mean()) - (-cv_res[\"test_logloss\"].mean()),\n",
    "                   cv_res[\"train_acc\"].mean() - cv_res[\"test_acc\"].mean()]\n",
    "})\n",
    "print(metrics_df)"
   ]
  },
  {
   "cell_type": "code",
   "execution_count": 31,
   "id": "4390d814",
   "metadata": {},
   "outputs": [
    {
     "name": "stdout",
     "output_type": "stream",
     "text": [
      "=== Final Test Metrics (2025 시즌) ===\n",
      "AUC       : 0.813\n",
      "Log-loss  : 0.544\n",
      "Accuracy  : 0.720\n",
      "\n",
      "Confusion Matrix:\n",
      " [[67  8]\n",
      " [32 36]] \n",
      "\n",
      "Classification Report:\n",
      "               precision    recall  f1-score   support\n",
      "\n",
      "           0      0.677     0.893     0.770        75\n",
      "           1      0.818     0.529     0.643        68\n",
      "\n",
      "    accuracy                          0.720       143\n",
      "   macro avg      0.747     0.711     0.706       143\n",
      "weighted avg      0.744     0.720     0.710       143\n",
      "\n"
     ]
    }
   ],
   "source": [
    "cal_et_final = CalibratedClassifierCV(\n",
    "    estimator=pipe_extra,\n",
    "    method='isotonic',\n",
    "    cv=cv\n",
    ").fit(X_train, y_train)\n",
    "\n",
    "# 2) 테스트셋 예측\n",
    "proba_test = cal_et_final.predict_proba(X_test)[:, 1]\n",
    "pred_test  = (proba_test > 0.50).astype(int)   # 임계값 0.5\n",
    "\n",
    "# 3) 지표 출력\n",
    "print(\"=== Final Test Metrics (2025 시즌) ===\")\n",
    "print(f\"AUC       : {roc_auc_score(y_test, proba_test):.3f}\")\n",
    "print(f\"Log-loss  : {log_loss(y_test, proba_test):.3f}\")\n",
    "print(f\"Accuracy  : {accuracy_score(y_test, pred_test):.3f}\\n\")\n",
    "\n",
    "print(\"Confusion Matrix:\\n\", confusion_matrix(y_test, pred_test), \"\\n\")\n",
    "print(\"Classification Report:\\n\",\n",
    "      classification_report(y_test, pred_test, digits=3))"
   ]
  },
  {
   "cell_type": "code",
   "execution_count": null,
   "id": "11271a2f",
   "metadata": {},
   "outputs": [],
   "source": []
  },
  {
   "cell_type": "code",
   "execution_count": null,
   "id": "bbce9f45",
   "metadata": {},
   "outputs": [],
   "source": []
  },
  {
   "cell_type": "code",
   "execution_count": null,
   "id": "b9ce1e48",
   "metadata": {},
   "outputs": [],
   "source": []
  }
 ],
 "metadata": {
  "kernelspec": {
   "display_name": ".venv",
   "language": "python",
   "name": "python3"
  },
  "language_info": {
   "codemirror_mode": {
    "name": "ipython",
    "version": 3
   },
   "file_extension": ".py",
   "mimetype": "text/x-python",
   "name": "python",
   "nbconvert_exporter": "python",
   "pygments_lexer": "ipython3",
   "version": "3.9.13"
  }
 },
 "nbformat": 4,
 "nbformat_minor": 5
}
