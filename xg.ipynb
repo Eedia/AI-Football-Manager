{
 "cells": [
  {
   "cell_type": "code",
   "execution_count": 1,
   "id": "53d3fba0",
   "metadata": {},
   "outputs": [
    {
     "data": {
      "text/html": [
       "<pre style=\"white-space:pre;overflow-x:auto;line-height:normal;font-family:Menlo,'DejaVu Sans Mono',consolas,'Courier New',monospace\"><span style=\"color: #7fbfbf; text-decoration-color: #7fbfbf\">[07/03/25 16:06:45] </span><span style=\"color: #000080; text-decoration-color: #000080\">INFO    </span> No custom team name replacements found. You can configure these in       <a href=\"file://c:\\project\\module_project\\.venv\\lib\\site-packages\\soccerdata\\_config.py\" target=\"_blank\"><span style=\"color: #7f7f7f; text-decoration-color: #7f7f7f\">_config.py</span></a><span style=\"color: #7f7f7f; text-decoration-color: #7f7f7f\">:</span><a href=\"file://c:\\project\\module_project\\.venv\\lib\\site-packages\\soccerdata\\_config.py#91\" target=\"_blank\"><span style=\"color: #7f7f7f; text-decoration-color: #7f7f7f\">91</span></a>\n",
       "<span style=\"color: #7fbfbf; text-decoration-color: #7fbfbf\">                    </span>         C:\\Users\\User\\soccerdata\\config\\teamname_replacements.json.              <span style=\"color: #7f7f7f; text-decoration-color: #7f7f7f\">             </span>\n",
       "</pre>\n"
      ],
      "text/plain": [
       "\u001b[2;36m[07/03/25 16:06:45]\u001b[0m\u001b[2;36m \u001b[0m\u001b[34mINFO    \u001b[0m No custom team name replacements found. You can configure these in       \u001b]8;id=260699;file://c:\\project\\module_project\\.venv\\lib\\site-packages\\soccerdata\\_config.py\u001b\\\u001b[2m_config.py\u001b[0m\u001b]8;;\u001b\\\u001b[2m:\u001b[0m\u001b]8;id=872957;file://c:\\project\\module_project\\.venv\\lib\\site-packages\\soccerdata\\_config.py#91\u001b\\\u001b[2m91\u001b[0m\u001b]8;;\u001b\\\n",
       "\u001b[2;36m                    \u001b[0m         C:\\Users\\User\\soccerdata\\config\\teamname_replacements.json.              \u001b[2m             \u001b[0m\n"
      ]
     },
     "metadata": {},
     "output_type": "display_data"
    },
    {
     "data": {
      "text/html": [
       "<pre style=\"white-space:pre;overflow-x:auto;line-height:normal;font-family:Menlo,'DejaVu Sans Mono',consolas,'Courier New',monospace\"><span style=\"color: #7fbfbf; text-decoration-color: #7fbfbf\">                    </span><span style=\"color: #000080; text-decoration-color: #000080\">INFO    </span> No custom league dict found. You can configure additional leagues in    <a href=\"file://c:\\project\\module_project\\.venv\\lib\\site-packages\\soccerdata\\_config.py\" target=\"_blank\"><span style=\"color: #7f7f7f; text-decoration-color: #7f7f7f\">_config.py</span></a><span style=\"color: #7f7f7f; text-decoration-color: #7f7f7f\">:</span><a href=\"file://c:\\project\\module_project\\.venv\\lib\\site-packages\\soccerdata\\_config.py#197\" target=\"_blank\"><span style=\"color: #7f7f7f; text-decoration-color: #7f7f7f\">197</span></a>\n",
       "<span style=\"color: #7fbfbf; text-decoration-color: #7fbfbf\">                    </span>         C:\\Users\\User\\soccerdata\\config\\league_dict.json.                       <span style=\"color: #7f7f7f; text-decoration-color: #7f7f7f\">              </span>\n",
       "</pre>\n"
      ],
      "text/plain": [
       "\u001b[2;36m                   \u001b[0m\u001b[2;36m \u001b[0m\u001b[34mINFO    \u001b[0m No custom league dict found. You can configure additional leagues in    \u001b]8;id=302118;file://c:\\project\\module_project\\.venv\\lib\\site-packages\\soccerdata\\_config.py\u001b\\\u001b[2m_config.py\u001b[0m\u001b]8;;\u001b\\\u001b[2m:\u001b[0m\u001b]8;id=747202;file://c:\\project\\module_project\\.venv\\lib\\site-packages\\soccerdata\\_config.py#197\u001b\\\u001b[2m197\u001b[0m\u001b]8;;\u001b\\\n",
       "\u001b[2;36m                    \u001b[0m         C:\\Users\\User\\soccerdata\\config\\league_dict.json.                       \u001b[2m              \u001b[0m\n"
      ]
     },
     "metadata": {},
     "output_type": "display_data"
    }
   ],
   "source": [
    "import pandas as pd\n",
    "from soccerdata import Understat       \n",
    "import csv"
   ]
  },
  {
   "cell_type": "code",
   "execution_count": 2,
   "id": "ec68a1c9",
   "metadata": {},
   "outputs": [
    {
     "data": {
      "text/html": [
       "<pre style=\"white-space:pre;overflow-x:auto;line-height:normal;font-family:Menlo,'DejaVu Sans Mono',consolas,'Courier New',monospace\"><span style=\"color: #7fbfbf; text-decoration-color: #7fbfbf\">                    </span><span style=\"color: #000080; text-decoration-color: #000080\">INFO    </span> Saving cached data to C:\\Users\\User\\soccerdata\\data\\Understat           <a href=\"file://c:\\project\\module_project\\.venv\\lib\\site-packages\\soccerdata\\_common.py\" target=\"_blank\"><span style=\"color: #7f7f7f; text-decoration-color: #7f7f7f\">_common.py</span></a><span style=\"color: #7f7f7f; text-decoration-color: #7f7f7f\">:</span><a href=\"file://c:\\project\\module_project\\.venv\\lib\\site-packages\\soccerdata\\_common.py#263\" target=\"_blank\"><span style=\"color: #7f7f7f; text-decoration-color: #7f7f7f\">263</span></a>\n",
       "</pre>\n"
      ],
      "text/plain": [
       "\u001b[2;36m                   \u001b[0m\u001b[2;36m \u001b[0m\u001b[34mINFO    \u001b[0m Saving cached data to C:\\Users\\User\\soccerdata\\data\\Understat           \u001b]8;id=969283;file://c:\\project\\module_project\\.venv\\lib\\site-packages\\soccerdata\\_common.py\u001b\\\u001b[2m_common.py\u001b[0m\u001b]8;;\u001b\\\u001b[2m:\u001b[0m\u001b]8;id=246219;file://c:\\project\\module_project\\.venv\\lib\\site-packages\\soccerdata\\_common.py#263\u001b\\\u001b[2m263\u001b[0m\u001b]8;;\u001b\\\n"
      ]
     },
     "metadata": {},
     "output_type": "display_data"
    },
    {
     "data": {
      "text/html": [
       "<pre style=\"white-space:pre;overflow-x:auto;line-height:normal;font-family:Menlo,'DejaVu Sans Mono',consolas,'Courier New',monospace\"><span style=\"color: #7fbfbf; text-decoration-color: #7fbfbf\">                    </span><span style=\"color: #808000; text-decoration-color: #808000\">WARNING </span> c:\\project\\module_project\\.venv\\lib\\site-packages\\soccerdata\\_common.p <a href=\"file://C:\\Users\\User\\AppData\\Local\\Programs\\Python\\Python39\\lib\\warnings.py\" target=\"_blank\"><span style=\"color: #7f7f7f; text-decoration-color: #7f7f7f\">warnings.py</span></a><span style=\"color: #7f7f7f; text-decoration-color: #7f7f7f\">:</span><a href=\"file://C:\\Users\\User\\AppData\\Local\\Programs\\Python\\Python39\\lib\\warnings.py#109\" target=\"_blank\"><span style=\"color: #7f7f7f; text-decoration-color: #7f7f7f\">109</span></a>\n",
       "<span style=\"color: #7fbfbf; text-decoration-color: #7fbfbf\">                    </span>         y:<span style=\"color: #008080; text-decoration-color: #008080; font-weight: bold\">145</span>: UserWarning: Season id <span style=\"color: #008000; text-decoration-color: #008000\">\"2021\"</span> is ambiguous: interpreting as     <span style=\"color: #7f7f7f; text-decoration-color: #7f7f7f\">               </span>\n",
       "<span style=\"color: #7fbfbf; text-decoration-color: #7fbfbf\">                    </span>         <span style=\"color: #008000; text-decoration-color: #008000\">\"20-21\"</span>                                                                <span style=\"color: #7f7f7f; text-decoration-color: #7f7f7f\">               </span>\n",
       "<span style=\"color: #7fbfbf; text-decoration-color: #7fbfbf\">                    </span>           <span style=\"color: #800080; text-decoration-color: #800080; font-weight: bold\">warnings.warn</span><span style=\"font-weight: bold\">(</span>msg, <span style=\"color: #808000; text-decoration-color: #808000\">stacklevel</span>=<span style=\"color: #008080; text-decoration-color: #008080; font-weight: bold\">1</span><span style=\"font-weight: bold\">)</span>                                     <span style=\"color: #7f7f7f; text-decoration-color: #7f7f7f\">               </span>\n",
       "<span style=\"color: #7fbfbf; text-decoration-color: #7fbfbf\">                    </span>                                                                                <span style=\"color: #7f7f7f; text-decoration-color: #7f7f7f\">               </span>\n",
       "</pre>\n"
      ],
      "text/plain": [
       "\u001b[2;36m                   \u001b[0m\u001b[2;36m \u001b[0m\u001b[33mWARNING \u001b[0m c:\\project\\module_project\\.venv\\lib\\site-packages\\soccerdata\\_common.p \u001b]8;id=857332;file://C:\\Users\\User\\AppData\\Local\\Programs\\Python\\Python39\\lib\\warnings.py\u001b\\\u001b[2mwarnings.py\u001b[0m\u001b]8;;\u001b\\\u001b[2m:\u001b[0m\u001b]8;id=358591;file://C:\\Users\\User\\AppData\\Local\\Programs\\Python\\Python39\\lib\\warnings.py#109\u001b\\\u001b[2m109\u001b[0m\u001b]8;;\u001b\\\n",
       "\u001b[2;36m                    \u001b[0m         y:\u001b[1;36m145\u001b[0m: UserWarning: Season id \u001b[32m\"2021\"\u001b[0m is ambiguous: interpreting as     \u001b[2m               \u001b[0m\n",
       "\u001b[2;36m                    \u001b[0m         \u001b[32m\"20-21\"\u001b[0m                                                                \u001b[2m               \u001b[0m\n",
       "\u001b[2;36m                    \u001b[0m           \u001b[1;35mwarnings.warn\u001b[0m\u001b[1m(\u001b[0mmsg, \u001b[33mstacklevel\u001b[0m=\u001b[1;36m1\u001b[0m\u001b[1m)\u001b[0m                                     \u001b[2m               \u001b[0m\n",
       "\u001b[2;36m                    \u001b[0m                                                                                \u001b[2m               \u001b[0m\n"
      ]
     },
     "metadata": {},
     "output_type": "display_data"
    },
    {
     "name": "stdout",
     "output_type": "stream",
     "text": [
      "<class 'pandas.core.frame.DataFrame'>\n",
      "MultiIndex: 3040 entries, ('ENG-Premier League', '1617', '2016-08-13 Burnley-Swansea') to ('ENG-Premier League', '2425', '2025-05-25 Wolverhampton Wanderers-Brentford')\n",
      "Data columns (total 14 columns):\n",
      " #   Column                 Non-Null Count  Dtype         \n",
      "---  ------                 --------------  -----         \n",
      " 0   game_id                3040 non-null   Int64         \n",
      " 1   date                   3040 non-null   datetime64[ns]\n",
      " 2   home_team              3040 non-null   string        \n",
      " 3   away_team              3040 non-null   string        \n",
      " 4   home_goals             3040 non-null   Int64         \n",
      " 5   away_goals             3040 non-null   Int64         \n",
      " 6   home_expected_points   3040 non-null   Float64       \n",
      " 7   away_expected_points   3040 non-null   Float64       \n",
      " 8   home_xg                3040 non-null   Float64       \n",
      " 9   away_xg                3040 non-null   Float64       \n",
      " 10  home_ppda              3040 non-null   Float64       \n",
      " 11  away_ppda              3040 non-null   Float64       \n",
      " 12  home_deep_completions  3040 non-null   Int64         \n",
      " 13  away_deep_completions  3040 non-null   Int64         \n",
      "dtypes: Float64(6), Int64(5), datetime64[ns](1), string(2)\n",
      "memory usage: 465.9+ KB\n"
     ]
    }
   ],
   "source": [
    "# ────────────────────────────────────────\n",
    "# 1) Understat 2016~2025 EPL 경기 로드\n",
    "# ────────────────────────────────────────\n",
    "LEAGUE  = [\"ENG-Premier League\"]\n",
    "SEASONS = [2016, 2017, 2018, 2019, 2020, 2021, 2022, 2023, 2024]                    # 2016 ~ 2025\n",
    "\n",
    "us = Understat(leagues=LEAGUE, seasons=SEASONS)\n",
    "stats = us.read_team_match_stats()          \n",
    "\n",
    "# # 필요한 컬럼만\n",
    "stats = stats[['game_id', 'date','home_team', 'away_team', 'home_goals', 'away_goals', 'home_expected_points', 'away_expected_points', 'home_xg', 'away_xg', 'home_ppda', 'away_ppda', 'home_deep_completions', 'away_deep_completions']]\n",
    "\n",
    "stats.info()"
   ]
  },
  {
   "cell_type": "code",
   "execution_count": null,
   "id": "a2fc5b7d",
   "metadata": {},
   "outputs": [],
   "source": [
    "# 2-4 데이터 전처리 : Standardize(표준화), OneHotEncoding(원-핫 인코딩)\n",
    "log_columns = ['HomeElo', 'AwayElo'] # 로그 변환할 columns\n",
    "standarize_columns = ['HomeElo', 'AwayElo', 'GF3Home', 'GA3Home', 'GF5Home', 'GA5Home', 'GF3Away', 'GA3Away', 'GF5Away', 'GA5Away']  # 표준화할 columns\n",
    "encoding_columns = ['HomeTeam', 'AwayTeam']  # 원-핫 인코딩할 columns\n",
    "\n",
    "# 분산이 큰 배당률 관련 columns와 Elo columns는 표준화 전에 log scale을 먼저 적용\n",
    "data_final[log_columns] = np.log1p(data_final[log_columns])\n",
    "\n",
    "# Pipeline에서 전처리 해줄 ColumnsTransformer 정의\n",
    "preprocessor = ColumnTransformer(\n",
    "    transformers=[\n",
    "        ('standardize', StandardScaler(), standarize_columns),  # 표준화\n",
    "        ('onehot', OneHotEncoder(handle_unknown='ignore', sparse_output=True), encoding_columns)  # 원-핫 인코딩\n",
    "    ],\n",
    "    remainder='passthrough'  # 나머지 컬럼은 그대로 유지\n",
    ")\n"
   ]
  },
  {
   "cell_type": "code",
   "execution_count": 3,
   "id": "6f98e95a",
   "metadata": {},
   "outputs": [],
   "source": [
    "# 1) 날짜 컬럼 → 연-월-일만 남기고 ‘MatchDate’로\n",
    "stats['MatchDate'] = pd.to_datetime(stats['date']).dt.date\n",
    "\n",
    "# 2) 팀 이름 컬럼 → 기존 데이터와 맞춰서 대문자 표기\n",
    "stats = stats.rename(columns={\n",
    "    'home_team': 'HomeTeam',\n",
    "    'away_team': 'AwayTeam'\n",
    "})\n",
    "\n",
    "# 3) 불필요해진 원본 'date' 컬럼 제거\n",
    "stats = stats.drop(columns=['date'])"
   ]
  },
  {
   "cell_type": "code",
   "execution_count": 4,
   "id": "6ea55e09",
   "metadata": {},
   "outputs": [],
   "source": [
    "# 0) 준비\n",
    "base_cols = ['game_id', 'MatchDate', 'HomeTeam','AwayTeam']\n",
    "metric_pairs = [\n",
    "    ('goals',             'home_goals',            'away_goals'),\n",
    "    ('expected_points',   'home_expected_points',  'away_expected_points'),\n",
    "    ('xg',                'home_xg',               'away_xg'),\n",
    "    ('ppda',              'home_ppda',             'away_ppda'),\n",
    "    ('deep_completions',  'home_deep_completions', 'away_deep_completions')\n",
    "]\n",
    "windows = (3, 5)\n",
    "\n",
    "# 1) long 포맷으로 변환  (team · side · metric1 …)\n",
    "long_rows = []\n",
    "for side_lbl, team_col in [('home','HomeTeam'), ('away','AwayTeam')]:\n",
    "    tmp = stats[[team_col,'MatchDate', 'game_id']].rename(columns={team_col:'Team'})\n",
    "    tmp['side'] = side_lbl\n",
    "    # 붙일 메트릭들\n",
    "    for name, h_col, a_col in metric_pairs:\n",
    "        tmp[name] = stats[h_col] if side_lbl=='home' else stats[a_col]\n",
    "    long_rows.append(tmp)\n",
    "\n",
    "long_df = pd.concat(long_rows, ignore_index=True)\n",
    "long_df = long_df.sort_values(['Team','MatchDate'])"
   ]
  },
  {
   "cell_type": "code",
   "execution_count": 5,
   "id": "b667ec9c",
   "metadata": {},
   "outputs": [
    {
     "data": {
      "text/html": [
       "<pre style=\"white-space:pre;overflow-x:auto;line-height:normal;font-family:Menlo,'DejaVu Sans Mono',consolas,'Courier New',monospace\"><span style=\"color: #7fbfbf; text-decoration-color: #7fbfbf\">[07/03/25 16:06:46] </span><span style=\"color: #808000; text-decoration-color: #808000\">WARNING </span> C:\\Users\\User\\AppData\\Local\\Temp\\ipykernel_16268\\<span style=\"color: #008080; text-decoration-color: #008080; font-weight: bold\">2656111271.</span>py:<span style=\"color: #008080; text-decoration-color: #008080; font-weight: bold\">18</span>:     <a href=\"file://C:\\Users\\User\\AppData\\Local\\Programs\\Python\\Python39\\lib\\warnings.py\" target=\"_blank\"><span style=\"color: #7f7f7f; text-decoration-color: #7f7f7f\">warnings.py</span></a><span style=\"color: #7f7f7f; text-decoration-color: #7f7f7f\">:</span><a href=\"file://C:\\Users\\User\\AppData\\Local\\Programs\\Python\\Python39\\lib\\warnings.py#109\" target=\"_blank\"><span style=\"color: #7f7f7f; text-decoration-color: #7f7f7f\">109</span></a>\n",
       "<span style=\"color: #7fbfbf; text-decoration-color: #7fbfbf\">                    </span>         FutureWarning: DataFrameGroupBy.apply operated on the grouping         <span style=\"color: #7f7f7f; text-decoration-color: #7f7f7f\">               </span>\n",
       "<span style=\"color: #7fbfbf; text-decoration-color: #7fbfbf\">                    </span>         columns. This behavior is deprecated, and in a future version of       <span style=\"color: #7f7f7f; text-decoration-color: #7f7f7f\">               </span>\n",
       "<span style=\"color: #7fbfbf; text-decoration-color: #7fbfbf\">                    </span>         pandas the grouping columns will be excluded from the operation.       <span style=\"color: #7f7f7f; text-decoration-color: #7f7f7f\">               </span>\n",
       "<span style=\"color: #7fbfbf; text-decoration-color: #7fbfbf\">                    </span>         Either pass `<span style=\"color: #808000; text-decoration-color: #808000\">include_groups</span>=<span style=\"color: #ff0000; text-decoration-color: #ff0000; font-style: italic\">False</span>` to exclude the groupings or         <span style=\"color: #7f7f7f; text-decoration-color: #7f7f7f\">               </span>\n",
       "<span style=\"color: #7fbfbf; text-decoration-color: #7fbfbf\">                    </span>         explicitly select the grouping columns after groupby to silence this   <span style=\"color: #7f7f7f; text-decoration-color: #7f7f7f\">               </span>\n",
       "<span style=\"color: #7fbfbf; text-decoration-color: #7fbfbf\">                    </span>         warning.                                                               <span style=\"color: #7f7f7f; text-decoration-color: #7f7f7f\">               </span>\n",
       "<span style=\"color: #7fbfbf; text-decoration-color: #7fbfbf\">                    </span>           long_df                                                              <span style=\"color: #7f7f7f; text-decoration-color: #7f7f7f\">               </span>\n",
       "<span style=\"color: #7fbfbf; text-decoration-color: #7fbfbf\">                    </span>                                                                                <span style=\"color: #7f7f7f; text-decoration-color: #7f7f7f\">               </span>\n",
       "</pre>\n"
      ],
      "text/plain": [
       "\u001b[2;36m[07/03/25 16:06:46]\u001b[0m\u001b[2;36m \u001b[0m\u001b[33mWARNING \u001b[0m C:\\Users\\User\\AppData\\Local\\Temp\\ipykernel_16268\\\u001b[1;36m2656111271.\u001b[0mpy:\u001b[1;36m18\u001b[0m:     \u001b]8;id=516918;file://C:\\Users\\User\\AppData\\Local\\Programs\\Python\\Python39\\lib\\warnings.py\u001b\\\u001b[2mwarnings.py\u001b[0m\u001b]8;;\u001b\\\u001b[2m:\u001b[0m\u001b]8;id=925661;file://C:\\Users\\User\\AppData\\Local\\Programs\\Python\\Python39\\lib\\warnings.py#109\u001b\\\u001b[2m109\u001b[0m\u001b]8;;\u001b\\\n",
       "\u001b[2;36m                    \u001b[0m         FutureWarning: DataFrameGroupBy.apply operated on the grouping         \u001b[2m               \u001b[0m\n",
       "\u001b[2;36m                    \u001b[0m         columns. This behavior is deprecated, and in a future version of       \u001b[2m               \u001b[0m\n",
       "\u001b[2;36m                    \u001b[0m         pandas the grouping columns will be excluded from the operation.       \u001b[2m               \u001b[0m\n",
       "\u001b[2;36m                    \u001b[0m         Either pass `\u001b[33minclude_groups\u001b[0m=\u001b[3;91mFalse\u001b[0m` to exclude the groupings or         \u001b[2m               \u001b[0m\n",
       "\u001b[2;36m                    \u001b[0m         explicitly select the grouping columns after groupby to silence this   \u001b[2m               \u001b[0m\n",
       "\u001b[2;36m                    \u001b[0m         warning.                                                               \u001b[2m               \u001b[0m\n",
       "\u001b[2;36m                    \u001b[0m           long_df                                                              \u001b[2m               \u001b[0m\n",
       "\u001b[2;36m                    \u001b[0m                                                                                \u001b[2m               \u001b[0m\n"
      ]
     },
     "metadata": {},
     "output_type": "display_data"
    }
   ],
   "source": [
    "# 팀별 평균 (shift(1) ⇒ 현재 경기 제외)\n",
    "metrics = [m[0] for m in metric_pairs]\n",
    "\n",
    "def add_roll(df):\n",
    "    df = df.copy()\n",
    "    for w in windows:\n",
    "        roll = (\n",
    "            df[metrics]\n",
    "              .rolling(window=w, min_periods=1)\n",
    "              .mean()\n",
    "              .shift(1)\n",
    "        )\n",
    "        roll.columns = [f'{c}_l{w}' for c in roll.columns]\n",
    "        df = pd.concat([df, roll], axis=1)\n",
    "    return df\n",
    "\n",
    "long_roll = (\n",
    "    long_df\n",
    "      .groupby('Team', group_keys=False)\n",
    "      .apply(add_roll)\n",
    ")"
   ]
  },
  {
   "cell_type": "code",
   "execution_count": 6,
   "id": "927a5aff",
   "metadata": {},
   "outputs": [],
   "source": [
    "# 3) 홈·원정 다시 wide 형식으로 pivot\n",
    "roll_cols = [c for c in long_roll.columns if c.endswith(('l3','l5'))]\n",
    "\n",
    "home_df = (\n",
    "    long_roll[long_roll['side'] == 'home']\n",
    "      [['game_id', 'MatchDate', 'Team', *roll_cols]]\n",
    "      .rename(columns={**{c: f'home_{c}' for c in roll_cols},\n",
    "                       'Team': 'HomeTeam'})\n",
    ")\n",
    "\n",
    "away_df = (\n",
    "    long_roll[long_roll['side'] == 'away']\n",
    "      [['game_id', 'MatchDate', 'Team', *roll_cols]]\n",
    "      .rename(columns={**{c: f'away_{c}' for c in roll_cols},\n",
    "                       'Team': 'AwayTeam'})\n",
    ")\n",
    "\n",
    "feat_df = home_df.merge(away_df, on=['game_id','MatchDate'], how='inner')\n"
   ]
  },
  {
   "cell_type": "code",
   "execution_count": 7,
   "id": "7521734f",
   "metadata": {},
   "outputs": [],
   "source": [
    "# 1) 홈팀 롤링 피처\n",
    "home_cols = [c for c in feat_df.columns if c.startswith('home_')]\n",
    "home_feat = (feat_df[['game_id','MatchDate','HomeTeam', *home_cols]]\n",
    "             .drop_duplicates())\n",
    "\n",
    "stats = stats.merge(\n",
    "    home_feat,\n",
    "    on=['game_id','MatchDate','HomeTeam'],\n",
    "    how='left'\n",
    ")\n",
    "\n",
    "# 2) 원정팀 롤링 피처\n",
    "away_cols = [c for c in feat_df.columns if c.startswith('away_')]\n",
    "away_feat = (feat_df[['game_id','MatchDate','AwayTeam', *away_cols]]\n",
    "             .drop_duplicates())\n",
    "\n",
    "stats = stats.merge(\n",
    "    away_feat,\n",
    "    on=['game_id','MatchDate','AwayTeam'],\n",
    "    how='left'\n",
    ")"
   ]
  },
  {
   "cell_type": "code",
   "execution_count": 8,
   "id": "2a33b821",
   "metadata": {},
   "outputs": [
    {
     "name": "stdout",
     "output_type": "stream",
     "text": [
      "<class 'pandas.core.frame.DataFrame'>\n",
      "RangeIndex: 3040 entries, 0 to 3039\n",
      "Data columns (total 34 columns):\n",
      " #   Column                    Non-Null Count  Dtype  \n",
      "---  ------                    --------------  -----  \n",
      " 0   game_id                   3040 non-null   Int64  \n",
      " 1   HomeTeam                  3040 non-null   string \n",
      " 2   AwayTeam                  3040 non-null   string \n",
      " 3   home_goals                3040 non-null   Int64  \n",
      " 4   away_goals                3040 non-null   Int64  \n",
      " 5   home_expected_points      3040 non-null   Float64\n",
      " 6   away_expected_points      3040 non-null   Float64\n",
      " 7   home_xg                   3040 non-null   Float64\n",
      " 8   away_xg                   3040 non-null   Float64\n",
      " 9   home_ppda                 3040 non-null   Float64\n",
      " 10  away_ppda                 3040 non-null   Float64\n",
      " 11  home_deep_completions     3040 non-null   Int64  \n",
      " 12  away_deep_completions     3040 non-null   Int64  \n",
      " 13  MatchDate                 3040 non-null   object \n",
      " 14  home_goals_l3             3025 non-null   float64\n",
      " 15  home_expected_points_l3   3025 non-null   float64\n",
      " 16  home_xg_l3                3025 non-null   float64\n",
      " 17  home_ppda_l3              3025 non-null   float64\n",
      " 18  home_deep_completions_l3  3025 non-null   float64\n",
      " 19  home_goals_l5             3025 non-null   float64\n",
      " 20  home_expected_points_l5   3025 non-null   float64\n",
      " 21  home_xg_l5                3025 non-null   float64\n",
      " 22  home_ppda_l5              3025 non-null   float64\n",
      " 23  home_deep_completions_l5  3025 non-null   float64\n",
      " 24  away_goals_l3             3021 non-null   float64\n",
      " 25  away_expected_points_l3   3021 non-null   float64\n",
      " 26  away_xg_l3                3021 non-null   float64\n",
      " 27  away_ppda_l3              3021 non-null   float64\n",
      " 28  away_deep_completions_l3  3021 non-null   float64\n",
      " 29  away_goals_l5             3021 non-null   float64\n",
      " 30  away_expected_points_l5   3021 non-null   float64\n",
      " 31  away_xg_l5                3021 non-null   float64\n",
      " 32  away_ppda_l5              3021 non-null   float64\n",
      " 33  away_deep_completions_l5  3021 non-null   float64\n",
      "dtypes: Float64(6), Int64(5), float64(20), object(1), string(2)\n",
      "memory usage: 840.3+ KB\n"
     ]
    }
   ],
   "source": [
    "stats.info()"
   ]
  },
  {
   "cell_type": "code",
   "execution_count": null,
   "id": "6eed78c3",
   "metadata": {},
   "outputs": [],
   "source": [
    "stats_clean = stats[['MatchDate', 'HomeTeam', 'AwayTeam', 'home_xg_l3', 'home_xg_l5', 'away_xg_l3', 'away_xg_l5', 'home_ppda_l3', 'home_ppda_l5', 'away_ppda_l3', 'away_ppda_l5', 'home_deep_completions_l3', 'home_deep_completions_l5', 'away_deep_completions_l3', 'away_deep_completions_l5']].copy()"
   ]
  },
  {
   "cell_type": "code",
   "execution_count": 11,
   "id": "4a995c22",
   "metadata": {},
   "outputs": [
    {
     "name": "stdout",
     "output_type": "stream",
     "text": [
      "<class 'pandas.core.frame.DataFrame'>\n",
      "RangeIndex: 3040 entries, 0 to 3039\n",
      "Data columns (total 15 columns):\n",
      " #   Column                    Non-Null Count  Dtype  \n",
      "---  ------                    --------------  -----  \n",
      " 0   MatchDate                 3040 non-null   object \n",
      " 1   HomeTeam                  3040 non-null   string \n",
      " 2   AwayTeam                  3040 non-null   string \n",
      " 3   home_xg_l3                3025 non-null   float64\n",
      " 4   home_xg_l5                3025 non-null   float64\n",
      " 5   away_xg_l3                3021 non-null   float64\n",
      " 6   away_xg_l5                3021 non-null   float64\n",
      " 7   home_ppda_l3              3025 non-null   float64\n",
      " 8   home_ppda_l5              3025 non-null   float64\n",
      " 9   away_ppda_l3              3021 non-null   float64\n",
      " 10  away_ppda_l5              3021 non-null   float64\n",
      " 11  home_deep_completions_l3  3025 non-null   float64\n",
      " 12  home_deep_completions_l5  3025 non-null   float64\n",
      " 13  away_deep_completions_l3  3021 non-null   float64\n",
      " 14  away_deep_completions_l5  3021 non-null   float64\n",
      "dtypes: float64(12), object(1), string(2)\n",
      "memory usage: 356.4+ KB\n"
     ]
    }
   ],
   "source": [
    "stats_clean.info()"
   ]
  },
  {
   "cell_type": "code",
   "execution_count": 12,
   "id": "15f61a9d",
   "metadata": {},
   "outputs": [],
   "source": [
    "stats_clean.to_csv('xg_data.csv', index=False)"
   ]
  }
 ],
 "metadata": {
  "kernelspec": {
   "display_name": ".venv",
   "language": "python",
   "name": "python3"
  },
  "language_info": {
   "codemirror_mode": {
    "name": "ipython",
    "version": 3
   },
   "file_extension": ".py",
   "mimetype": "text/x-python",
   "name": "python",
   "nbconvert_exporter": "python",
   "pygments_lexer": "ipython3",
   "version": "3.9.13"
  }
 },
 "nbformat": 4,
 "nbformat_minor": 5
}
