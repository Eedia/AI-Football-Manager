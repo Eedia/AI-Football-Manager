{
 "cells": [
  {
   "cell_type": "code",
   "execution_count": 3,
   "id": "44bf36a6",
   "metadata": {},
   "outputs": [],
   "source": [
    "# pip install openai\n",
    "# pip install streamlit\n",
    "# pip install dotenv"
   ]
  },
  {
   "cell_type": "code",
   "execution_count": 4,
   "id": "085e9684",
   "metadata": {},
   "outputs": [],
   "source": [
    "import streamlit as st\n",
    "\n",
    "from openai import OpenAI\n",
    "from dotenv import load_dotenv\n",
    "import os\n",
    "\n",
    "import joblib\n",
    "import pandas as pd\n",
    "import numpy as np"
   ]
  },
  {
   "cell_type": "code",
   "execution_count": 5,
   "id": "38285638",
   "metadata": {},
   "outputs": [],
   "source": [
    "# Chat GPT API 설정\n",
    "load_dotenv()\n",
    "OPENAI_API_KEY = os.getenv('OPENAI_API_KEY')\n",
    "client = OpenAI(api_key = OPENAI_API_KEY)"
   ]
  },
  {
   "cell_type": "code",
   "execution_count": null,
   "id": "b64e279d",
   "metadata": {},
   "outputs": [],
   "source": [
    "tools_presume = [\n",
    "    {\n",
    "        \"type\" : \"function\",\n",
    "        \"name\" : \"get_today_date\",\n",
    "        \"description\" : \"오늘 날짜를 YYYY-MM-DD형식으로 출력\",\n",
    "        \"parameters\" : {\n",
    "            \"type\" : \"object\",\n",
    "            \"properties\" : {},\n",
    "            \"required\" : []\n",
    "        }\n",
    "    }\n",
    "]"
   ]
  },
  {
   "cell_type": "code",
   "execution_count": null,
   "id": "7492d64d",
   "metadata": {},
   "outputs": [],
   "source": [
    "# 날짜, 홈팀, 어웨이팀을 넣으면 과거의 경기를 예측해준다.\n",
    "def presume_match_past(MatchDate, HomeTeam, AwayTeam) :\n",
    "    # 예측 모델 및 데이터 불러오기\n",
    "    model = joblib.load('./model_final.pkl')\n",
    "    data = pd.read_csv('./data_final.csv')\n",
    "\n",
    "    # MatchDate를 datetime 형식으로 변환\n",
    "    data['MatchDate'] = pd.to_datetime(data['MatchDate'])\n",
    "    MatchDate = pd.to_datetime(MatchDate)\n",
    "\n",
    "    data_for_predict = data[(data['MatchDate'] == MatchDate) & (data['HomeTeam'] == HomeTeam) & (data['AwayTeam'] == AwayTeam)]\n",
    "    data_for_predict = data_for_predict.drop(columns=['MatchDate'])\n",
    "\n",
    "    # 예측을 위한 데이터가 있는지 확인\n",
    "    if data_for_predict.empty :\n",
    "        # 해당 날짜에 대한 경기 데이터가 없는 경우\n",
    "        print(\"해당 날짜에 대한 경기 데이터가 없습니다 ㅠㅠ\")\n",
    "        return \n",
    "\n",
    "    else :\n",
    "        # 데이터 전처리(로그 스케일)\n",
    "        log_columns = ['HomeElo', 'AwayElo'] # 로그 변환할 columns\n",
    "        data_for_predict[log_columns] = np.log1p(data_for_predict[log_columns])\n",
    "\n",
    "        prob = model.predict_proba(data_for_predict)\n",
    "        \n",
    "\n",
    "    print(prob)\n",
    "\n",
    "    # 확률을 반환 0: 홈팀 승리 확률, 1: 어웨이팀 승리 확률\n",
    "    return prob\n",
    "\n",
    "\n",
    "# 홈팀, 어웨이팀을 넣으면 가장 최근 경기 결과를 토대로 미래 경기를 예측한다.\n",
    "def presume_match(HomeTeam, AwayTeam) :\n",
    "    data = pd.read_csv('./data_final.csv')\n",
    "    model = joblib.load('./model_final.pkl')\n",
    "\n",
    "    # 2) 홈·어웨이 조건으로 필터링\n",
    "    sub = data[(data['HomeTeam'] == HomeTeam) & (data['AwayTeam'] == AwayTeam)]\n",
    "    if sub.empty:\n",
    "        print(\"두 팀의 맞대결 기록이 없습니다.\")\n",
    "        return None\n",
    "\n",
    "    # 3) 가장 최근 경기 한 건 선택\n",
    "    data_for_predict = sub.sort_values('MatchDate', ascending=False).iloc[0:1]  # DataFrame 형태 유지\n",
    "\n",
    "\n",
    "    # 예측을 위한 데이터가 있는지 확인\n",
    "    if data_for_predict.empty :\n",
    "        # 해당 날짜에 대한 경기 데이터가 없는 경우\n",
    "        print(\"해당 날짜에 대한 경기 데이터가 없습니다 ㅠㅠ\")\n",
    "        return \n",
    "\n",
    "    else :\n",
    "        # 데이터 전처리(로그 스케일)\n",
    "        log_columns = ['HomeElo', 'AwayElo'] # 로그 변환할 columns\n",
    "        data_for_predict[log_columns] = np.log1p(data_for_predict[log_columns])\n",
    "\n",
    "        prob = model.predict_proba(data_for_predict)\n",
    "\n",
    "    # 확률을 반환 0: 홈팀 승리 확률, 1: 어웨이팀 승리 확률\n",
    "    return prob\n",
    "\n"
   ]
  },
  {
   "cell_type": "code",
   "execution_count": 14,
   "id": "3b9da10c",
   "metadata": {},
   "outputs": [
    {
     "name": "stdout",
     "output_type": "stream",
     "text": [
      "[[0.53849707 0.46150293]]\n"
     ]
    },
    {
     "data": {
      "text/plain": [
       "array([[0.53849707, 0.46150293]])"
      ]
     },
     "execution_count": 14,
     "metadata": {},
     "output_type": "execute_result"
    }
   ],
   "source": [
    "# 2020-12-27 , Wolves ,Tottenham\n",
    "presume_match_past('2020-12-27', 'Wolves', 'Tottenham')"
   ]
  },
  {
   "cell_type": "code",
   "execution_count": 13,
   "id": "ea533f98",
   "metadata": {},
   "outputs": [
    {
     "name": "stdout",
     "output_type": "stream",
     "text": [
      "[[0.41121914 0.58878086]]\n"
     ]
    },
    {
     "data": {
      "text/plain": [
       "array([[0.41121914, 0.58878086]])"
      ]
     },
     "execution_count": 13,
     "metadata": {},
     "output_type": "execute_result"
    }
   ],
   "source": [
    "presume_match('Wolves', 'Brentford')"
   ]
  }
 ],
 "metadata": {
  "kernelspec": {
   "display_name": ".venv",
   "language": "python",
   "name": "python3"
  },
  "language_info": {
   "codemirror_mode": {
    "name": "ipython",
    "version": 3
   },
   "file_extension": ".py",
   "mimetype": "text/x-python",
   "name": "python",
   "nbconvert_exporter": "python",
   "pygments_lexer": "ipython3",
   "version": "3.9.13"
  }
 },
 "nbformat": 4,
 "nbformat_minor": 5
}
