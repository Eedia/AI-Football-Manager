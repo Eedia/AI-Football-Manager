{
 "cells": [
  {
   "cell_type": "markdown",
   "id": "2538510c",
   "metadata": {},
   "source": [
    "### 승부예측을 위해 데이터를 수집하는 코드\n",
    "- 3개의 파라미터가 필요 (EPL) \n",
    "    1. 경기일자\n",
    "    2. 팀1\n",
    "    3. 팀2"
   ]
  },
  {
   "cell_type": "code",
   "execution_count": 26,
   "id": "e8b2237e",
   "metadata": {},
   "outputs": [],
   "source": [
    "import pandas as pd\n",
    "import soccerdata as sd\n",
    "\n",
    "class DataCollector: \n",
    "    def __init__(self):\n",
    "        self.fbref = sd.FBref(\n",
    "            leagues=\"ENG-Premier League\",\n",
    "            seasons=\"2425\",  # 2024-2025 시즌\n",
    "            no_cache=True\n",
    "        )\n",
    "        self.clubelo = sd.ClubElo()\n",
    "        self.team_name_map = {\n",
    "            \"Arsenal\": \"Arsenal\",\n",
    "            \"Aston Villa\": \"Aston Villa\",\n",
    "            \"Bournemouth\": \"Bournemouth\",\n",
    "            \"Brentford\": \"Brentford\",\n",
    "            \"Brighton\": \"Brighton\",\n",
    "            \"Chelsea\": \"Chelsea\",\n",
    "            \"Crystal Palace\": \"Crystal Palace\",\n",
    "            \"Everton\": \"Everton\",\n",
    "            \"Fulham\": \"Fulham\",\n",
    "            \"Leeds United\": \"Leeds United\",\n",
    "            \"Liverpool\": \"Liverpool\",\n",
    "            \"Man City\": \"Man City\",\n",
    "            \"Man Utd\": \"Man Utd\",\n",
    "            \"Newcastle\": \"Newcastle\",\n",
    "            \"Nottingham Forest\": \"Nottingham Forest\",\n",
    "            \"Southampton\": \"Southampton\",\n",
    "            \"Spurs\": \"Spurs\",\n",
    "            \"West Ham\": \"West Ham\",\n",
    "            \"Wolves\": \"Wolves\"\n",
    "        }\n",
    "\n",
    "    def get_team_elo(self, team_alias, match_date):\n",
    "        official_name = self.team_name_map.get(team_alias, team_alias)\n",
    "        match_date = pd.to_datetime(match_date)\n",
    "        day_before = match_date - pd.Timedelta(days=1)\n",
    "\n",
    "        try:\n",
    "            df = self.clubelo.read_by_date(date=day_before).reset_index()\n",
    "        except Exception as e:\n",
    "            print(f\"Elo 데이터 로딩 실패: {e}\")\n",
    "            return None\n",
    "\n",
    "        filtered = df[df[\"team\"].str.lower() == official_name.lower()]\n",
    "        if filtered.empty:\n",
    "            print(f\"Elo 데이터 없음: {official_name} on {day_before.date()}\")\n",
    "            return None\n",
    "        return filtered.iloc[0][\"elo\"]\n",
    "\n",
    "    def get_last_n_matches_goal_diff(self, team_name, n):\n",
    "        sched = self.fbref.read_schedule().reset_index()\n",
    "        team_lower = team_name.lower()\n",
    "\n",
    "        mask = sched[\"home_team\"].str.lower().str.contains(team_lower, na=False) \\\n",
    "            | sched[\"away_team\"].str.lower().str.contains(team_lower, na=False)\n",
    "        tm = sched.loc[mask].copy()\n",
    "\n",
    "        tm[\"date\"] = pd.to_datetime(tm[\"date\"])\n",
    "        tm = tm.sort_values(\"date\")\n",
    "        tm[\"score\"] = tm[\"score\"].str.replace(\"–\", \"-\", regex=False)\n",
    "        tm = tm[tm[\"score\"].str.contains(r\"\\d+\\s*-\\s*\\d+\", na=False)].copy()\n",
    "\n",
    "        goals = tm[\"score\"].str.extract(r\"(\\d+)\\s*-\\s*(\\d+)\")\n",
    "        tm[\"home_goals\"] = pd.to_numeric(goals[0], errors=\"coerce\")\n",
    "        tm[\"away_goals\"] = pd.to_numeric(goals[1], errors=\"coerce\")\n",
    "\n",
    "        last_n = tm.tail(n)\n",
    "        if last_n.empty:\n",
    "            return pd.DataFrame()\n",
    "\n",
    "        records = []\n",
    "        for _, row in last_n.iterrows():\n",
    "            if team_lower in row[\"home_team\"].lower():\n",
    "                gf, ga = row[\"home_goals\"], row[\"away_goals\"]\n",
    "                opp = row[\"away_team\"]\n",
    "            else:\n",
    "                gf, ga = row[\"away_goals\"], row[\"home_goals\"]\n",
    "                opp = row[\"home_team\"]\n",
    "\n",
    "            records.append({\n",
    "                \"date\": row[\"date\"].date(),\n",
    "                \"opponent\": opp,\n",
    "                \"goals_for\": int(gf),\n",
    "                \"goals_against\": int(ga),\n",
    "                \"goal_diff\": int(gf - ga)\n",
    "            })\n",
    "\n",
    "        return pd.DataFrame(records)\n",
    "\n",
    "    def collect_features(self, match_date, home_team, away_team):\n",
    "        match_date = pd.to_datetime(match_date)\n",
    "\n",
    "        def get_stats(team, n):\n",
    "            df = self.get_last_n_matches_goal_diff(team, 20)\n",
    "            df = df[df[\"date\"] < match_date.date()]\n",
    "            df = df.sort_values(\"date\").tail(n)\n",
    "            gf = df[\"goals_for\"].sum()\n",
    "            ga = df[\"goals_against\"].sum()\n",
    "            form = df[\"goal_diff\"].apply(lambda x: 3 if x > 0 else 1 if x == 0 else 0).sum()\n",
    "            return int(gf), int(ga), int(form)\n",
    "\n",
    "        gf3h, ga3h, form3h = get_stats(home_team, 3)\n",
    "        gf5h, ga5h, form5h = get_stats(home_team, 5)\n",
    "        gf3a, ga3a, form3a = get_stats(away_team, 3)\n",
    "        gf5a, ga5a, form5a = get_stats(away_team, 5)\n",
    "\n",
    "        elo_home = self.get_team_elo(home_team, match_date)\n",
    "        elo_away = self.get_team_elo(away_team, match_date)\n",
    "\n",
    "        data = {\n",
    "            \"MatchDate\": match_date.date(),\n",
    "            \"HomeTeam\": home_team,\n",
    "            \"AwayTeam\": away_team,\n",
    "            \"GF3Home\": gf3h,\n",
    "            \"GA3Home\": ga3h,\n",
    "            \"GF5Home\": gf5h,\n",
    "            \"GA5Home\": ga5h,\n",
    "            \"GF3Away\": gf3a,\n",
    "            \"GA3Away\": ga3a,\n",
    "            \"GF5Away\": gf5a,\n",
    "            \"GA5Away\": ga5a,\n",
    "            \"Form3Home\": form3h,\n",
    "            \"Form5Home\": form5h,\n",
    "            \"Form3Away\": form3a,\n",
    "            \"Form5Away\": form5a,\n",
    "            \"HomeElo\": elo_home,\n",
    "            \"AwayElo\": elo_away\n",
    "        }\n",
    "\n",
    "        return pd.DataFrame([data])\n",
    "\n"
   ]
  },
  {
   "cell_type": "code",
   "execution_count": 27,
   "id": "45bc0900",
   "metadata": {},
   "outputs": [
    {
     "data": {
      "text/html": [
       "<pre style=\"white-space:pre;overflow-x:auto;line-height:normal;font-family:Menlo,'DejaVu Sans Mono',consolas,'Courier New',monospace\"><span style=\"color: #7fbfbf; text-decoration-color: #7fbfbf\">[07/03/25 13:34:35] </span><span style=\"color: #000080; text-decoration-color: #000080\">INFO    </span> Saving cached data to C:\\Users\\ez\\soccerdata\\data\\FBref                 <a href=\"file://c:\\Users\\ez\\Documents\\GitHub\\AI-Football-Manager\\.venv\\lib\\site-packages\\soccerdata\\_common.py\" target=\"_blank\"><span style=\"color: #7f7f7f; text-decoration-color: #7f7f7f\">_common.py</span></a><span style=\"color: #7f7f7f; text-decoration-color: #7f7f7f\">:</span><a href=\"file://c:\\Users\\ez\\Documents\\GitHub\\AI-Football-Manager\\.venv\\lib\\site-packages\\soccerdata\\_common.py#263\" target=\"_blank\"><span style=\"color: #7f7f7f; text-decoration-color: #7f7f7f\">263</span></a>\n",
       "</pre>\n"
      ],
      "text/plain": [
       "\u001b[2;36m[07/03/25 13:34:35]\u001b[0m\u001b[2;36m \u001b[0m\u001b[34mINFO    \u001b[0m Saving cached data to C:\\Users\\ez\\soccerdata\\data\\FBref                 \u001b]8;id=297953;file://c:\\Users\\ez\\Documents\\GitHub\\AI-Football-Manager\\.venv\\lib\\site-packages\\soccerdata\\_common.py\u001b\\\u001b[2m_common.py\u001b[0m\u001b]8;;\u001b\\\u001b[2m:\u001b[0m\u001b]8;id=17685;file://c:\\Users\\ez\\Documents\\GitHub\\AI-Football-Manager\\.venv\\lib\\site-packages\\soccerdata\\_common.py#263\u001b\\\u001b[2m263\u001b[0m\u001b]8;;\u001b\\\n"
      ]
     },
     "metadata": {},
     "output_type": "display_data"
    },
    {
     "data": {
      "text/html": [
       "<pre style=\"white-space:pre;overflow-x:auto;line-height:normal;font-family:Menlo,'DejaVu Sans Mono',consolas,'Courier New',monospace\"><span style=\"color: #7fbfbf; text-decoration-color: #7fbfbf\">                    </span><span style=\"color: #000080; text-decoration-color: #000080\">INFO    </span> Saving cached data to C:\\Users\\ez\\soccerdata\\data\\ClubElo               <a href=\"file://c:\\Users\\ez\\Documents\\GitHub\\AI-Football-Manager\\.venv\\lib\\site-packages\\soccerdata\\_common.py\" target=\"_blank\"><span style=\"color: #7f7f7f; text-decoration-color: #7f7f7f\">_common.py</span></a><span style=\"color: #7f7f7f; text-decoration-color: #7f7f7f\">:</span><a href=\"file://c:\\Users\\ez\\Documents\\GitHub\\AI-Football-Manager\\.venv\\lib\\site-packages\\soccerdata\\_common.py#263\" target=\"_blank\"><span style=\"color: #7f7f7f; text-decoration-color: #7f7f7f\">263</span></a>\n",
       "</pre>\n"
      ],
      "text/plain": [
       "\u001b[2;36m                   \u001b[0m\u001b[2;36m \u001b[0m\u001b[34mINFO    \u001b[0m Saving cached data to C:\\Users\\ez\\soccerdata\\data\\ClubElo               \u001b]8;id=952523;file://c:\\Users\\ez\\Documents\\GitHub\\AI-Football-Manager\\.venv\\lib\\site-packages\\soccerdata\\_common.py\u001b\\\u001b[2m_common.py\u001b[0m\u001b]8;;\u001b\\\u001b[2m:\u001b[0m\u001b]8;id=917571;file://c:\\Users\\ez\\Documents\\GitHub\\AI-Football-Manager\\.venv\\lib\\site-packages\\soccerdata\\_common.py#263\u001b\\\u001b[2m263\u001b[0m\u001b]8;;\u001b\\\n"
      ]
     },
     "metadata": {},
     "output_type": "display_data"
    },
    {
     "data": {
      "text/html": [
       "<pre style=\"white-space:pre;overflow-x:auto;line-height:normal;font-family:Menlo,'DejaVu Sans Mono',consolas,'Courier New',monospace\"><span style=\"color: #7fbfbf; text-decoration-color: #7fbfbf\">[07/03/25 13:34:42] </span><span style=\"color: #808000; text-decoration-color: #808000\">WARNING </span> c:\\Users\\ez\\Documents\\GitHub\\AI-Football-Manager\\.venv\\lib\\site-packag <a href=\"file://C:\\Users\\ez\\AppData\\Local\\Programs\\Python\\Python39\\lib\\warnings.py\" target=\"_blank\"><span style=\"color: #7f7f7f; text-decoration-color: #7f7f7f\">warnings.py</span></a><span style=\"color: #7f7f7f; text-decoration-color: #7f7f7f\">:</span><a href=\"file://C:\\Users\\ez\\AppData\\Local\\Programs\\Python\\Python39\\lib\\warnings.py#109\" target=\"_blank\"><span style=\"color: #7f7f7f; text-decoration-color: #7f7f7f\">109</span></a>\n",
       "<span style=\"color: #7fbfbf; text-decoration-color: #7fbfbf\">                    </span>         es\\soccerdata\\fbref.py:<span style=\"color: #008080; text-decoration-color: #008080; font-weight: bold\">165</span>: FutureWarning: The behavior of DataFrame   <span style=\"color: #7f7f7f; text-decoration-color: #7f7f7f\">               </span>\n",
       "<span style=\"color: #7fbfbf; text-decoration-color: #7fbfbf\">                    </span>         concatenation with empty or all-NA entries is deprecated. In a future  <span style=\"color: #7f7f7f; text-decoration-color: #7f7f7f\">               </span>\n",
       "<span style=\"color: #7fbfbf; text-decoration-color: #7fbfbf\">                    </span>         version, this will no longer exclude empty or all-NA columns when      <span style=\"color: #7f7f7f; text-decoration-color: #7f7f7f\">               </span>\n",
       "<span style=\"color: #7fbfbf; text-decoration-color: #7fbfbf\">                    </span>         determining the result dtypes. To retain the old behavior, exclude the <span style=\"color: #7f7f7f; text-decoration-color: #7f7f7f\">               </span>\n",
       "<span style=\"color: #7fbfbf; text-decoration-color: #7fbfbf\">                    </span>         relevant entries before the concat operation.                          <span style=\"color: #7f7f7f; text-decoration-color: #7f7f7f\">               </span>\n",
       "<span style=\"color: #7fbfbf; text-decoration-color: #7fbfbf\">                    </span>           <span style=\"color: #800080; text-decoration-color: #800080; font-weight: bold\">pd.concat</span><span style=\"font-weight: bold\">(</span>dfs<span style=\"font-weight: bold\">)</span>                                                       <span style=\"color: #7f7f7f; text-decoration-color: #7f7f7f\">               </span>\n",
       "<span style=\"color: #7fbfbf; text-decoration-color: #7fbfbf\">                    </span>                                                                                <span style=\"color: #7f7f7f; text-decoration-color: #7f7f7f\">               </span>\n",
       "</pre>\n"
      ],
      "text/plain": [
       "\u001b[2;36m[07/03/25 13:34:42]\u001b[0m\u001b[2;36m \u001b[0m\u001b[33mWARNING \u001b[0m c:\\Users\\ez\\Documents\\GitHub\\AI-Football-Manager\\.venv\\lib\\site-packag \u001b]8;id=400874;file://C:\\Users\\ez\\AppData\\Local\\Programs\\Python\\Python39\\lib\\warnings.py\u001b\\\u001b[2mwarnings.py\u001b[0m\u001b]8;;\u001b\\\u001b[2m:\u001b[0m\u001b]8;id=387663;file://C:\\Users\\ez\\AppData\\Local\\Programs\\Python\\Python39\\lib\\warnings.py#109\u001b\\\u001b[2m109\u001b[0m\u001b]8;;\u001b\\\n",
       "\u001b[2;36m                    \u001b[0m         es\\soccerdata\\fbref.py:\u001b[1;36m165\u001b[0m: FutureWarning: The behavior of DataFrame   \u001b[2m               \u001b[0m\n",
       "\u001b[2;36m                    \u001b[0m         concatenation with empty or all-NA entries is deprecated. In a future  \u001b[2m               \u001b[0m\n",
       "\u001b[2;36m                    \u001b[0m         version, this will no longer exclude empty or all-NA columns when      \u001b[2m               \u001b[0m\n",
       "\u001b[2;36m                    \u001b[0m         determining the result dtypes. To retain the old behavior, exclude the \u001b[2m               \u001b[0m\n",
       "\u001b[2;36m                    \u001b[0m         relevant entries before the concat operation.                          \u001b[2m               \u001b[0m\n",
       "\u001b[2;36m                    \u001b[0m           \u001b[1;35mpd.concat\u001b[0m\u001b[1m(\u001b[0mdfs\u001b[1m)\u001b[0m                                                       \u001b[2m               \u001b[0m\n",
       "\u001b[2;36m                    \u001b[0m                                                                                \u001b[2m               \u001b[0m\n"
      ]
     },
     "metadata": {},
     "output_type": "display_data"
    },
    {
     "data": {
      "text/html": [
       "<pre style=\"white-space:pre;overflow-x:auto;line-height:normal;font-family:Menlo,'DejaVu Sans Mono',consolas,'Courier New',monospace\"><span style=\"color: #7fbfbf; text-decoration-color: #7fbfbf\">[07/03/25 13:35:07] </span><span style=\"color: #808000; text-decoration-color: #808000\">WARNING </span> c:\\Users\\ez\\Documents\\GitHub\\AI-Football-Manager\\.venv\\lib\\site-packag <a href=\"file://C:\\Users\\ez\\AppData\\Local\\Programs\\Python\\Python39\\lib\\warnings.py\" target=\"_blank\"><span style=\"color: #7f7f7f; text-decoration-color: #7f7f7f\">warnings.py</span></a><span style=\"color: #7f7f7f; text-decoration-color: #7f7f7f\">:</span><a href=\"file://C:\\Users\\ez\\AppData\\Local\\Programs\\Python\\Python39\\lib\\warnings.py#109\" target=\"_blank\"><span style=\"color: #7f7f7f; text-decoration-color: #7f7f7f\">109</span></a>\n",
       "<span style=\"color: #7fbfbf; text-decoration-color: #7fbfbf\">                    </span>         es\\soccerdata\\fbref.py:<span style=\"color: #008080; text-decoration-color: #008080; font-weight: bold\">165</span>: FutureWarning: The behavior of DataFrame   <span style=\"color: #7f7f7f; text-decoration-color: #7f7f7f\">               </span>\n",
       "<span style=\"color: #7fbfbf; text-decoration-color: #7fbfbf\">                    </span>         concatenation with empty or all-NA entries is deprecated. In a future  <span style=\"color: #7f7f7f; text-decoration-color: #7f7f7f\">               </span>\n",
       "<span style=\"color: #7fbfbf; text-decoration-color: #7fbfbf\">                    </span>         version, this will no longer exclude empty or all-NA columns when      <span style=\"color: #7f7f7f; text-decoration-color: #7f7f7f\">               </span>\n",
       "<span style=\"color: #7fbfbf; text-decoration-color: #7fbfbf\">                    </span>         determining the result dtypes. To retain the old behavior, exclude the <span style=\"color: #7f7f7f; text-decoration-color: #7f7f7f\">               </span>\n",
       "<span style=\"color: #7fbfbf; text-decoration-color: #7fbfbf\">                    </span>         relevant entries before the concat operation.                          <span style=\"color: #7f7f7f; text-decoration-color: #7f7f7f\">               </span>\n",
       "<span style=\"color: #7fbfbf; text-decoration-color: #7fbfbf\">                    </span>           <span style=\"color: #800080; text-decoration-color: #800080; font-weight: bold\">pd.concat</span><span style=\"font-weight: bold\">(</span>dfs<span style=\"font-weight: bold\">)</span>                                                       <span style=\"color: #7f7f7f; text-decoration-color: #7f7f7f\">               </span>\n",
       "<span style=\"color: #7fbfbf; text-decoration-color: #7fbfbf\">                    </span>                                                                                <span style=\"color: #7f7f7f; text-decoration-color: #7f7f7f\">               </span>\n",
       "</pre>\n"
      ],
      "text/plain": [
       "\u001b[2;36m[07/03/25 13:35:07]\u001b[0m\u001b[2;36m \u001b[0m\u001b[33mWARNING \u001b[0m c:\\Users\\ez\\Documents\\GitHub\\AI-Football-Manager\\.venv\\lib\\site-packag \u001b]8;id=340768;file://C:\\Users\\ez\\AppData\\Local\\Programs\\Python\\Python39\\lib\\warnings.py\u001b\\\u001b[2mwarnings.py\u001b[0m\u001b]8;;\u001b\\\u001b[2m:\u001b[0m\u001b]8;id=287573;file://C:\\Users\\ez\\AppData\\Local\\Programs\\Python\\Python39\\lib\\warnings.py#109\u001b\\\u001b[2m109\u001b[0m\u001b]8;;\u001b\\\n",
       "\u001b[2;36m                    \u001b[0m         es\\soccerdata\\fbref.py:\u001b[1;36m165\u001b[0m: FutureWarning: The behavior of DataFrame   \u001b[2m               \u001b[0m\n",
       "\u001b[2;36m                    \u001b[0m         concatenation with empty or all-NA entries is deprecated. In a future  \u001b[2m               \u001b[0m\n",
       "\u001b[2;36m                    \u001b[0m         version, this will no longer exclude empty or all-NA columns when      \u001b[2m               \u001b[0m\n",
       "\u001b[2;36m                    \u001b[0m         determining the result dtypes. To retain the old behavior, exclude the \u001b[2m               \u001b[0m\n",
       "\u001b[2;36m                    \u001b[0m         relevant entries before the concat operation.                          \u001b[2m               \u001b[0m\n",
       "\u001b[2;36m                    \u001b[0m           \u001b[1;35mpd.concat\u001b[0m\u001b[1m(\u001b[0mdfs\u001b[1m)\u001b[0m                                                       \u001b[2m               \u001b[0m\n",
       "\u001b[2;36m                    \u001b[0m                                                                                \u001b[2m               \u001b[0m\n"
      ]
     },
     "metadata": {},
     "output_type": "display_data"
    },
    {
     "data": {
      "text/html": [
       "<pre style=\"white-space:pre;overflow-x:auto;line-height:normal;font-family:Menlo,'DejaVu Sans Mono',consolas,'Courier New',monospace\"><span style=\"color: #7fbfbf; text-decoration-color: #7fbfbf\">[07/03/25 13:35:32] </span><span style=\"color: #808000; text-decoration-color: #808000\">WARNING </span> c:\\Users\\ez\\Documents\\GitHub\\AI-Football-Manager\\.venv\\lib\\site-packag <a href=\"file://C:\\Users\\ez\\AppData\\Local\\Programs\\Python\\Python39\\lib\\warnings.py\" target=\"_blank\"><span style=\"color: #7f7f7f; text-decoration-color: #7f7f7f\">warnings.py</span></a><span style=\"color: #7f7f7f; text-decoration-color: #7f7f7f\">:</span><a href=\"file://C:\\Users\\ez\\AppData\\Local\\Programs\\Python\\Python39\\lib\\warnings.py#109\" target=\"_blank\"><span style=\"color: #7f7f7f; text-decoration-color: #7f7f7f\">109</span></a>\n",
       "<span style=\"color: #7fbfbf; text-decoration-color: #7fbfbf\">                    </span>         es\\soccerdata\\fbref.py:<span style=\"color: #008080; text-decoration-color: #008080; font-weight: bold\">165</span>: FutureWarning: The behavior of DataFrame   <span style=\"color: #7f7f7f; text-decoration-color: #7f7f7f\">               </span>\n",
       "<span style=\"color: #7fbfbf; text-decoration-color: #7fbfbf\">                    </span>         concatenation with empty or all-NA entries is deprecated. In a future  <span style=\"color: #7f7f7f; text-decoration-color: #7f7f7f\">               </span>\n",
       "<span style=\"color: #7fbfbf; text-decoration-color: #7fbfbf\">                    </span>         version, this will no longer exclude empty or all-NA columns when      <span style=\"color: #7f7f7f; text-decoration-color: #7f7f7f\">               </span>\n",
       "<span style=\"color: #7fbfbf; text-decoration-color: #7fbfbf\">                    </span>         determining the result dtypes. To retain the old behavior, exclude the <span style=\"color: #7f7f7f; text-decoration-color: #7f7f7f\">               </span>\n",
       "<span style=\"color: #7fbfbf; text-decoration-color: #7fbfbf\">                    </span>         relevant entries before the concat operation.                          <span style=\"color: #7f7f7f; text-decoration-color: #7f7f7f\">               </span>\n",
       "<span style=\"color: #7fbfbf; text-decoration-color: #7fbfbf\">                    </span>           <span style=\"color: #800080; text-decoration-color: #800080; font-weight: bold\">pd.concat</span><span style=\"font-weight: bold\">(</span>dfs<span style=\"font-weight: bold\">)</span>                                                       <span style=\"color: #7f7f7f; text-decoration-color: #7f7f7f\">               </span>\n",
       "<span style=\"color: #7fbfbf; text-decoration-color: #7fbfbf\">                    </span>                                                                                <span style=\"color: #7f7f7f; text-decoration-color: #7f7f7f\">               </span>\n",
       "</pre>\n"
      ],
      "text/plain": [
       "\u001b[2;36m[07/03/25 13:35:32]\u001b[0m\u001b[2;36m \u001b[0m\u001b[33mWARNING \u001b[0m c:\\Users\\ez\\Documents\\GitHub\\AI-Football-Manager\\.venv\\lib\\site-packag \u001b]8;id=382163;file://C:\\Users\\ez\\AppData\\Local\\Programs\\Python\\Python39\\lib\\warnings.py\u001b\\\u001b[2mwarnings.py\u001b[0m\u001b]8;;\u001b\\\u001b[2m:\u001b[0m\u001b]8;id=573162;file://C:\\Users\\ez\\AppData\\Local\\Programs\\Python\\Python39\\lib\\warnings.py#109\u001b\\\u001b[2m109\u001b[0m\u001b]8;;\u001b\\\n",
       "\u001b[2;36m                    \u001b[0m         es\\soccerdata\\fbref.py:\u001b[1;36m165\u001b[0m: FutureWarning: The behavior of DataFrame   \u001b[2m               \u001b[0m\n",
       "\u001b[2;36m                    \u001b[0m         concatenation with empty or all-NA entries is deprecated. In a future  \u001b[2m               \u001b[0m\n",
       "\u001b[2;36m                    \u001b[0m         version, this will no longer exclude empty or all-NA columns when      \u001b[2m               \u001b[0m\n",
       "\u001b[2;36m                    \u001b[0m         determining the result dtypes. To retain the old behavior, exclude the \u001b[2m               \u001b[0m\n",
       "\u001b[2;36m                    \u001b[0m         relevant entries before the concat operation.                          \u001b[2m               \u001b[0m\n",
       "\u001b[2;36m                    \u001b[0m           \u001b[1;35mpd.concat\u001b[0m\u001b[1m(\u001b[0mdfs\u001b[1m)\u001b[0m                                                       \u001b[2m               \u001b[0m\n",
       "\u001b[2;36m                    \u001b[0m                                                                                \u001b[2m               \u001b[0m\n"
      ]
     },
     "metadata": {},
     "output_type": "display_data"
    },
    {
     "data": {
      "text/html": [
       "<pre style=\"white-space:pre;overflow-x:auto;line-height:normal;font-family:Menlo,'DejaVu Sans Mono',consolas,'Courier New',monospace\"><span style=\"color: #7fbfbf; text-decoration-color: #7fbfbf\">[07/03/25 13:35:57] </span><span style=\"color: #808000; text-decoration-color: #808000\">WARNING </span> c:\\Users\\ez\\Documents\\GitHub\\AI-Football-Manager\\.venv\\lib\\site-packag <a href=\"file://C:\\Users\\ez\\AppData\\Local\\Programs\\Python\\Python39\\lib\\warnings.py\" target=\"_blank\"><span style=\"color: #7f7f7f; text-decoration-color: #7f7f7f\">warnings.py</span></a><span style=\"color: #7f7f7f; text-decoration-color: #7f7f7f\">:</span><a href=\"file://C:\\Users\\ez\\AppData\\Local\\Programs\\Python\\Python39\\lib\\warnings.py#109\" target=\"_blank\"><span style=\"color: #7f7f7f; text-decoration-color: #7f7f7f\">109</span></a>\n",
       "<span style=\"color: #7fbfbf; text-decoration-color: #7fbfbf\">                    </span>         es\\soccerdata\\fbref.py:<span style=\"color: #008080; text-decoration-color: #008080; font-weight: bold\">165</span>: FutureWarning: The behavior of DataFrame   <span style=\"color: #7f7f7f; text-decoration-color: #7f7f7f\">               </span>\n",
       "<span style=\"color: #7fbfbf; text-decoration-color: #7fbfbf\">                    </span>         concatenation with empty or all-NA entries is deprecated. In a future  <span style=\"color: #7f7f7f; text-decoration-color: #7f7f7f\">               </span>\n",
       "<span style=\"color: #7fbfbf; text-decoration-color: #7fbfbf\">                    </span>         version, this will no longer exclude empty or all-NA columns when      <span style=\"color: #7f7f7f; text-decoration-color: #7f7f7f\">               </span>\n",
       "<span style=\"color: #7fbfbf; text-decoration-color: #7fbfbf\">                    </span>         determining the result dtypes. To retain the old behavior, exclude the <span style=\"color: #7f7f7f; text-decoration-color: #7f7f7f\">               </span>\n",
       "<span style=\"color: #7fbfbf; text-decoration-color: #7fbfbf\">                    </span>         relevant entries before the concat operation.                          <span style=\"color: #7f7f7f; text-decoration-color: #7f7f7f\">               </span>\n",
       "<span style=\"color: #7fbfbf; text-decoration-color: #7fbfbf\">                    </span>           <span style=\"color: #800080; text-decoration-color: #800080; font-weight: bold\">pd.concat</span><span style=\"font-weight: bold\">(</span>dfs<span style=\"font-weight: bold\">)</span>                                                       <span style=\"color: #7f7f7f; text-decoration-color: #7f7f7f\">               </span>\n",
       "<span style=\"color: #7fbfbf; text-decoration-color: #7fbfbf\">                    </span>                                                                                <span style=\"color: #7f7f7f; text-decoration-color: #7f7f7f\">               </span>\n",
       "</pre>\n"
      ],
      "text/plain": [
       "\u001b[2;36m[07/03/25 13:35:57]\u001b[0m\u001b[2;36m \u001b[0m\u001b[33mWARNING \u001b[0m c:\\Users\\ez\\Documents\\GitHub\\AI-Football-Manager\\.venv\\lib\\site-packag \u001b]8;id=379191;file://C:\\Users\\ez\\AppData\\Local\\Programs\\Python\\Python39\\lib\\warnings.py\u001b\\\u001b[2mwarnings.py\u001b[0m\u001b]8;;\u001b\\\u001b[2m:\u001b[0m\u001b]8;id=354706;file://C:\\Users\\ez\\AppData\\Local\\Programs\\Python\\Python39\\lib\\warnings.py#109\u001b\\\u001b[2m109\u001b[0m\u001b]8;;\u001b\\\n",
       "\u001b[2;36m                    \u001b[0m         es\\soccerdata\\fbref.py:\u001b[1;36m165\u001b[0m: FutureWarning: The behavior of DataFrame   \u001b[2m               \u001b[0m\n",
       "\u001b[2;36m                    \u001b[0m         concatenation with empty or all-NA entries is deprecated. In a future  \u001b[2m               \u001b[0m\n",
       "\u001b[2;36m                    \u001b[0m         version, this will no longer exclude empty or all-NA columns when      \u001b[2m               \u001b[0m\n",
       "\u001b[2;36m                    \u001b[0m         determining the result dtypes. To retain the old behavior, exclude the \u001b[2m               \u001b[0m\n",
       "\u001b[2;36m                    \u001b[0m         relevant entries before the concat operation.                          \u001b[2m               \u001b[0m\n",
       "\u001b[2;36m                    \u001b[0m           \u001b[1;35mpd.concat\u001b[0m\u001b[1m(\u001b[0mdfs\u001b[1m)\u001b[0m                                                       \u001b[2m               \u001b[0m\n",
       "\u001b[2;36m                    \u001b[0m                                                                                \u001b[2m               \u001b[0m\n"
      ]
     },
     "metadata": {},
     "output_type": "display_data"
    },
    {
     "data": {
      "text/html": [
       "<div>\n",
       "<style scoped>\n",
       "    .dataframe tbody tr th:only-of-type {\n",
       "        vertical-align: middle;\n",
       "    }\n",
       "\n",
       "    .dataframe tbody tr th {\n",
       "        vertical-align: top;\n",
       "    }\n",
       "\n",
       "    .dataframe thead th {\n",
       "        text-align: right;\n",
       "    }\n",
       "</style>\n",
       "<table border=\"1\" class=\"dataframe\">\n",
       "  <thead>\n",
       "    <tr style=\"text-align: right;\">\n",
       "      <th></th>\n",
       "      <th>MatchDate</th>\n",
       "      <th>HomeTeam</th>\n",
       "      <th>AwayTeam</th>\n",
       "      <th>GF3Home</th>\n",
       "      <th>GA3Home</th>\n",
       "      <th>GF5Home</th>\n",
       "      <th>GA5Home</th>\n",
       "      <th>GF3Away</th>\n",
       "      <th>GA3Away</th>\n",
       "      <th>GF5Away</th>\n",
       "      <th>GA5Away</th>\n",
       "      <th>Form3Home</th>\n",
       "      <th>Form5Home</th>\n",
       "      <th>Form3Away</th>\n",
       "      <th>Form5Away</th>\n",
       "      <th>HomeElo</th>\n",
       "      <th>AwayElo</th>\n",
       "    </tr>\n",
       "  </thead>\n",
       "  <tbody>\n",
       "    <tr>\n",
       "      <th>0</th>\n",
       "      <td>2025-05-25</td>\n",
       "      <td>Wolves</td>\n",
       "      <td>Brentford</td>\n",
       "      <td>2</td>\n",
       "      <td>7</td>\n",
       "      <td>6</td>\n",
       "      <td>7</td>\n",
       "      <td>7</td>\n",
       "      <td>6</td>\n",
       "      <td>13</td>\n",
       "      <td>8</td>\n",
       "      <td>0</td>\n",
       "      <td>6</td>\n",
       "      <td>6</td>\n",
       "      <td>12</td>\n",
       "      <td>1732.723511</td>\n",
       "      <td>1809.577148</td>\n",
       "    </tr>\n",
       "  </tbody>\n",
       "</table>\n",
       "</div>"
      ],
      "text/plain": [
       "    MatchDate HomeTeam   AwayTeam  GF3Home  GA3Home  GF5Home  GA5Home  \\\n",
       "0  2025-05-25   Wolves  Brentford        2        7        6        7   \n",
       "\n",
       "   GF3Away  GA3Away  GF5Away  GA5Away  Form3Home  Form5Home  Form3Away  \\\n",
       "0        7        6       13        8          0          6          6   \n",
       "\n",
       "   Form5Away      HomeElo      AwayElo  \n",
       "0         12  1732.723511  1809.577148  "
      ]
     },
     "execution_count": 27,
     "metadata": {},
     "output_type": "execute_result"
    }
   ],
   "source": [
    "co = DataCollector()\n",
    "\n",
    "df = co.collect_features(\"2025-05-25\", \"Wolves\", \"Brentford\")\n",
    "df"
   ]
  },
  {
   "cell_type": "code",
   "execution_count": 28,
   "id": "396fd2e5",
   "metadata": {},
   "outputs": [
    {
     "data": {
      "text/plain": [
       "Index(['MatchDate', 'HomeTeam', 'AwayTeam', 'GF3Home', 'GA3Home', 'GF5Home',\n",
       "       'GA5Home', 'GF3Away', 'GA3Away', 'GF5Away', 'GA5Away', 'Form3Home',\n",
       "       'Form5Home', 'Form3Away', 'Form5Away', 'HomeElo', 'AwayElo'],\n",
       "      dtype='object')"
      ]
     },
     "execution_count": 28,
     "metadata": {},
     "output_type": "execute_result"
    }
   ],
   "source": [
    "df.columns"
   ]
  },
  {
   "cell_type": "markdown",
   "id": "ebfe0ada",
   "metadata": {},
   "source": [
    "> - 3개의 파라미터는 사용자한테 자연어로 입력 받고 이를 처리하는 함수가 필요\n",
    ">   - return 값이 경기일자, 팀1, 팀2"
   ]
  },
  {
   "cell_type": "code",
   "execution_count": 1,
   "id": "6484a8d8",
   "metadata": {},
   "outputs": [],
   "source": [
    "import requests\n",
    "from datetime import datetime\n",
    "from dateutil.parser import parse\n",
    "from dotenv import load_dotenv\n",
    "import os\n",
    "\n",
    "load_dotenv()\n",
    "api_key = os.getenv(\"X_RAPIDAPI_KEY\")\n",
    "\n",
    "def get_fixture_info(api_key, match_date, team1, team2):\n",
    "    url = \"https://api-football-v1.p.rapidapi.com/v3/fixtures\"\n",
    "\n",
    "    headers = {\n",
    "        \"X-RapidAPI-Key\": api_key,\n",
    "        \"X-RapidAPI-Host\": \"api-football-v1.p.rapidapi.com\"\n",
    "    }\n",
    "\n",
    "    params = {\n",
    "        \"date\": match_date,\n",
    "        \"league\": 39,\n",
    "        \"season\": 2024\n",
    "    }\n",
    "\n",
    "    response = requests.get(url, headers=headers, params=params)\n",
    "    data = response.json()\n",
    "\n",
    "    for fixture in data[\"response\"]:\n",
    "        home = fixture[\"teams\"][\"home\"][\"name\"].lower()\n",
    "        away = fixture[\"teams\"][\"away\"][\"name\"].lower()\n",
    "\n",
    "        if team1.lower() in [home, away] and team2.lower() in [home, away]:\n",
    "            return {\n",
    "                \"home_team\": fixture[\"teams\"][\"home\"][\"name\"],\n",
    "                \"away_team\": fixture[\"teams\"][\"away\"][\"name\"]\n",
    "            }\n",
    "\n",
    "    return None\n",
    "\n",
    "\n",
    "def extract_match_parameters(user_input: str) -> dict:\n",
    "    \"\"\"\n",
    "    사용자 입력 → match_date, home_team, away_team (API-Football 기반)\n",
    "    \"\"\"\n",
    "\n",
    "    team_kor_to_eng = {\n",
    "        \"아스널\": \"Arsenal\", \"아스톤 빌라\": \"Aston Villa\", \"본머스\": \"Bournemouth\", \"브렌트포드\": \"Brentford\",\n",
    "        \"브라이턴\": \"Brighton\", \"첼시\": \"Chelsea\", \"크리스탈 팰리스\": \"Crystal Palace\", \"에버턴\": \"Everton\",\n",
    "        \"풀럼\": \"Fulham\", \"리즈\": \"Leeds United\", \"리버풀\": \"Liverpool\", \"맨시티\": \"Man City\",\n",
    "        \"맨체스터 시티\": \"Man City\", \"맨유\": \"Man Utd\", \"맨체스터 유나이티드\": \"Man Utd\",\n",
    "        \"뉴캐슬\": \"Newcastle\", \"노팅엄 포레스트\": \"Nottingham Forest\", \"사우샘프턴\": \"Southampton\",\n",
    "        \"토트넘\": \"Spurs\", \"스퍼스\": \"Spurs\", \"웨스트햄\": \"West Ham\", \"울브스\": \"Wolves\", \"울버햄튼\": \"Wolves\"\n",
    "    }\n",
    "\n",
    "    # 날짜 파싱\n",
    "    try:\n",
    "        match_date = parse(user_input, fuzzy=True).date()\n",
    "    except Exception:\n",
    "        return {\"match_date\": None, \"home_team\": None, \"away_team\": None}\n",
    "\n",
    "    # 팀 파싱\n",
    "    found_teams = []\n",
    "    for kor, eng in team_kor_to_eng.items():\n",
    "        if kor in user_input and eng not in found_teams:\n",
    "            found_teams.append(eng)\n",
    "\n",
    "    if len(found_teams) < 2:\n",
    "        return {\"match_date\": str(match_date), \"home_team\": None, \"away_team\": None}\n",
    "\n",
    "    # home/away 정보는 API를 통해 확정\n",
    "    fixture = get_fixture_info(api_key, str(match_date), found_teams[0], found_teams[1])\n",
    "    if fixture:\n",
    "        return {\n",
    "            \"match_date\": str(match_date),\n",
    "            \"home_team\": fixture[\"home_team\"],\n",
    "            \"away_team\": fixture[\"away_team\"]\n",
    "        }\n",
    "    else:\n",
    "        return {\n",
    "            \"match_date\": str(match_date),\n",
    "            \"home_team\": None,\n",
    "            \"away_team\": None\n",
    "        }\n"
   ]
  },
  {
   "cell_type": "code",
   "execution_count": 2,
   "id": "60ea8bdc",
   "metadata": {},
   "outputs": [
    {
     "name": "stdout",
     "output_type": "stream",
     "text": [
      "{'match_date': '2025-05-25', 'home_team': 'Wolves', 'away_team': 'Brentford'}\n"
     ]
    }
   ],
   "source": [
    "user_input = \"5월 25일 울버햄튼과 브렌트포드 경기 알려줘\"\n",
    "\n",
    "params = extract_match_parameters(user_input)\n",
    "print(params)"
   ]
  },
  {
   "cell_type": "markdown",
   "id": "3f738d40",
   "metadata": {},
   "source": [
    "### 완성한 코드사용 예제\n",
    "- 사용자 입력을 받으면 승부예측을 위한 데이터 수집 및 데이터 프레임 생성"
   ]
  },
  {
   "cell_type": "code",
   "execution_count": 1,
   "id": "86b2cead",
   "metadata": {},
   "outputs": [
    {
     "data": {
      "text/html": [
       "<pre style=\"white-space:pre;overflow-x:auto;line-height:normal;font-family:Menlo,'DejaVu Sans Mono',consolas,'Courier New',monospace\"><span style=\"color: #7fbfbf; text-decoration-color: #7fbfbf\">[07/03/25 13:44:59] </span><span style=\"color: #000080; text-decoration-color: #000080\">INFO    </span> No custom team name replacements found. You can configure these in       <a href=\"file://c:\\Users\\ez\\Documents\\GitHub\\AI-Football-Manager\\.venv\\lib\\site-packages\\soccerdata\\_config.py\" target=\"_blank\"><span style=\"color: #7f7f7f; text-decoration-color: #7f7f7f\">_config.py</span></a><span style=\"color: #7f7f7f; text-decoration-color: #7f7f7f\">:</span><a href=\"file://c:\\Users\\ez\\Documents\\GitHub\\AI-Football-Manager\\.venv\\lib\\site-packages\\soccerdata\\_config.py#91\" target=\"_blank\"><span style=\"color: #7f7f7f; text-decoration-color: #7f7f7f\">91</span></a>\n",
       "<span style=\"color: #7fbfbf; text-decoration-color: #7fbfbf\">                    </span>         C:\\Users\\ez\\soccerdata\\config\\teamname_replacements.json.                <span style=\"color: #7f7f7f; text-decoration-color: #7f7f7f\">             </span>\n",
       "</pre>\n"
      ],
      "text/plain": [
       "\u001b[2;36m[07/03/25 13:44:59]\u001b[0m\u001b[2;36m \u001b[0m\u001b[34mINFO    \u001b[0m No custom team name replacements found. You can configure these in       \u001b]8;id=948974;file://c:\\Users\\ez\\Documents\\GitHub\\AI-Football-Manager\\.venv\\lib\\site-packages\\soccerdata\\_config.py\u001b\\\u001b[2m_config.py\u001b[0m\u001b]8;;\u001b\\\u001b[2m:\u001b[0m\u001b]8;id=41215;file://c:\\Users\\ez\\Documents\\GitHub\\AI-Football-Manager\\.venv\\lib\\site-packages\\soccerdata\\_config.py#91\u001b\\\u001b[2m91\u001b[0m\u001b]8;;\u001b\\\n",
       "\u001b[2;36m                    \u001b[0m         C:\\Users\\ez\\soccerdata\\config\\teamname_replacements.json.                \u001b[2m             \u001b[0m\n"
      ]
     },
     "metadata": {},
     "output_type": "display_data"
    },
    {
     "data": {
      "text/html": [
       "<pre style=\"white-space:pre;overflow-x:auto;line-height:normal;font-family:Menlo,'DejaVu Sans Mono',consolas,'Courier New',monospace\"><span style=\"color: #7fbfbf; text-decoration-color: #7fbfbf\">                    </span><span style=\"color: #000080; text-decoration-color: #000080\">INFO    </span> No custom league dict found. You can configure additional leagues in    <a href=\"file://c:\\Users\\ez\\Documents\\GitHub\\AI-Football-Manager\\.venv\\lib\\site-packages\\soccerdata\\_config.py\" target=\"_blank\"><span style=\"color: #7f7f7f; text-decoration-color: #7f7f7f\">_config.py</span></a><span style=\"color: #7f7f7f; text-decoration-color: #7f7f7f\">:</span><a href=\"file://c:\\Users\\ez\\Documents\\GitHub\\AI-Football-Manager\\.venv\\lib\\site-packages\\soccerdata\\_config.py#197\" target=\"_blank\"><span style=\"color: #7f7f7f; text-decoration-color: #7f7f7f\">197</span></a>\n",
       "<span style=\"color: #7fbfbf; text-decoration-color: #7fbfbf\">                    </span>         C:\\Users\\ez\\soccerdata\\config\\league_dict.json.                         <span style=\"color: #7f7f7f; text-decoration-color: #7f7f7f\">              </span>\n",
       "</pre>\n"
      ],
      "text/plain": [
       "\u001b[2;36m                   \u001b[0m\u001b[2;36m \u001b[0m\u001b[34mINFO    \u001b[0m No custom league dict found. You can configure additional leagues in    \u001b]8;id=90766;file://c:\\Users\\ez\\Documents\\GitHub\\AI-Football-Manager\\.venv\\lib\\site-packages\\soccerdata\\_config.py\u001b\\\u001b[2m_config.py\u001b[0m\u001b]8;;\u001b\\\u001b[2m:\u001b[0m\u001b]8;id=365384;file://c:\\Users\\ez\\Documents\\GitHub\\AI-Football-Manager\\.venv\\lib\\site-packages\\soccerdata\\_config.py#197\u001b\\\u001b[2m197\u001b[0m\u001b]8;;\u001b\\\n",
       "\u001b[2;36m                    \u001b[0m         C:\\Users\\ez\\soccerdata\\config\\league_dict.json.                         \u001b[2m              \u001b[0m\n"
      ]
     },
     "metadata": {},
     "output_type": "display_data"
    }
   ],
   "source": [
    "from dataParsing.dataCollector import DataCollector\n",
    "from dataParsing.match_parser import extract_match_parameters\n",
    "\n",
    "# 1. 사용자 입력\n",
    "user_input = \"5월 25일 울버햄튼과 브렌트포드 경기\"\n",
    "\n",
    "# 2. 한글 입력 → 날짜, 홈팀, 원정팀 추출\n",
    "params_1 = extract_match_parameters(user_input)"
   ]
  },
  {
   "cell_type": "code",
   "execution_count": 2,
   "id": "e9bb4c1e",
   "metadata": {},
   "outputs": [
    {
     "data": {
      "text/plain": [
       "{'match_date': '2025-05-25', 'home_team': 'Wolves', 'away_team': 'Brentford'}"
      ]
     },
     "execution_count": 2,
     "metadata": {},
     "output_type": "execute_result"
    }
   ],
   "source": [
    "params_1"
   ]
  },
  {
   "cell_type": "code",
   "execution_count": 6,
   "id": "f3d1c456",
   "metadata": {},
   "outputs": [
    {
     "data": {
      "text/html": [
       "<pre style=\"white-space:pre;overflow-x:auto;line-height:normal;font-family:Menlo,'DejaVu Sans Mono',consolas,'Courier New',monospace\"><span style=\"color: #7fbfbf; text-decoration-color: #7fbfbf\">[07/03/25 13:45:38] </span><span style=\"color: #000080; text-decoration-color: #000080\">INFO    </span> Saving cached data to C:\\Users\\ez\\soccerdata\\data\\FBref                 <a href=\"file://c:\\Users\\ez\\Documents\\GitHub\\AI-Football-Manager\\.venv\\lib\\site-packages\\soccerdata\\_common.py\" target=\"_blank\"><span style=\"color: #7f7f7f; text-decoration-color: #7f7f7f\">_common.py</span></a><span style=\"color: #7f7f7f; text-decoration-color: #7f7f7f\">:</span><a href=\"file://c:\\Users\\ez\\Documents\\GitHub\\AI-Football-Manager\\.venv\\lib\\site-packages\\soccerdata\\_common.py#263\" target=\"_blank\"><span style=\"color: #7f7f7f; text-decoration-color: #7f7f7f\">263</span></a>\n",
       "</pre>\n"
      ],
      "text/plain": [
       "\u001b[2;36m[07/03/25 13:45:38]\u001b[0m\u001b[2;36m \u001b[0m\u001b[34mINFO    \u001b[0m Saving cached data to C:\\Users\\ez\\soccerdata\\data\\FBref                 \u001b]8;id=268040;file://c:\\Users\\ez\\Documents\\GitHub\\AI-Football-Manager\\.venv\\lib\\site-packages\\soccerdata\\_common.py\u001b\\\u001b[2m_common.py\u001b[0m\u001b]8;;\u001b\\\u001b[2m:\u001b[0m\u001b]8;id=374714;file://c:\\Users\\ez\\Documents\\GitHub\\AI-Football-Manager\\.venv\\lib\\site-packages\\soccerdata\\_common.py#263\u001b\\\u001b[2m263\u001b[0m\u001b]8;;\u001b\\\n"
      ]
     },
     "metadata": {},
     "output_type": "display_data"
    },
    {
     "data": {
      "text/html": [
       "<pre style=\"white-space:pre;overflow-x:auto;line-height:normal;font-family:Menlo,'DejaVu Sans Mono',consolas,'Courier New',monospace\"><span style=\"color: #7fbfbf; text-decoration-color: #7fbfbf\">                    </span><span style=\"color: #000080; text-decoration-color: #000080\">INFO    </span> Saving cached data to C:\\Users\\ez\\soccerdata\\data\\ClubElo               <a href=\"file://c:\\Users\\ez\\Documents\\GitHub\\AI-Football-Manager\\.venv\\lib\\site-packages\\soccerdata\\_common.py\" target=\"_blank\"><span style=\"color: #7f7f7f; text-decoration-color: #7f7f7f\">_common.py</span></a><span style=\"color: #7f7f7f; text-decoration-color: #7f7f7f\">:</span><a href=\"file://c:\\Users\\ez\\Documents\\GitHub\\AI-Football-Manager\\.venv\\lib\\site-packages\\soccerdata\\_common.py#263\" target=\"_blank\"><span style=\"color: #7f7f7f; text-decoration-color: #7f7f7f\">263</span></a>\n",
       "</pre>\n"
      ],
      "text/plain": [
       "\u001b[2;36m                   \u001b[0m\u001b[2;36m \u001b[0m\u001b[34mINFO    \u001b[0m Saving cached data to C:\\Users\\ez\\soccerdata\\data\\ClubElo               \u001b]8;id=686097;file://c:\\Users\\ez\\Documents\\GitHub\\AI-Football-Manager\\.venv\\lib\\site-packages\\soccerdata\\_common.py\u001b\\\u001b[2m_common.py\u001b[0m\u001b]8;;\u001b\\\u001b[2m:\u001b[0m\u001b]8;id=55059;file://c:\\Users\\ez\\Documents\\GitHub\\AI-Football-Manager\\.venv\\lib\\site-packages\\soccerdata\\_common.py#263\u001b\\\u001b[2m263\u001b[0m\u001b]8;;\u001b\\\n"
      ]
     },
     "metadata": {},
     "output_type": "display_data"
    },
    {
     "data": {
      "text/html": [
       "<pre style=\"white-space:pre;overflow-x:auto;line-height:normal;font-family:Menlo,'DejaVu Sans Mono',consolas,'Courier New',monospace\"><span style=\"color: #7fbfbf; text-decoration-color: #7fbfbf\">[07/03/25 13:45:45] </span><span style=\"color: #808000; text-decoration-color: #808000\">WARNING </span> c:\\Users\\ez\\Documents\\GitHub\\AI-Football-Manager\\.venv\\lib\\site-packag <a href=\"file://C:\\Users\\ez\\AppData\\Local\\Programs\\Python\\Python39\\lib\\warnings.py\" target=\"_blank\"><span style=\"color: #7f7f7f; text-decoration-color: #7f7f7f\">warnings.py</span></a><span style=\"color: #7f7f7f; text-decoration-color: #7f7f7f\">:</span><a href=\"file://C:\\Users\\ez\\AppData\\Local\\Programs\\Python\\Python39\\lib\\warnings.py#109\" target=\"_blank\"><span style=\"color: #7f7f7f; text-decoration-color: #7f7f7f\">109</span></a>\n",
       "<span style=\"color: #7fbfbf; text-decoration-color: #7fbfbf\">                    </span>         es\\soccerdata\\fbref.py:<span style=\"color: #008080; text-decoration-color: #008080; font-weight: bold\">165</span>: FutureWarning: The behavior of DataFrame   <span style=\"color: #7f7f7f; text-decoration-color: #7f7f7f\">               </span>\n",
       "<span style=\"color: #7fbfbf; text-decoration-color: #7fbfbf\">                    </span>         concatenation with empty or all-NA entries is deprecated. In a future  <span style=\"color: #7f7f7f; text-decoration-color: #7f7f7f\">               </span>\n",
       "<span style=\"color: #7fbfbf; text-decoration-color: #7fbfbf\">                    </span>         version, this will no longer exclude empty or all-NA columns when      <span style=\"color: #7f7f7f; text-decoration-color: #7f7f7f\">               </span>\n",
       "<span style=\"color: #7fbfbf; text-decoration-color: #7fbfbf\">                    </span>         determining the result dtypes. To retain the old behavior, exclude the <span style=\"color: #7f7f7f; text-decoration-color: #7f7f7f\">               </span>\n",
       "<span style=\"color: #7fbfbf; text-decoration-color: #7fbfbf\">                    </span>         relevant entries before the concat operation.                          <span style=\"color: #7f7f7f; text-decoration-color: #7f7f7f\">               </span>\n",
       "<span style=\"color: #7fbfbf; text-decoration-color: #7fbfbf\">                    </span>           <span style=\"color: #800080; text-decoration-color: #800080; font-weight: bold\">pd.concat</span><span style=\"font-weight: bold\">(</span>dfs<span style=\"font-weight: bold\">)</span>                                                       <span style=\"color: #7f7f7f; text-decoration-color: #7f7f7f\">               </span>\n",
       "<span style=\"color: #7fbfbf; text-decoration-color: #7fbfbf\">                    </span>                                                                                <span style=\"color: #7f7f7f; text-decoration-color: #7f7f7f\">               </span>\n",
       "</pre>\n"
      ],
      "text/plain": [
       "\u001b[2;36m[07/03/25 13:45:45]\u001b[0m\u001b[2;36m \u001b[0m\u001b[33mWARNING \u001b[0m c:\\Users\\ez\\Documents\\GitHub\\AI-Football-Manager\\.venv\\lib\\site-packag \u001b]8;id=888325;file://C:\\Users\\ez\\AppData\\Local\\Programs\\Python\\Python39\\lib\\warnings.py\u001b\\\u001b[2mwarnings.py\u001b[0m\u001b]8;;\u001b\\\u001b[2m:\u001b[0m\u001b]8;id=238869;file://C:\\Users\\ez\\AppData\\Local\\Programs\\Python\\Python39\\lib\\warnings.py#109\u001b\\\u001b[2m109\u001b[0m\u001b]8;;\u001b\\\n",
       "\u001b[2;36m                    \u001b[0m         es\\soccerdata\\fbref.py:\u001b[1;36m165\u001b[0m: FutureWarning: The behavior of DataFrame   \u001b[2m               \u001b[0m\n",
       "\u001b[2;36m                    \u001b[0m         concatenation with empty or all-NA entries is deprecated. In a future  \u001b[2m               \u001b[0m\n",
       "\u001b[2;36m                    \u001b[0m         version, this will no longer exclude empty or all-NA columns when      \u001b[2m               \u001b[0m\n",
       "\u001b[2;36m                    \u001b[0m         determining the result dtypes. To retain the old behavior, exclude the \u001b[2m               \u001b[0m\n",
       "\u001b[2;36m                    \u001b[0m         relevant entries before the concat operation.                          \u001b[2m               \u001b[0m\n",
       "\u001b[2;36m                    \u001b[0m           \u001b[1;35mpd.concat\u001b[0m\u001b[1m(\u001b[0mdfs\u001b[1m)\u001b[0m                                                       \u001b[2m               \u001b[0m\n",
       "\u001b[2;36m                    \u001b[0m                                                                                \u001b[2m               \u001b[0m\n"
      ]
     },
     "metadata": {},
     "output_type": "display_data"
    },
    {
     "data": {
      "text/html": [
       "<pre style=\"white-space:pre;overflow-x:auto;line-height:normal;font-family:Menlo,'DejaVu Sans Mono',consolas,'Courier New',monospace\"><span style=\"color: #7fbfbf; text-decoration-color: #7fbfbf\">[07/03/25 13:46:10] </span><span style=\"color: #808000; text-decoration-color: #808000\">WARNING </span> c:\\Users\\ez\\Documents\\GitHub\\AI-Football-Manager\\.venv\\lib\\site-packag <a href=\"file://C:\\Users\\ez\\AppData\\Local\\Programs\\Python\\Python39\\lib\\warnings.py\" target=\"_blank\"><span style=\"color: #7f7f7f; text-decoration-color: #7f7f7f\">warnings.py</span></a><span style=\"color: #7f7f7f; text-decoration-color: #7f7f7f\">:</span><a href=\"file://C:\\Users\\ez\\AppData\\Local\\Programs\\Python\\Python39\\lib\\warnings.py#109\" target=\"_blank\"><span style=\"color: #7f7f7f; text-decoration-color: #7f7f7f\">109</span></a>\n",
       "<span style=\"color: #7fbfbf; text-decoration-color: #7fbfbf\">                    </span>         es\\soccerdata\\fbref.py:<span style=\"color: #008080; text-decoration-color: #008080; font-weight: bold\">165</span>: FutureWarning: The behavior of DataFrame   <span style=\"color: #7f7f7f; text-decoration-color: #7f7f7f\">               </span>\n",
       "<span style=\"color: #7fbfbf; text-decoration-color: #7fbfbf\">                    </span>         concatenation with empty or all-NA entries is deprecated. In a future  <span style=\"color: #7f7f7f; text-decoration-color: #7f7f7f\">               </span>\n",
       "<span style=\"color: #7fbfbf; text-decoration-color: #7fbfbf\">                    </span>         version, this will no longer exclude empty or all-NA columns when      <span style=\"color: #7f7f7f; text-decoration-color: #7f7f7f\">               </span>\n",
       "<span style=\"color: #7fbfbf; text-decoration-color: #7fbfbf\">                    </span>         determining the result dtypes. To retain the old behavior, exclude the <span style=\"color: #7f7f7f; text-decoration-color: #7f7f7f\">               </span>\n",
       "<span style=\"color: #7fbfbf; text-decoration-color: #7fbfbf\">                    </span>         relevant entries before the concat operation.                          <span style=\"color: #7f7f7f; text-decoration-color: #7f7f7f\">               </span>\n",
       "<span style=\"color: #7fbfbf; text-decoration-color: #7fbfbf\">                    </span>           <span style=\"color: #800080; text-decoration-color: #800080; font-weight: bold\">pd.concat</span><span style=\"font-weight: bold\">(</span>dfs<span style=\"font-weight: bold\">)</span>                                                       <span style=\"color: #7f7f7f; text-decoration-color: #7f7f7f\">               </span>\n",
       "<span style=\"color: #7fbfbf; text-decoration-color: #7fbfbf\">                    </span>                                                                                <span style=\"color: #7f7f7f; text-decoration-color: #7f7f7f\">               </span>\n",
       "</pre>\n"
      ],
      "text/plain": [
       "\u001b[2;36m[07/03/25 13:46:10]\u001b[0m\u001b[2;36m \u001b[0m\u001b[33mWARNING \u001b[0m c:\\Users\\ez\\Documents\\GitHub\\AI-Football-Manager\\.venv\\lib\\site-packag \u001b]8;id=337736;file://C:\\Users\\ez\\AppData\\Local\\Programs\\Python\\Python39\\lib\\warnings.py\u001b\\\u001b[2mwarnings.py\u001b[0m\u001b]8;;\u001b\\\u001b[2m:\u001b[0m\u001b]8;id=596712;file://C:\\Users\\ez\\AppData\\Local\\Programs\\Python\\Python39\\lib\\warnings.py#109\u001b\\\u001b[2m109\u001b[0m\u001b]8;;\u001b\\\n",
       "\u001b[2;36m                    \u001b[0m         es\\soccerdata\\fbref.py:\u001b[1;36m165\u001b[0m: FutureWarning: The behavior of DataFrame   \u001b[2m               \u001b[0m\n",
       "\u001b[2;36m                    \u001b[0m         concatenation with empty or all-NA entries is deprecated. In a future  \u001b[2m               \u001b[0m\n",
       "\u001b[2;36m                    \u001b[0m         version, this will no longer exclude empty or all-NA columns when      \u001b[2m               \u001b[0m\n",
       "\u001b[2;36m                    \u001b[0m         determining the result dtypes. To retain the old behavior, exclude the \u001b[2m               \u001b[0m\n",
       "\u001b[2;36m                    \u001b[0m         relevant entries before the concat operation.                          \u001b[2m               \u001b[0m\n",
       "\u001b[2;36m                    \u001b[0m           \u001b[1;35mpd.concat\u001b[0m\u001b[1m(\u001b[0mdfs\u001b[1m)\u001b[0m                                                       \u001b[2m               \u001b[0m\n",
       "\u001b[2;36m                    \u001b[0m                                                                                \u001b[2m               \u001b[0m\n"
      ]
     },
     "metadata": {},
     "output_type": "display_data"
    },
    {
     "data": {
      "text/html": [
       "<pre style=\"white-space:pre;overflow-x:auto;line-height:normal;font-family:Menlo,'DejaVu Sans Mono',consolas,'Courier New',monospace\"><span style=\"color: #7fbfbf; text-decoration-color: #7fbfbf\">[07/03/25 13:46:35] </span><span style=\"color: #808000; text-decoration-color: #808000\">WARNING </span> c:\\Users\\ez\\Documents\\GitHub\\AI-Football-Manager\\.venv\\lib\\site-packag <a href=\"file://C:\\Users\\ez\\AppData\\Local\\Programs\\Python\\Python39\\lib\\warnings.py\" target=\"_blank\"><span style=\"color: #7f7f7f; text-decoration-color: #7f7f7f\">warnings.py</span></a><span style=\"color: #7f7f7f; text-decoration-color: #7f7f7f\">:</span><a href=\"file://C:\\Users\\ez\\AppData\\Local\\Programs\\Python\\Python39\\lib\\warnings.py#109\" target=\"_blank\"><span style=\"color: #7f7f7f; text-decoration-color: #7f7f7f\">109</span></a>\n",
       "<span style=\"color: #7fbfbf; text-decoration-color: #7fbfbf\">                    </span>         es\\soccerdata\\fbref.py:<span style=\"color: #008080; text-decoration-color: #008080; font-weight: bold\">165</span>: FutureWarning: The behavior of DataFrame   <span style=\"color: #7f7f7f; text-decoration-color: #7f7f7f\">               </span>\n",
       "<span style=\"color: #7fbfbf; text-decoration-color: #7fbfbf\">                    </span>         concatenation with empty or all-NA entries is deprecated. In a future  <span style=\"color: #7f7f7f; text-decoration-color: #7f7f7f\">               </span>\n",
       "<span style=\"color: #7fbfbf; text-decoration-color: #7fbfbf\">                    </span>         version, this will no longer exclude empty or all-NA columns when      <span style=\"color: #7f7f7f; text-decoration-color: #7f7f7f\">               </span>\n",
       "<span style=\"color: #7fbfbf; text-decoration-color: #7fbfbf\">                    </span>         determining the result dtypes. To retain the old behavior, exclude the <span style=\"color: #7f7f7f; text-decoration-color: #7f7f7f\">               </span>\n",
       "<span style=\"color: #7fbfbf; text-decoration-color: #7fbfbf\">                    </span>         relevant entries before the concat operation.                          <span style=\"color: #7f7f7f; text-decoration-color: #7f7f7f\">               </span>\n",
       "<span style=\"color: #7fbfbf; text-decoration-color: #7fbfbf\">                    </span>           <span style=\"color: #800080; text-decoration-color: #800080; font-weight: bold\">pd.concat</span><span style=\"font-weight: bold\">(</span>dfs<span style=\"font-weight: bold\">)</span>                                                       <span style=\"color: #7f7f7f; text-decoration-color: #7f7f7f\">               </span>\n",
       "<span style=\"color: #7fbfbf; text-decoration-color: #7fbfbf\">                    </span>                                                                                <span style=\"color: #7f7f7f; text-decoration-color: #7f7f7f\">               </span>\n",
       "</pre>\n"
      ],
      "text/plain": [
       "\u001b[2;36m[07/03/25 13:46:35]\u001b[0m\u001b[2;36m \u001b[0m\u001b[33mWARNING \u001b[0m c:\\Users\\ez\\Documents\\GitHub\\AI-Football-Manager\\.venv\\lib\\site-packag \u001b]8;id=478573;file://C:\\Users\\ez\\AppData\\Local\\Programs\\Python\\Python39\\lib\\warnings.py\u001b\\\u001b[2mwarnings.py\u001b[0m\u001b]8;;\u001b\\\u001b[2m:\u001b[0m\u001b]8;id=907353;file://C:\\Users\\ez\\AppData\\Local\\Programs\\Python\\Python39\\lib\\warnings.py#109\u001b\\\u001b[2m109\u001b[0m\u001b]8;;\u001b\\\n",
       "\u001b[2;36m                    \u001b[0m         es\\soccerdata\\fbref.py:\u001b[1;36m165\u001b[0m: FutureWarning: The behavior of DataFrame   \u001b[2m               \u001b[0m\n",
       "\u001b[2;36m                    \u001b[0m         concatenation with empty or all-NA entries is deprecated. In a future  \u001b[2m               \u001b[0m\n",
       "\u001b[2;36m                    \u001b[0m         version, this will no longer exclude empty or all-NA columns when      \u001b[2m               \u001b[0m\n",
       "\u001b[2;36m                    \u001b[0m         determining the result dtypes. To retain the old behavior, exclude the \u001b[2m               \u001b[0m\n",
       "\u001b[2;36m                    \u001b[0m         relevant entries before the concat operation.                          \u001b[2m               \u001b[0m\n",
       "\u001b[2;36m                    \u001b[0m           \u001b[1;35mpd.concat\u001b[0m\u001b[1m(\u001b[0mdfs\u001b[1m)\u001b[0m                                                       \u001b[2m               \u001b[0m\n",
       "\u001b[2;36m                    \u001b[0m                                                                                \u001b[2m               \u001b[0m\n"
      ]
     },
     "metadata": {},
     "output_type": "display_data"
    },
    {
     "data": {
      "text/html": [
       "<pre style=\"white-space:pre;overflow-x:auto;line-height:normal;font-family:Menlo,'DejaVu Sans Mono',consolas,'Courier New',monospace\"><span style=\"color: #7fbfbf; text-decoration-color: #7fbfbf\">[07/03/25 13:47:00] </span><span style=\"color: #808000; text-decoration-color: #808000\">WARNING </span> c:\\Users\\ez\\Documents\\GitHub\\AI-Football-Manager\\.venv\\lib\\site-packag <a href=\"file://C:\\Users\\ez\\AppData\\Local\\Programs\\Python\\Python39\\lib\\warnings.py\" target=\"_blank\"><span style=\"color: #7f7f7f; text-decoration-color: #7f7f7f\">warnings.py</span></a><span style=\"color: #7f7f7f; text-decoration-color: #7f7f7f\">:</span><a href=\"file://C:\\Users\\ez\\AppData\\Local\\Programs\\Python\\Python39\\lib\\warnings.py#109\" target=\"_blank\"><span style=\"color: #7f7f7f; text-decoration-color: #7f7f7f\">109</span></a>\n",
       "<span style=\"color: #7fbfbf; text-decoration-color: #7fbfbf\">                    </span>         es\\soccerdata\\fbref.py:<span style=\"color: #008080; text-decoration-color: #008080; font-weight: bold\">165</span>: FutureWarning: The behavior of DataFrame   <span style=\"color: #7f7f7f; text-decoration-color: #7f7f7f\">               </span>\n",
       "<span style=\"color: #7fbfbf; text-decoration-color: #7fbfbf\">                    </span>         concatenation with empty or all-NA entries is deprecated. In a future  <span style=\"color: #7f7f7f; text-decoration-color: #7f7f7f\">               </span>\n",
       "<span style=\"color: #7fbfbf; text-decoration-color: #7fbfbf\">                    </span>         version, this will no longer exclude empty or all-NA columns when      <span style=\"color: #7f7f7f; text-decoration-color: #7f7f7f\">               </span>\n",
       "<span style=\"color: #7fbfbf; text-decoration-color: #7fbfbf\">                    </span>         determining the result dtypes. To retain the old behavior, exclude the <span style=\"color: #7f7f7f; text-decoration-color: #7f7f7f\">               </span>\n",
       "<span style=\"color: #7fbfbf; text-decoration-color: #7fbfbf\">                    </span>         relevant entries before the concat operation.                          <span style=\"color: #7f7f7f; text-decoration-color: #7f7f7f\">               </span>\n",
       "<span style=\"color: #7fbfbf; text-decoration-color: #7fbfbf\">                    </span>           <span style=\"color: #800080; text-decoration-color: #800080; font-weight: bold\">pd.concat</span><span style=\"font-weight: bold\">(</span>dfs<span style=\"font-weight: bold\">)</span>                                                       <span style=\"color: #7f7f7f; text-decoration-color: #7f7f7f\">               </span>\n",
       "<span style=\"color: #7fbfbf; text-decoration-color: #7fbfbf\">                    </span>                                                                                <span style=\"color: #7f7f7f; text-decoration-color: #7f7f7f\">               </span>\n",
       "</pre>\n"
      ],
      "text/plain": [
       "\u001b[2;36m[07/03/25 13:47:00]\u001b[0m\u001b[2;36m \u001b[0m\u001b[33mWARNING \u001b[0m c:\\Users\\ez\\Documents\\GitHub\\AI-Football-Manager\\.venv\\lib\\site-packag \u001b]8;id=34965;file://C:\\Users\\ez\\AppData\\Local\\Programs\\Python\\Python39\\lib\\warnings.py\u001b\\\u001b[2mwarnings.py\u001b[0m\u001b]8;;\u001b\\\u001b[2m:\u001b[0m\u001b]8;id=30682;file://C:\\Users\\ez\\AppData\\Local\\Programs\\Python\\Python39\\lib\\warnings.py#109\u001b\\\u001b[2m109\u001b[0m\u001b]8;;\u001b\\\n",
       "\u001b[2;36m                    \u001b[0m         es\\soccerdata\\fbref.py:\u001b[1;36m165\u001b[0m: FutureWarning: The behavior of DataFrame   \u001b[2m               \u001b[0m\n",
       "\u001b[2;36m                    \u001b[0m         concatenation with empty or all-NA entries is deprecated. In a future  \u001b[2m               \u001b[0m\n",
       "\u001b[2;36m                    \u001b[0m         version, this will no longer exclude empty or all-NA columns when      \u001b[2m               \u001b[0m\n",
       "\u001b[2;36m                    \u001b[0m         determining the result dtypes. To retain the old behavior, exclude the \u001b[2m               \u001b[0m\n",
       "\u001b[2;36m                    \u001b[0m         relevant entries before the concat operation.                          \u001b[2m               \u001b[0m\n",
       "\u001b[2;36m                    \u001b[0m           \u001b[1;35mpd.concat\u001b[0m\u001b[1m(\u001b[0mdfs\u001b[1m)\u001b[0m                                                       \u001b[2m               \u001b[0m\n",
       "\u001b[2;36m                    \u001b[0m                                                                                \u001b[2m               \u001b[0m\n"
      ]
     },
     "metadata": {},
     "output_type": "display_data"
    },
    {
     "name": "stdout",
     "output_type": "stream",
     "text": [
      "수집된 데이터:\n",
      "    MatchDate HomeTeam   AwayTeam  GF3Home  GA3Home  GF5Home  GA5Home  \\\n",
      "0  2025-05-25   Wolves  Brentford        2        7        6        7   \n",
      "\n",
      "   GF3Away  GA3Away  GF5Away  GA5Away  Form3Home  Form5Home  Form3Away  \\\n",
      "0        7        6       13        8          0          6          6   \n",
      "\n",
      "   Form5Away      HomeElo      AwayElo  \n",
      "0         12  1732.723511  1809.577148  \n"
     ]
    }
   ],
   "source": [
    "collector = DataCollector()\n",
    "\n",
    "# 4. 수집 실행\n",
    "df_test = collector.collect_features(\n",
    "    match_date=params_1[\"match_date\"],\n",
    "    home_team=params_1[\"home_team\"],\n",
    "    away_team=params_1[\"away_team\"]\n",
    ")\n",
    "\n",
    "print(\"수집된 데이터:\")\n",
    "print(df_test)"
   ]
  },
  {
   "cell_type": "code",
   "execution_count": 7,
   "id": "3a29ede5",
   "metadata": {},
   "outputs": [
    {
     "name": "stdout",
     "output_type": "stream",
     "text": [
      "['MatchDate', 'HomeTeam', 'AwayTeam', 'GF3Home', 'GA3Home', 'GF5Home', 'GA5Home', 'GF3Away', 'GA3Away', 'GF5Away', 'GA5Away', 'Form3Home', 'Form5Home', 'Form3Away', 'Form5Away', 'HomeElo', 'AwayElo']\n"
     ]
    }
   ],
   "source": [
    "print(df_test.columns.tolist())"
   ]
  },
  {
   "cell_type": "code",
   "execution_count": 8,
   "id": "8e088191",
   "metadata": {},
   "outputs": [
    {
     "data": {
      "text/html": [
       "<div>\n",
       "<style scoped>\n",
       "    .dataframe tbody tr th:only-of-type {\n",
       "        vertical-align: middle;\n",
       "    }\n",
       "\n",
       "    .dataframe tbody tr th {\n",
       "        vertical-align: top;\n",
       "    }\n",
       "\n",
       "    .dataframe thead th {\n",
       "        text-align: right;\n",
       "    }\n",
       "</style>\n",
       "<table border=\"1\" class=\"dataframe\">\n",
       "  <thead>\n",
       "    <tr style=\"text-align: right;\">\n",
       "      <th></th>\n",
       "      <th>MatchDate</th>\n",
       "      <th>HomeTeam</th>\n",
       "      <th>AwayTeam</th>\n",
       "      <th>GF3Home</th>\n",
       "      <th>GA3Home</th>\n",
       "      <th>GF5Home</th>\n",
       "      <th>GA5Home</th>\n",
       "      <th>GF3Away</th>\n",
       "      <th>GA3Away</th>\n",
       "      <th>GF5Away</th>\n",
       "      <th>GA5Away</th>\n",
       "      <th>Form3Home</th>\n",
       "      <th>Form5Home</th>\n",
       "      <th>Form3Away</th>\n",
       "      <th>Form5Away</th>\n",
       "      <th>HomeElo</th>\n",
       "      <th>AwayElo</th>\n",
       "    </tr>\n",
       "  </thead>\n",
       "  <tbody>\n",
       "    <tr>\n",
       "      <th>0</th>\n",
       "      <td>2025-05-25</td>\n",
       "      <td>Wolves</td>\n",
       "      <td>Brentford</td>\n",
       "      <td>2</td>\n",
       "      <td>7</td>\n",
       "      <td>6</td>\n",
       "      <td>7</td>\n",
       "      <td>7</td>\n",
       "      <td>6</td>\n",
       "      <td>13</td>\n",
       "      <td>8</td>\n",
       "      <td>0</td>\n",
       "      <td>6</td>\n",
       "      <td>6</td>\n",
       "      <td>12</td>\n",
       "      <td>1732.723511</td>\n",
       "      <td>1809.577148</td>\n",
       "    </tr>\n",
       "  </tbody>\n",
       "</table>\n",
       "</div>"
      ],
      "text/plain": [
       "    MatchDate HomeTeam   AwayTeam  GF3Home  GA3Home  GF5Home  GA5Home  \\\n",
       "0  2025-05-25   Wolves  Brentford        2        7        6        7   \n",
       "\n",
       "   GF3Away  GA3Away  GF5Away  GA5Away  Form3Home  Form5Home  Form3Away  \\\n",
       "0        7        6       13        8          0          6          6   \n",
       "\n",
       "   Form5Away      HomeElo      AwayElo  \n",
       "0         12  1732.723511  1809.577148  "
      ]
     },
     "execution_count": 8,
     "metadata": {},
     "output_type": "execute_result"
    }
   ],
   "source": [
    "df_test"
   ]
  },
  {
   "cell_type": "code",
   "execution_count": 12,
   "id": "1280333b",
   "metadata": {},
   "outputs": [],
   "source": [
    "df_test.to_csv('teamData.csv')"
   ]
  },
  {
   "cell_type": "code",
   "execution_count": 1,
   "id": "1db316ac",
   "metadata": {},
   "outputs": [
    {
     "data": {
      "text/html": [
       "<pre style=\"white-space:pre;overflow-x:auto;line-height:normal;font-family:Menlo,'DejaVu Sans Mono',consolas,'Courier New',monospace\"><span style=\"color: #7fbfbf; text-decoration-color: #7fbfbf\">[07/03/25 14:00:32] </span><span style=\"color: #000080; text-decoration-color: #000080\">INFO    </span> No custom team name replacements found. You can configure these in       <a href=\"file://c:\\Users\\ez\\Documents\\GitHub\\AI-Football-Manager\\.venv\\lib\\site-packages\\soccerdata\\_config.py\" target=\"_blank\"><span style=\"color: #7f7f7f; text-decoration-color: #7f7f7f\">_config.py</span></a><span style=\"color: #7f7f7f; text-decoration-color: #7f7f7f\">:</span><a href=\"file://c:\\Users\\ez\\Documents\\GitHub\\AI-Football-Manager\\.venv\\lib\\site-packages\\soccerdata\\_config.py#91\" target=\"_blank\"><span style=\"color: #7f7f7f; text-decoration-color: #7f7f7f\">91</span></a>\n",
       "<span style=\"color: #7fbfbf; text-decoration-color: #7fbfbf\">                    </span>         C:\\Users\\ez\\soccerdata\\config\\teamname_replacements.json.                <span style=\"color: #7f7f7f; text-decoration-color: #7f7f7f\">             </span>\n",
       "</pre>\n"
      ],
      "text/plain": [
       "\u001b[2;36m[07/03/25 14:00:32]\u001b[0m\u001b[2;36m \u001b[0m\u001b[34mINFO    \u001b[0m No custom team name replacements found. You can configure these in       \u001b]8;id=698247;file://c:\\Users\\ez\\Documents\\GitHub\\AI-Football-Manager\\.venv\\lib\\site-packages\\soccerdata\\_config.py\u001b\\\u001b[2m_config.py\u001b[0m\u001b]8;;\u001b\\\u001b[2m:\u001b[0m\u001b]8;id=92471;file://c:\\Users\\ez\\Documents\\GitHub\\AI-Football-Manager\\.venv\\lib\\site-packages\\soccerdata\\_config.py#91\u001b\\\u001b[2m91\u001b[0m\u001b]8;;\u001b\\\n",
       "\u001b[2;36m                    \u001b[0m         C:\\Users\\ez\\soccerdata\\config\\teamname_replacements.json.                \u001b[2m             \u001b[0m\n"
      ]
     },
     "metadata": {},
     "output_type": "display_data"
    },
    {
     "data": {
      "text/html": [
       "<pre style=\"white-space:pre;overflow-x:auto;line-height:normal;font-family:Menlo,'DejaVu Sans Mono',consolas,'Courier New',monospace\"><span style=\"color: #7fbfbf; text-decoration-color: #7fbfbf\">                    </span><span style=\"color: #000080; text-decoration-color: #000080\">INFO    </span> No custom league dict found. You can configure additional leagues in    <a href=\"file://c:\\Users\\ez\\Documents\\GitHub\\AI-Football-Manager\\.venv\\lib\\site-packages\\soccerdata\\_config.py\" target=\"_blank\"><span style=\"color: #7f7f7f; text-decoration-color: #7f7f7f\">_config.py</span></a><span style=\"color: #7f7f7f; text-decoration-color: #7f7f7f\">:</span><a href=\"file://c:\\Users\\ez\\Documents\\GitHub\\AI-Football-Manager\\.venv\\lib\\site-packages\\soccerdata\\_config.py#197\" target=\"_blank\"><span style=\"color: #7f7f7f; text-decoration-color: #7f7f7f\">197</span></a>\n",
       "<span style=\"color: #7fbfbf; text-decoration-color: #7fbfbf\">                    </span>         C:\\Users\\ez\\soccerdata\\config\\league_dict.json.                         <span style=\"color: #7f7f7f; text-decoration-color: #7f7f7f\">              </span>\n",
       "</pre>\n"
      ],
      "text/plain": [
       "\u001b[2;36m                   \u001b[0m\u001b[2;36m \u001b[0m\u001b[34mINFO    \u001b[0m No custom league dict found. You can configure additional leagues in    \u001b]8;id=597845;file://c:\\Users\\ez\\Documents\\GitHub\\AI-Football-Manager\\.venv\\lib\\site-packages\\soccerdata\\_config.py\u001b\\\u001b[2m_config.py\u001b[0m\u001b]8;;\u001b\\\u001b[2m:\u001b[0m\u001b]8;id=835408;file://c:\\Users\\ez\\Documents\\GitHub\\AI-Football-Manager\\.venv\\lib\\site-packages\\soccerdata\\_config.py#197\u001b\\\u001b[2m197\u001b[0m\u001b]8;;\u001b\\\n",
       "\u001b[2;36m                    \u001b[0m         C:\\Users\\ez\\soccerdata\\config\\league_dict.json.                         \u001b[2m              \u001b[0m\n"
      ]
     },
     "metadata": {},
     "output_type": "display_data"
    },
    {
     "data": {
      "text/html": [
       "<pre style=\"white-space:pre;overflow-x:auto;line-height:normal;font-family:Menlo,'DejaVu Sans Mono',consolas,'Courier New',monospace\"><span style=\"color: #7fbfbf; text-decoration-color: #7fbfbf\">                    </span><span style=\"color: #000080; text-decoration-color: #000080\">INFO    </span> Saving cached data to C:\\Users\\ez\\soccerdata\\data\\Understat             <a href=\"file://c:\\Users\\ez\\Documents\\GitHub\\AI-Football-Manager\\.venv\\lib\\site-packages\\soccerdata\\_common.py\" target=\"_blank\"><span style=\"color: #7f7f7f; text-decoration-color: #7f7f7f\">_common.py</span></a><span style=\"color: #7f7f7f; text-decoration-color: #7f7f7f\">:</span><a href=\"file://c:\\Users\\ez\\Documents\\GitHub\\AI-Football-Manager\\.venv\\lib\\site-packages\\soccerdata\\_common.py#263\" target=\"_blank\"><span style=\"color: #7f7f7f; text-decoration-color: #7f7f7f\">263</span></a>\n",
       "</pre>\n"
      ],
      "text/plain": [
       "\u001b[2;36m                   \u001b[0m\u001b[2;36m \u001b[0m\u001b[34mINFO    \u001b[0m Saving cached data to C:\\Users\\ez\\soccerdata\\data\\Understat             \u001b]8;id=229170;file://c:\\Users\\ez\\Documents\\GitHub\\AI-Football-Manager\\.venv\\lib\\site-packages\\soccerdata\\_common.py\u001b\\\u001b[2m_common.py\u001b[0m\u001b]8;;\u001b\\\u001b[2m:\u001b[0m\u001b]8;id=97633;file://c:\\Users\\ez\\Documents\\GitHub\\AI-Football-Manager\\.venv\\lib\\site-packages\\soccerdata\\_common.py#263\u001b\\\u001b[2m263\u001b[0m\u001b]8;;\u001b\\\n"
      ]
     },
     "metadata": {},
     "output_type": "display_data"
    },
    {
     "name": "stdout",
     "output_type": "stream",
     "text": [
      "✅ 저장 완료: teamData_xG.csv (행 수: 1)\n"
     ]
    }
   ],
   "source": [
    "from dataParsing.merge_understat_xg import merge_understat_xg\n",
    "\n",
    "df_updated = merge_understat_xg(\n",
    "    csv_path='teamData.csv',\n",
    "    save_path='teamData_xG.csv',\n",
    "    seasons=[2024]\n",
    ")\n"
   ]
  },
  {
   "cell_type": "code",
   "execution_count": 2,
   "id": "834c1716",
   "metadata": {},
   "outputs": [
    {
     "data": {
      "text/html": [
       "<div>\n",
       "<style scoped>\n",
       "    .dataframe tbody tr th:only-of-type {\n",
       "        vertical-align: middle;\n",
       "    }\n",
       "\n",
       "    .dataframe tbody tr th {\n",
       "        vertical-align: top;\n",
       "    }\n",
       "\n",
       "    .dataframe thead th {\n",
       "        text-align: right;\n",
       "    }\n",
       "</style>\n",
       "<table border=\"1\" class=\"dataframe\">\n",
       "  <thead>\n",
       "    <tr style=\"text-align: right;\">\n",
       "      <th></th>\n",
       "      <th>Unnamed: 0</th>\n",
       "      <th>MatchDate</th>\n",
       "      <th>HomeTeam</th>\n",
       "      <th>AwayTeam</th>\n",
       "      <th>GF3Home</th>\n",
       "      <th>GA3Home</th>\n",
       "      <th>GF5Home</th>\n",
       "      <th>GA5Home</th>\n",
       "      <th>GF3Away</th>\n",
       "      <th>GA3Away</th>\n",
       "      <th>...</th>\n",
       "      <th>Form5Away</th>\n",
       "      <th>HomeElo</th>\n",
       "      <th>AwayElo</th>\n",
       "      <th>h_xg</th>\n",
       "      <th>a_xg</th>\n",
       "      <th>xG_diff</th>\n",
       "      <th>xg_margin</th>\n",
       "      <th>xg_ratio</th>\n",
       "      <th>rolling_xg_home_5</th>\n",
       "      <th>rolling_xg_away_5</th>\n",
       "    </tr>\n",
       "  </thead>\n",
       "  <tbody>\n",
       "    <tr>\n",
       "      <th>0</th>\n",
       "      <td>0</td>\n",
       "      <td>2025-05-25</td>\n",
       "      <td>Wolverhampton Wanderers</td>\n",
       "      <td>Brentford</td>\n",
       "      <td>2</td>\n",
       "      <td>7</td>\n",
       "      <td>6</td>\n",
       "      <td>7</td>\n",
       "      <td>7</td>\n",
       "      <td>6</td>\n",
       "      <td>...</td>\n",
       "      <td>12</td>\n",
       "      <td>1732.723511</td>\n",
       "      <td>1809.577148</td>\n",
       "      <td>1.10889</td>\n",
       "      <td>1.97196</td>\n",
       "      <td>-0.86307</td>\n",
       "      <td>0.86307</td>\n",
       "      <td>0.562329</td>\n",
       "      <td>1.10889</td>\n",
       "      <td>1.97196</td>\n",
       "    </tr>\n",
       "  </tbody>\n",
       "</table>\n",
       "<p>1 rows × 25 columns</p>\n",
       "</div>"
      ],
      "text/plain": [
       "   Unnamed: 0   MatchDate                 HomeTeam   AwayTeam  GF3Home  \\\n",
       "0           0  2025-05-25  Wolverhampton Wanderers  Brentford        2   \n",
       "\n",
       "   GA3Home  GF5Home  GA5Home  GF3Away  GA3Away  ...  Form5Away      HomeElo  \\\n",
       "0        7        6        7        7        6  ...         12  1732.723511   \n",
       "\n",
       "       AwayElo     h_xg     a_xg  xG_diff  xg_margin  xg_ratio  \\\n",
       "0  1809.577148  1.10889  1.97196 -0.86307    0.86307  0.562329   \n",
       "\n",
       "   rolling_xg_home_5  rolling_xg_away_5  \n",
       "0            1.10889            1.97196  \n",
       "\n",
       "[1 rows x 25 columns]"
      ]
     },
     "execution_count": 2,
     "metadata": {},
     "output_type": "execute_result"
    }
   ],
   "source": [
    "df_updated"
   ]
  }
 ],
 "metadata": {
  "kernelspec": {
   "display_name": ".venv",
   "language": "python",
   "name": "python3"
  },
  "language_info": {
   "codemirror_mode": {
    "name": "ipython",
    "version": 3
   },
   "file_extension": ".py",
   "mimetype": "text/x-python",
   "name": "python",
   "nbconvert_exporter": "python",
   "pygments_lexer": "ipython3",
   "version": "3.9.13"
  }
 },
 "nbformat": 4,
 "nbformat_minor": 5
}
