{
 "cells": [
  {
   "cell_type": "markdown",
   "id": "91ed8326",
   "metadata": {},
   "source": [
    "### 사용 예제\n",
    "- 사용자 입력만 넣으면 된다"
   ]
  },
  {
   "cell_type": "code",
   "execution_count": 1,
   "id": "ff22dcef",
   "metadata": {},
   "outputs": [],
   "source": [
    "from collect_all_features import collect_all_features_from_input"
   ]
  },
  {
   "cell_type": "code",
   "execution_count": 2,
   "id": "c1b19a23",
   "metadata": {},
   "outputs": [
    {
     "data": {
      "text/html": [
       "<pre style=\"white-space:pre;overflow-x:auto;line-height:normal;font-family:Menlo,'DejaVu Sans Mono',consolas,'Courier New',monospace\"><span style=\"color: #7fbfbf; text-decoration-color: #7fbfbf\">[07/04/25 09:11:47] </span><span style=\"color: #000080; text-decoration-color: #000080\">INFO    </span> No custom team name replacements found. You can configure these in       <a href=\"file://c:\\Users\\ez\\Documents\\GitHub\\AI-Football-Manager\\.venv\\lib\\site-packages\\soccerdata\\_config.py\" target=\"_blank\"><span style=\"color: #7f7f7f; text-decoration-color: #7f7f7f\">_config.py</span></a><span style=\"color: #7f7f7f; text-decoration-color: #7f7f7f\">:</span><a href=\"file://c:\\Users\\ez\\Documents\\GitHub\\AI-Football-Manager\\.venv\\lib\\site-packages\\soccerdata\\_config.py#91\" target=\"_blank\"><span style=\"color: #7f7f7f; text-decoration-color: #7f7f7f\">91</span></a>\n",
       "<span style=\"color: #7fbfbf; text-decoration-color: #7fbfbf\">                    </span>         C:\\Users\\ez\\soccerdata\\config\\teamname_replacements.json.                <span style=\"color: #7f7f7f; text-decoration-color: #7f7f7f\">             </span>\n",
       "</pre>\n"
      ],
      "text/plain": [
       "\u001b[2;36m[07/04/25 09:11:47]\u001b[0m\u001b[2;36m \u001b[0m\u001b[34mINFO    \u001b[0m No custom team name replacements found. You can configure these in       \u001b]8;id=131289;file://c:\\Users\\ez\\Documents\\GitHub\\AI-Football-Manager\\.venv\\lib\\site-packages\\soccerdata\\_config.py\u001b\\\u001b[2m_config.py\u001b[0m\u001b]8;;\u001b\\\u001b[2m:\u001b[0m\u001b]8;id=695042;file://c:\\Users\\ez\\Documents\\GitHub\\AI-Football-Manager\\.venv\\lib\\site-packages\\soccerdata\\_config.py#91\u001b\\\u001b[2m91\u001b[0m\u001b]8;;\u001b\\\n",
       "\u001b[2;36m                    \u001b[0m         C:\\Users\\ez\\soccerdata\\config\\teamname_replacements.json.                \u001b[2m             \u001b[0m\n"
      ]
     },
     "metadata": {},
     "output_type": "display_data"
    },
    {
     "data": {
      "text/html": [
       "<pre style=\"white-space:pre;overflow-x:auto;line-height:normal;font-family:Menlo,'DejaVu Sans Mono',consolas,'Courier New',monospace\"><span style=\"color: #7fbfbf; text-decoration-color: #7fbfbf\">                    </span><span style=\"color: #000080; text-decoration-color: #000080\">INFO    </span> No custom league dict found. You can configure additional leagues in    <a href=\"file://c:\\Users\\ez\\Documents\\GitHub\\AI-Football-Manager\\.venv\\lib\\site-packages\\soccerdata\\_config.py\" target=\"_blank\"><span style=\"color: #7f7f7f; text-decoration-color: #7f7f7f\">_config.py</span></a><span style=\"color: #7f7f7f; text-decoration-color: #7f7f7f\">:</span><a href=\"file://c:\\Users\\ez\\Documents\\GitHub\\AI-Football-Manager\\.venv\\lib\\site-packages\\soccerdata\\_config.py#197\" target=\"_blank\"><span style=\"color: #7f7f7f; text-decoration-color: #7f7f7f\">197</span></a>\n",
       "<span style=\"color: #7fbfbf; text-decoration-color: #7fbfbf\">                    </span>         C:\\Users\\ez\\soccerdata\\config\\league_dict.json.                         <span style=\"color: #7f7f7f; text-decoration-color: #7f7f7f\">              </span>\n",
       "</pre>\n"
      ],
      "text/plain": [
       "\u001b[2;36m                   \u001b[0m\u001b[2;36m \u001b[0m\u001b[34mINFO    \u001b[0m No custom league dict found. You can configure additional leagues in    \u001b]8;id=331151;file://c:\\Users\\ez\\Documents\\GitHub\\AI-Football-Manager\\.venv\\lib\\site-packages\\soccerdata\\_config.py\u001b\\\u001b[2m_config.py\u001b[0m\u001b]8;;\u001b\\\u001b[2m:\u001b[0m\u001b]8;id=635689;file://c:\\Users\\ez\\Documents\\GitHub\\AI-Football-Manager\\.venv\\lib\\site-packages\\soccerdata\\_config.py#197\u001b\\\u001b[2m197\u001b[0m\u001b]8;;\u001b\\\n",
       "\u001b[2;36m                    \u001b[0m         C:\\Users\\ez\\soccerdata\\config\\league_dict.json.                         \u001b[2m              \u001b[0m\n"
      ]
     },
     "metadata": {},
     "output_type": "display_data"
    },
    {
     "data": {
      "text/html": [
       "<pre style=\"white-space:pre;overflow-x:auto;line-height:normal;font-family:Menlo,'DejaVu Sans Mono',consolas,'Courier New',monospace\"><span style=\"color: #7fbfbf; text-decoration-color: #7fbfbf\">                    </span><span style=\"color: #000080; text-decoration-color: #000080\">INFO    </span> Saving cached data to C:\\Users\\ez\\soccerdata\\data\\FBref                 <a href=\"file://c:\\Users\\ez\\Documents\\GitHub\\AI-Football-Manager\\.venv\\lib\\site-packages\\soccerdata\\_common.py\" target=\"_blank\"><span style=\"color: #7f7f7f; text-decoration-color: #7f7f7f\">_common.py</span></a><span style=\"color: #7f7f7f; text-decoration-color: #7f7f7f\">:</span><a href=\"file://c:\\Users\\ez\\Documents\\GitHub\\AI-Football-Manager\\.venv\\lib\\site-packages\\soccerdata\\_common.py#263\" target=\"_blank\"><span style=\"color: #7f7f7f; text-decoration-color: #7f7f7f\">263</span></a>\n",
       "</pre>\n"
      ],
      "text/plain": [
       "\u001b[2;36m                   \u001b[0m\u001b[2;36m \u001b[0m\u001b[34mINFO    \u001b[0m Saving cached data to C:\\Users\\ez\\soccerdata\\data\\FBref                 \u001b]8;id=958123;file://c:\\Users\\ez\\Documents\\GitHub\\AI-Football-Manager\\.venv\\lib\\site-packages\\soccerdata\\_common.py\u001b\\\u001b[2m_common.py\u001b[0m\u001b]8;;\u001b\\\u001b[2m:\u001b[0m\u001b]8;id=576854;file://c:\\Users\\ez\\Documents\\GitHub\\AI-Football-Manager\\.venv\\lib\\site-packages\\soccerdata\\_common.py#263\u001b\\\u001b[2m263\u001b[0m\u001b]8;;\u001b\\\n"
      ]
     },
     "metadata": {},
     "output_type": "display_data"
    },
    {
     "data": {
      "text/html": [
       "<pre style=\"white-space:pre;overflow-x:auto;line-height:normal;font-family:Menlo,'DejaVu Sans Mono',consolas,'Courier New',monospace\"><span style=\"color: #7fbfbf; text-decoration-color: #7fbfbf\">                    </span><span style=\"color: #000080; text-decoration-color: #000080\">INFO    </span> Saving cached data to C:\\Users\\ez\\soccerdata\\data\\ClubElo               <a href=\"file://c:\\Users\\ez\\Documents\\GitHub\\AI-Football-Manager\\.venv\\lib\\site-packages\\soccerdata\\_common.py\" target=\"_blank\"><span style=\"color: #7f7f7f; text-decoration-color: #7f7f7f\">_common.py</span></a><span style=\"color: #7f7f7f; text-decoration-color: #7f7f7f\">:</span><a href=\"file://c:\\Users\\ez\\Documents\\GitHub\\AI-Football-Manager\\.venv\\lib\\site-packages\\soccerdata\\_common.py#263\" target=\"_blank\"><span style=\"color: #7f7f7f; text-decoration-color: #7f7f7f\">263</span></a>\n",
       "</pre>\n"
      ],
      "text/plain": [
       "\u001b[2;36m                   \u001b[0m\u001b[2;36m \u001b[0m\u001b[34mINFO    \u001b[0m Saving cached data to C:\\Users\\ez\\soccerdata\\data\\ClubElo               \u001b]8;id=262935;file://c:\\Users\\ez\\Documents\\GitHub\\AI-Football-Manager\\.venv\\lib\\site-packages\\soccerdata\\_common.py\u001b\\\u001b[2m_common.py\u001b[0m\u001b]8;;\u001b\\\u001b[2m:\u001b[0m\u001b]8;id=589052;file://c:\\Users\\ez\\Documents\\GitHub\\AI-Football-Manager\\.venv\\lib\\site-packages\\soccerdata\\_common.py#263\u001b\\\u001b[2m263\u001b[0m\u001b]8;;\u001b\\\n"
      ]
     },
     "metadata": {},
     "output_type": "display_data"
    },
    {
     "data": {
      "text/html": [
       "<pre style=\"white-space:pre;overflow-x:auto;line-height:normal;font-family:Menlo,'DejaVu Sans Mono',consolas,'Courier New',monospace\"><span style=\"color: #7fbfbf; text-decoration-color: #7fbfbf\">[07/04/25 09:11:53] </span><span style=\"color: #808000; text-decoration-color: #808000\">WARNING </span> c:\\Users\\ez\\Documents\\GitHub\\AI-Football-Manager\\.venv\\lib\\site-packag <a href=\"file://C:\\Users\\ez\\AppData\\Local\\Programs\\Python\\Python39\\lib\\warnings.py\" target=\"_blank\"><span style=\"color: #7f7f7f; text-decoration-color: #7f7f7f\">warnings.py</span></a><span style=\"color: #7f7f7f; text-decoration-color: #7f7f7f\">:</span><a href=\"file://C:\\Users\\ez\\AppData\\Local\\Programs\\Python\\Python39\\lib\\warnings.py#109\" target=\"_blank\"><span style=\"color: #7f7f7f; text-decoration-color: #7f7f7f\">109</span></a>\n",
       "<span style=\"color: #7fbfbf; text-decoration-color: #7fbfbf\">                    </span>         es\\soccerdata\\fbref.py:<span style=\"color: #008080; text-decoration-color: #008080; font-weight: bold\">165</span>: FutureWarning: The behavior of DataFrame   <span style=\"color: #7f7f7f; text-decoration-color: #7f7f7f\">               </span>\n",
       "<span style=\"color: #7fbfbf; text-decoration-color: #7fbfbf\">                    </span>         concatenation with empty or all-NA entries is deprecated. In a future  <span style=\"color: #7f7f7f; text-decoration-color: #7f7f7f\">               </span>\n",
       "<span style=\"color: #7fbfbf; text-decoration-color: #7fbfbf\">                    </span>         version, this will no longer exclude empty or all-NA columns when      <span style=\"color: #7f7f7f; text-decoration-color: #7f7f7f\">               </span>\n",
       "<span style=\"color: #7fbfbf; text-decoration-color: #7fbfbf\">                    </span>         determining the result dtypes. To retain the old behavior, exclude the <span style=\"color: #7f7f7f; text-decoration-color: #7f7f7f\">               </span>\n",
       "<span style=\"color: #7fbfbf; text-decoration-color: #7fbfbf\">                    </span>         relevant entries before the concat operation.                          <span style=\"color: #7f7f7f; text-decoration-color: #7f7f7f\">               </span>\n",
       "<span style=\"color: #7fbfbf; text-decoration-color: #7fbfbf\">                    </span>           <span style=\"color: #800080; text-decoration-color: #800080; font-weight: bold\">pd.concat</span><span style=\"font-weight: bold\">(</span>dfs<span style=\"font-weight: bold\">)</span>                                                       <span style=\"color: #7f7f7f; text-decoration-color: #7f7f7f\">               </span>\n",
       "<span style=\"color: #7fbfbf; text-decoration-color: #7fbfbf\">                    </span>                                                                                <span style=\"color: #7f7f7f; text-decoration-color: #7f7f7f\">               </span>\n",
       "</pre>\n"
      ],
      "text/plain": [
       "\u001b[2;36m[07/04/25 09:11:53]\u001b[0m\u001b[2;36m \u001b[0m\u001b[33mWARNING \u001b[0m c:\\Users\\ez\\Documents\\GitHub\\AI-Football-Manager\\.venv\\lib\\site-packag \u001b]8;id=144188;file://C:\\Users\\ez\\AppData\\Local\\Programs\\Python\\Python39\\lib\\warnings.py\u001b\\\u001b[2mwarnings.py\u001b[0m\u001b]8;;\u001b\\\u001b[2m:\u001b[0m\u001b]8;id=712414;file://C:\\Users\\ez\\AppData\\Local\\Programs\\Python\\Python39\\lib\\warnings.py#109\u001b\\\u001b[2m109\u001b[0m\u001b]8;;\u001b\\\n",
       "\u001b[2;36m                    \u001b[0m         es\\soccerdata\\fbref.py:\u001b[1;36m165\u001b[0m: FutureWarning: The behavior of DataFrame   \u001b[2m               \u001b[0m\n",
       "\u001b[2;36m                    \u001b[0m         concatenation with empty or all-NA entries is deprecated. In a future  \u001b[2m               \u001b[0m\n",
       "\u001b[2;36m                    \u001b[0m         version, this will no longer exclude empty or all-NA columns when      \u001b[2m               \u001b[0m\n",
       "\u001b[2;36m                    \u001b[0m         determining the result dtypes. To retain the old behavior, exclude the \u001b[2m               \u001b[0m\n",
       "\u001b[2;36m                    \u001b[0m         relevant entries before the concat operation.                          \u001b[2m               \u001b[0m\n",
       "\u001b[2;36m                    \u001b[0m           \u001b[1;35mpd.concat\u001b[0m\u001b[1m(\u001b[0mdfs\u001b[1m)\u001b[0m                                                       \u001b[2m               \u001b[0m\n",
       "\u001b[2;36m                    \u001b[0m                                                                                \u001b[2m               \u001b[0m\n"
      ]
     },
     "metadata": {},
     "output_type": "display_data"
    },
    {
     "data": {
      "text/html": [
       "<pre style=\"white-space:pre;overflow-x:auto;line-height:normal;font-family:Menlo,'DejaVu Sans Mono',consolas,'Courier New',monospace\"><span style=\"color: #7fbfbf; text-decoration-color: #7fbfbf\">[07/04/25 09:12:12] </span><span style=\"color: #000080; text-decoration-color: #000080\">INFO    </span> Saving cached data to C:\\Users\\ez\\soccerdata\\data\\Understat             <a href=\"file://c:\\Users\\ez\\Documents\\GitHub\\AI-Football-Manager\\.venv\\lib\\site-packages\\soccerdata\\_common.py\" target=\"_blank\"><span style=\"color: #7f7f7f; text-decoration-color: #7f7f7f\">_common.py</span></a><span style=\"color: #7f7f7f; text-decoration-color: #7f7f7f\">:</span><a href=\"file://c:\\Users\\ez\\Documents\\GitHub\\AI-Football-Manager\\.venv\\lib\\site-packages\\soccerdata\\_common.py#263\" target=\"_blank\"><span style=\"color: #7f7f7f; text-decoration-color: #7f7f7f\">263</span></a>\n",
       "</pre>\n"
      ],
      "text/plain": [
       "\u001b[2;36m[07/04/25 09:12:12]\u001b[0m\u001b[2;36m \u001b[0m\u001b[34mINFO    \u001b[0m Saving cached data to C:\\Users\\ez\\soccerdata\\data\\Understat             \u001b]8;id=705203;file://c:\\Users\\ez\\Documents\\GitHub\\AI-Football-Manager\\.venv\\lib\\site-packages\\soccerdata\\_common.py\u001b\\\u001b[2m_common.py\u001b[0m\u001b]8;;\u001b\\\u001b[2m:\u001b[0m\u001b]8;id=584735;file://c:\\Users\\ez\\Documents\\GitHub\\AI-Football-Manager\\.venv\\lib\\site-packages\\soccerdata\\_common.py#263\u001b\\\u001b[2m263\u001b[0m\u001b]8;;\u001b\\\n"
      ]
     },
     "metadata": {},
     "output_type": "display_data"
    },
    {
     "name": "stdout",
     "output_type": "stream",
     "text": [
      "✅ 저장 완료: teamData_xG.csv (행 수: 1)\n"
     ]
    }
   ],
   "source": [
    "df = collect_all_features_from_input(\"5월 25일 울버햄튼과 브렌트포드 경기\")"
   ]
  },
  {
   "cell_type": "code",
   "execution_count": 3,
   "id": "31065025",
   "metadata": {},
   "outputs": [
    {
     "data": {
      "text/html": [
       "<div>\n",
       "<style scoped>\n",
       "    .dataframe tbody tr th:only-of-type {\n",
       "        vertical-align: middle;\n",
       "    }\n",
       "\n",
       "    .dataframe tbody tr th {\n",
       "        vertical-align: top;\n",
       "    }\n",
       "\n",
       "    .dataframe thead th {\n",
       "        text-align: right;\n",
       "    }\n",
       "</style>\n",
       "<table border=\"1\" class=\"dataframe\">\n",
       "  <thead>\n",
       "    <tr style=\"text-align: right;\">\n",
       "      <th></th>\n",
       "      <th>MatchDate</th>\n",
       "      <th>HomeTeam</th>\n",
       "      <th>AwayTeam</th>\n",
       "      <th>GF3Home</th>\n",
       "      <th>GA3Home</th>\n",
       "      <th>GF5Home</th>\n",
       "      <th>GA5Home</th>\n",
       "      <th>GF3Away</th>\n",
       "      <th>GA3Away</th>\n",
       "      <th>GF5Away</th>\n",
       "      <th>...</th>\n",
       "      <th>elo_diff</th>\n",
       "      <th>elo_change_home</th>\n",
       "      <th>elo_change_away</th>\n",
       "      <th>h_xg</th>\n",
       "      <th>a_xg</th>\n",
       "      <th>xG_diff</th>\n",
       "      <th>xg_margin</th>\n",
       "      <th>xg_ratio</th>\n",
       "      <th>rolling_xg_home_5</th>\n",
       "      <th>rolling_xg_away_5</th>\n",
       "    </tr>\n",
       "  </thead>\n",
       "  <tbody>\n",
       "    <tr>\n",
       "      <th>0</th>\n",
       "      <td>2025-05-25</td>\n",
       "      <td>Wolverhampton Wanderers</td>\n",
       "      <td>Brentford</td>\n",
       "      <td>2</td>\n",
       "      <td>7</td>\n",
       "      <td>6</td>\n",
       "      <td>7</td>\n",
       "      <td>7</td>\n",
       "      <td>6</td>\n",
       "      <td>13</td>\n",
       "      <td>...</td>\n",
       "      <td>-76.853638</td>\n",
       "      <td>-6.730103</td>\n",
       "      <td>0.0</td>\n",
       "      <td>1.10889</td>\n",
       "      <td>1.97196</td>\n",
       "      <td>-0.86307</td>\n",
       "      <td>0.86307</td>\n",
       "      <td>0.562329</td>\n",
       "      <td>1.10889</td>\n",
       "      <td>1.97196</td>\n",
       "    </tr>\n",
       "  </tbody>\n",
       "</table>\n",
       "<p>1 rows × 27 columns</p>\n",
       "</div>"
      ],
      "text/plain": [
       "    MatchDate                 HomeTeam   AwayTeam  GF3Home  GA3Home  GF5Home  \\\n",
       "0  2025-05-25  Wolverhampton Wanderers  Brentford        2        7        6   \n",
       "\n",
       "   GA5Home  GF3Away  GA3Away  GF5Away  ...   elo_diff  elo_change_home  \\\n",
       "0        7        7        6       13  ... -76.853638        -6.730103   \n",
       "\n",
       "   elo_change_away     h_xg     a_xg  xG_diff  xg_margin  xg_ratio  \\\n",
       "0              0.0  1.10889  1.97196 -0.86307    0.86307  0.562329   \n",
       "\n",
       "   rolling_xg_home_5  rolling_xg_away_5  \n",
       "0            1.10889            1.97196  \n",
       "\n",
       "[1 rows x 27 columns]"
      ]
     },
     "execution_count": 3,
     "metadata": {},
     "output_type": "execute_result"
    }
   ],
   "source": [
    "df"
   ]
  }
 ],
 "metadata": {
  "kernelspec": {
   "display_name": ".venv",
   "language": "python",
   "name": "python3"
  },
  "language_info": {
   "codemirror_mode": {
    "name": "ipython",
    "version": 3
   },
   "file_extension": ".py",
   "mimetype": "text/x-python",
   "name": "python",
   "nbconvert_exporter": "python",
   "pygments_lexer": "ipython3",
   "version": "3.9.13"
  }
 },
 "nbformat": 4,
 "nbformat_minor": 5
}
