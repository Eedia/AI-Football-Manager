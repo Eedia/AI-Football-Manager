{
 "cells": [
  {
   "cell_type": "markdown",
   "id": "91ed8326",
   "metadata": {},
   "source": [
    "### 사용 예제\n"
   ]
  },
  {
   "cell_type": "code",
   "execution_count": 1,
   "id": "ff22dcef",
   "metadata": {},
   "outputs": [
    {
     "data": {
      "text/html": [
       "<pre style=\"white-space:pre;overflow-x:auto;line-height:normal;font-family:Menlo,'DejaVu Sans Mono',consolas,'Courier New',monospace\"><span style=\"color: #7fbfbf; text-decoration-color: #7fbfbf\">[07/03/25 15:52:56] </span><span style=\"color: #000080; text-decoration-color: #000080\">INFO    </span> No custom team name replacements found. You can configure these in       <a href=\"file://c:\\Users\\ez\\Documents\\GitHub\\AI-Football-Manager\\.venv\\lib\\site-packages\\soccerdata\\_config.py\" target=\"_blank\"><span style=\"color: #7f7f7f; text-decoration-color: #7f7f7f\">_config.py</span></a><span style=\"color: #7f7f7f; text-decoration-color: #7f7f7f\">:</span><a href=\"file://c:\\Users\\ez\\Documents\\GitHub\\AI-Football-Manager\\.venv\\lib\\site-packages\\soccerdata\\_config.py#91\" target=\"_blank\"><span style=\"color: #7f7f7f; text-decoration-color: #7f7f7f\">91</span></a>\n",
       "<span style=\"color: #7fbfbf; text-decoration-color: #7fbfbf\">                    </span>         C:\\Users\\ez\\soccerdata\\config\\teamname_replacements.json.                <span style=\"color: #7f7f7f; text-decoration-color: #7f7f7f\">             </span>\n",
       "</pre>\n"
      ],
      "text/plain": [
       "\u001b[2;36m[07/03/25 15:52:56]\u001b[0m\u001b[2;36m \u001b[0m\u001b[34mINFO    \u001b[0m No custom team name replacements found. You can configure these in       \u001b]8;id=344365;file://c:\\Users\\ez\\Documents\\GitHub\\AI-Football-Manager\\.venv\\lib\\site-packages\\soccerdata\\_config.py\u001b\\\u001b[2m_config.py\u001b[0m\u001b]8;;\u001b\\\u001b[2m:\u001b[0m\u001b]8;id=571449;file://c:\\Users\\ez\\Documents\\GitHub\\AI-Football-Manager\\.venv\\lib\\site-packages\\soccerdata\\_config.py#91\u001b\\\u001b[2m91\u001b[0m\u001b]8;;\u001b\\\n",
       "\u001b[2;36m                    \u001b[0m         C:\\Users\\ez\\soccerdata\\config\\teamname_replacements.json.                \u001b[2m             \u001b[0m\n"
      ]
     },
     "metadata": {},
     "output_type": "display_data"
    },
    {
     "data": {
      "text/html": [
       "<pre style=\"white-space:pre;overflow-x:auto;line-height:normal;font-family:Menlo,'DejaVu Sans Mono',consolas,'Courier New',monospace\"><span style=\"color: #7fbfbf; text-decoration-color: #7fbfbf\">                    </span><span style=\"color: #000080; text-decoration-color: #000080\">INFO    </span> No custom league dict found. You can configure additional leagues in    <a href=\"file://c:\\Users\\ez\\Documents\\GitHub\\AI-Football-Manager\\.venv\\lib\\site-packages\\soccerdata\\_config.py\" target=\"_blank\"><span style=\"color: #7f7f7f; text-decoration-color: #7f7f7f\">_config.py</span></a><span style=\"color: #7f7f7f; text-decoration-color: #7f7f7f\">:</span><a href=\"file://c:\\Users\\ez\\Documents\\GitHub\\AI-Football-Manager\\.venv\\lib\\site-packages\\soccerdata\\_config.py#197\" target=\"_blank\"><span style=\"color: #7f7f7f; text-decoration-color: #7f7f7f\">197</span></a>\n",
       "<span style=\"color: #7fbfbf; text-decoration-color: #7fbfbf\">                    </span>         C:\\Users\\ez\\soccerdata\\config\\league_dict.json.                         <span style=\"color: #7f7f7f; text-decoration-color: #7f7f7f\">              </span>\n",
       "</pre>\n"
      ],
      "text/plain": [
       "\u001b[2;36m                   \u001b[0m\u001b[2;36m \u001b[0m\u001b[34mINFO    \u001b[0m No custom league dict found. You can configure additional leagues in    \u001b]8;id=649180;file://c:\\Users\\ez\\Documents\\GitHub\\AI-Football-Manager\\.venv\\lib\\site-packages\\soccerdata\\_config.py\u001b\\\u001b[2m_config.py\u001b[0m\u001b]8;;\u001b\\\u001b[2m:\u001b[0m\u001b]8;id=746588;file://c:\\Users\\ez\\Documents\\GitHub\\AI-Football-Manager\\.venv\\lib\\site-packages\\soccerdata\\_config.py#197\u001b\\\u001b[2m197\u001b[0m\u001b]8;;\u001b\\\n",
       "\u001b[2;36m                    \u001b[0m         C:\\Users\\ez\\soccerdata\\config\\league_dict.json.                         \u001b[2m              \u001b[0m\n"
      ]
     },
     "metadata": {},
     "output_type": "display_data"
    }
   ],
   "source": [
    "from dataCollector import DataCollector\n",
    "from match_parser import extract_match_parameters\n",
    "\n",
    "# 1. 사용자 입력\n",
    "user_input = \"5월 25일 울버햄튼과 브렌트포드 경기\"\n",
    "\n",
    "# 2. 한글 입력 → 날짜, 홈팀, 원정팀 추출\n",
    "params_1 = extract_match_parameters(user_input)"
   ]
  },
  {
   "cell_type": "code",
   "execution_count": 2,
   "id": "b84c8db9",
   "metadata": {},
   "outputs": [
    {
     "data": {
      "text/plain": [
       "{'match_date': '2025-05-25', 'home_team': 'Wolves', 'away_team': 'Brentford'}"
      ]
     },
     "execution_count": 2,
     "metadata": {},
     "output_type": "execute_result"
    }
   ],
   "source": [
    "params_1"
   ]
  },
  {
   "cell_type": "code",
   "execution_count": 3,
   "id": "c1b19a23",
   "metadata": {},
   "outputs": [
    {
     "data": {
      "text/html": [
       "<pre style=\"white-space:pre;overflow-x:auto;line-height:normal;font-family:Menlo,'DejaVu Sans Mono',consolas,'Courier New',monospace\"><span style=\"color: #7fbfbf; text-decoration-color: #7fbfbf\">[07/03/25 15:52:57] </span><span style=\"color: #000080; text-decoration-color: #000080\">INFO    </span> Saving cached data to C:\\Users\\ez\\soccerdata\\data\\FBref                 <a href=\"file://c:\\Users\\ez\\Documents\\GitHub\\AI-Football-Manager\\.venv\\lib\\site-packages\\soccerdata\\_common.py\" target=\"_blank\"><span style=\"color: #7f7f7f; text-decoration-color: #7f7f7f\">_common.py</span></a><span style=\"color: #7f7f7f; text-decoration-color: #7f7f7f\">:</span><a href=\"file://c:\\Users\\ez\\Documents\\GitHub\\AI-Football-Manager\\.venv\\lib\\site-packages\\soccerdata\\_common.py#263\" target=\"_blank\"><span style=\"color: #7f7f7f; text-decoration-color: #7f7f7f\">263</span></a>\n",
       "</pre>\n"
      ],
      "text/plain": [
       "\u001b[2;36m[07/03/25 15:52:57]\u001b[0m\u001b[2;36m \u001b[0m\u001b[34mINFO    \u001b[0m Saving cached data to C:\\Users\\ez\\soccerdata\\data\\FBref                 \u001b]8;id=700051;file://c:\\Users\\ez\\Documents\\GitHub\\AI-Football-Manager\\.venv\\lib\\site-packages\\soccerdata\\_common.py\u001b\\\u001b[2m_common.py\u001b[0m\u001b]8;;\u001b\\\u001b[2m:\u001b[0m\u001b]8;id=101885;file://c:\\Users\\ez\\Documents\\GitHub\\AI-Football-Manager\\.venv\\lib\\site-packages\\soccerdata\\_common.py#263\u001b\\\u001b[2m263\u001b[0m\u001b]8;;\u001b\\\n"
      ]
     },
     "metadata": {},
     "output_type": "display_data"
    },
    {
     "data": {
      "text/html": [
       "<pre style=\"white-space:pre;overflow-x:auto;line-height:normal;font-family:Menlo,'DejaVu Sans Mono',consolas,'Courier New',monospace\"><span style=\"color: #7fbfbf; text-decoration-color: #7fbfbf\">                    </span><span style=\"color: #000080; text-decoration-color: #000080\">INFO    </span> Saving cached data to C:\\Users\\ez\\soccerdata\\data\\ClubElo               <a href=\"file://c:\\Users\\ez\\Documents\\GitHub\\AI-Football-Manager\\.venv\\lib\\site-packages\\soccerdata\\_common.py\" target=\"_blank\"><span style=\"color: #7f7f7f; text-decoration-color: #7f7f7f\">_common.py</span></a><span style=\"color: #7f7f7f; text-decoration-color: #7f7f7f\">:</span><a href=\"file://c:\\Users\\ez\\Documents\\GitHub\\AI-Football-Manager\\.venv\\lib\\site-packages\\soccerdata\\_common.py#263\" target=\"_blank\"><span style=\"color: #7f7f7f; text-decoration-color: #7f7f7f\">263</span></a>\n",
       "</pre>\n"
      ],
      "text/plain": [
       "\u001b[2;36m                   \u001b[0m\u001b[2;36m \u001b[0m\u001b[34mINFO    \u001b[0m Saving cached data to C:\\Users\\ez\\soccerdata\\data\\ClubElo               \u001b]8;id=813583;file://c:\\Users\\ez\\Documents\\GitHub\\AI-Football-Manager\\.venv\\lib\\site-packages\\soccerdata\\_common.py\u001b\\\u001b[2m_common.py\u001b[0m\u001b]8;;\u001b\\\u001b[2m:\u001b[0m\u001b]8;id=407823;file://c:\\Users\\ez\\Documents\\GitHub\\AI-Football-Manager\\.venv\\lib\\site-packages\\soccerdata\\_common.py#263\u001b\\\u001b[2m263\u001b[0m\u001b]8;;\u001b\\\n"
      ]
     },
     "metadata": {},
     "output_type": "display_data"
    },
    {
     "data": {
      "text/html": [
       "<pre style=\"white-space:pre;overflow-x:auto;line-height:normal;font-family:Menlo,'DejaVu Sans Mono',consolas,'Courier New',monospace\"><span style=\"color: #7fbfbf; text-decoration-color: #7fbfbf\">[07/03/25 15:53:03] </span><span style=\"color: #808000; text-decoration-color: #808000\">WARNING </span> c:\\Users\\ez\\Documents\\GitHub\\AI-Football-Manager\\.venv\\lib\\site-packag <a href=\"file://C:\\Users\\ez\\AppData\\Local\\Programs\\Python\\Python39\\lib\\warnings.py\" target=\"_blank\"><span style=\"color: #7f7f7f; text-decoration-color: #7f7f7f\">warnings.py</span></a><span style=\"color: #7f7f7f; text-decoration-color: #7f7f7f\">:</span><a href=\"file://C:\\Users\\ez\\AppData\\Local\\Programs\\Python\\Python39\\lib\\warnings.py#109\" target=\"_blank\"><span style=\"color: #7f7f7f; text-decoration-color: #7f7f7f\">109</span></a>\n",
       "<span style=\"color: #7fbfbf; text-decoration-color: #7fbfbf\">                    </span>         es\\soccerdata\\fbref.py:<span style=\"color: #008080; text-decoration-color: #008080; font-weight: bold\">165</span>: FutureWarning: The behavior of DataFrame   <span style=\"color: #7f7f7f; text-decoration-color: #7f7f7f\">               </span>\n",
       "<span style=\"color: #7fbfbf; text-decoration-color: #7fbfbf\">                    </span>         concatenation with empty or all-NA entries is deprecated. In a future  <span style=\"color: #7f7f7f; text-decoration-color: #7f7f7f\">               </span>\n",
       "<span style=\"color: #7fbfbf; text-decoration-color: #7fbfbf\">                    </span>         version, this will no longer exclude empty or all-NA columns when      <span style=\"color: #7f7f7f; text-decoration-color: #7f7f7f\">               </span>\n",
       "<span style=\"color: #7fbfbf; text-decoration-color: #7fbfbf\">                    </span>         determining the result dtypes. To retain the old behavior, exclude the <span style=\"color: #7f7f7f; text-decoration-color: #7f7f7f\">               </span>\n",
       "<span style=\"color: #7fbfbf; text-decoration-color: #7fbfbf\">                    </span>         relevant entries before the concat operation.                          <span style=\"color: #7f7f7f; text-decoration-color: #7f7f7f\">               </span>\n",
       "<span style=\"color: #7fbfbf; text-decoration-color: #7fbfbf\">                    </span>           <span style=\"color: #800080; text-decoration-color: #800080; font-weight: bold\">pd.concat</span><span style=\"font-weight: bold\">(</span>dfs<span style=\"font-weight: bold\">)</span>                                                       <span style=\"color: #7f7f7f; text-decoration-color: #7f7f7f\">               </span>\n",
       "<span style=\"color: #7fbfbf; text-decoration-color: #7fbfbf\">                    </span>                                                                                <span style=\"color: #7f7f7f; text-decoration-color: #7f7f7f\">               </span>\n",
       "</pre>\n"
      ],
      "text/plain": [
       "\u001b[2;36m[07/03/25 15:53:03]\u001b[0m\u001b[2;36m \u001b[0m\u001b[33mWARNING \u001b[0m c:\\Users\\ez\\Documents\\GitHub\\AI-Football-Manager\\.venv\\lib\\site-packag \u001b]8;id=939313;file://C:\\Users\\ez\\AppData\\Local\\Programs\\Python\\Python39\\lib\\warnings.py\u001b\\\u001b[2mwarnings.py\u001b[0m\u001b]8;;\u001b\\\u001b[2m:\u001b[0m\u001b]8;id=505781;file://C:\\Users\\ez\\AppData\\Local\\Programs\\Python\\Python39\\lib\\warnings.py#109\u001b\\\u001b[2m109\u001b[0m\u001b]8;;\u001b\\\n",
       "\u001b[2;36m                    \u001b[0m         es\\soccerdata\\fbref.py:\u001b[1;36m165\u001b[0m: FutureWarning: The behavior of DataFrame   \u001b[2m               \u001b[0m\n",
       "\u001b[2;36m                    \u001b[0m         concatenation with empty or all-NA entries is deprecated. In a future  \u001b[2m               \u001b[0m\n",
       "\u001b[2;36m                    \u001b[0m         version, this will no longer exclude empty or all-NA columns when      \u001b[2m               \u001b[0m\n",
       "\u001b[2;36m                    \u001b[0m         determining the result dtypes. To retain the old behavior, exclude the \u001b[2m               \u001b[0m\n",
       "\u001b[2;36m                    \u001b[0m         relevant entries before the concat operation.                          \u001b[2m               \u001b[0m\n",
       "\u001b[2;36m                    \u001b[0m           \u001b[1;35mpd.concat\u001b[0m\u001b[1m(\u001b[0mdfs\u001b[1m)\u001b[0m                                                       \u001b[2m               \u001b[0m\n",
       "\u001b[2;36m                    \u001b[0m                                                                                \u001b[2m               \u001b[0m\n"
      ]
     },
     "metadata": {},
     "output_type": "display_data"
    },
    {
     "name": "stdout",
     "output_type": "stream",
     "text": [
      "수집된 데이터:\n",
      "    MatchDate HomeTeam   AwayTeam  GF3Home  GA3Home  GF5Home  GA5Home  \\\n",
      "0  2025-05-25   Wolves  Brentford        2        7        6        7   \n",
      "\n",
      "   GF3Away  GA3Away  GF5Away  GA5Away  Form3Home  Form5Home  Form3Away  \\\n",
      "0        7        6       13        8          0          6          6   \n",
      "\n",
      "   Form5Away      HomeElo      AwayElo   elo_diff  elo_change_home  \\\n",
      "0         12  1732.723511  1809.577148 -76.853638        -6.730103   \n",
      "\n",
      "   elo_change_away  \n",
      "0              0.0  \n"
     ]
    }
   ],
   "source": [
    "collector = DataCollector()\n",
    "\n",
    "# 4. 수집 실행\n",
    "df_test = collector.collect_features(\n",
    "    match_date=params_1[\"match_date\"],\n",
    "    home_team=params_1[\"home_team\"],\n",
    "    away_team=params_1[\"away_team\"]\n",
    ")\n",
    "\n",
    "print(\"수집된 데이터:\")\n",
    "print(df_test)"
   ]
  },
  {
   "cell_type": "code",
   "execution_count": 4,
   "id": "6738dcd4",
   "metadata": {},
   "outputs": [
    {
     "name": "stdout",
     "output_type": "stream",
     "text": [
      "['MatchDate', 'HomeTeam', 'AwayTeam', 'GF3Home', 'GA3Home', 'GF5Home', 'GA5Home', 'GF3Away', 'GA3Away', 'GF5Away', 'GA5Away', 'Form3Home', 'Form5Home', 'Form3Away', 'Form5Away', 'HomeElo', 'AwayElo', 'elo_diff', 'elo_change_home', 'elo_change_away']\n"
     ]
    }
   ],
   "source": [
    "print(df_test.columns.tolist())"
   ]
  },
  {
   "cell_type": "code",
   "execution_count": 5,
   "id": "0c7c0c2a",
   "metadata": {},
   "outputs": [
    {
     "data": {
      "text/html": [
       "<div>\n",
       "<style scoped>\n",
       "    .dataframe tbody tr th:only-of-type {\n",
       "        vertical-align: middle;\n",
       "    }\n",
       "\n",
       "    .dataframe tbody tr th {\n",
       "        vertical-align: top;\n",
       "    }\n",
       "\n",
       "    .dataframe thead th {\n",
       "        text-align: right;\n",
       "    }\n",
       "</style>\n",
       "<table border=\"1\" class=\"dataframe\">\n",
       "  <thead>\n",
       "    <tr style=\"text-align: right;\">\n",
       "      <th></th>\n",
       "      <th>MatchDate</th>\n",
       "      <th>HomeTeam</th>\n",
       "      <th>AwayTeam</th>\n",
       "      <th>GF3Home</th>\n",
       "      <th>GA3Home</th>\n",
       "      <th>GF5Home</th>\n",
       "      <th>GA5Home</th>\n",
       "      <th>GF3Away</th>\n",
       "      <th>GA3Away</th>\n",
       "      <th>GF5Away</th>\n",
       "      <th>GA5Away</th>\n",
       "      <th>Form3Home</th>\n",
       "      <th>Form5Home</th>\n",
       "      <th>Form3Away</th>\n",
       "      <th>Form5Away</th>\n",
       "      <th>HomeElo</th>\n",
       "      <th>AwayElo</th>\n",
       "      <th>elo_diff</th>\n",
       "      <th>elo_change_home</th>\n",
       "      <th>elo_change_away</th>\n",
       "    </tr>\n",
       "  </thead>\n",
       "  <tbody>\n",
       "    <tr>\n",
       "      <th>0</th>\n",
       "      <td>2025-05-25</td>\n",
       "      <td>Wolves</td>\n",
       "      <td>Brentford</td>\n",
       "      <td>2</td>\n",
       "      <td>7</td>\n",
       "      <td>6</td>\n",
       "      <td>7</td>\n",
       "      <td>7</td>\n",
       "      <td>6</td>\n",
       "      <td>13</td>\n",
       "      <td>8</td>\n",
       "      <td>0</td>\n",
       "      <td>6</td>\n",
       "      <td>6</td>\n",
       "      <td>12</td>\n",
       "      <td>1732.723511</td>\n",
       "      <td>1809.577148</td>\n",
       "      <td>-76.853638</td>\n",
       "      <td>-6.730103</td>\n",
       "      <td>0.0</td>\n",
       "    </tr>\n",
       "  </tbody>\n",
       "</table>\n",
       "</div>"
      ],
      "text/plain": [
       "    MatchDate HomeTeam   AwayTeam  GF3Home  GA3Home  GF5Home  GA5Home  \\\n",
       "0  2025-05-25   Wolves  Brentford        2        7        6        7   \n",
       "\n",
       "   GF3Away  GA3Away  GF5Away  GA5Away  Form3Home  Form5Home  Form3Away  \\\n",
       "0        7        6       13        8          0          6          6   \n",
       "\n",
       "   Form5Away      HomeElo      AwayElo   elo_diff  elo_change_home  \\\n",
       "0         12  1732.723511  1809.577148 -76.853638        -6.730103   \n",
       "\n",
       "   elo_change_away  \n",
       "0              0.0  "
      ]
     },
     "execution_count": 5,
     "metadata": {},
     "output_type": "execute_result"
    }
   ],
   "source": [
    "df_test"
   ]
  },
  {
   "cell_type": "code",
   "execution_count": 6,
   "id": "c4c90031",
   "metadata": {},
   "outputs": [
    {
     "data": {
      "text/html": [
       "<pre style=\"white-space:pre;overflow-x:auto;line-height:normal;font-family:Menlo,'DejaVu Sans Mono',consolas,'Courier New',monospace\"><span style=\"color: #7fbfbf; text-decoration-color: #7fbfbf\">[07/03/25 15:53:22] </span><span style=\"color: #000080; text-decoration-color: #000080\">INFO    </span> Saving cached data to C:\\Users\\ez\\soccerdata\\data\\Understat             <a href=\"file://c:\\Users\\ez\\Documents\\GitHub\\AI-Football-Manager\\.venv\\lib\\site-packages\\soccerdata\\_common.py\" target=\"_blank\"><span style=\"color: #7f7f7f; text-decoration-color: #7f7f7f\">_common.py</span></a><span style=\"color: #7f7f7f; text-decoration-color: #7f7f7f\">:</span><a href=\"file://c:\\Users\\ez\\Documents\\GitHub\\AI-Football-Manager\\.venv\\lib\\site-packages\\soccerdata\\_common.py#263\" target=\"_blank\"><span style=\"color: #7f7f7f; text-decoration-color: #7f7f7f\">263</span></a>\n",
       "</pre>\n"
      ],
      "text/plain": [
       "\u001b[2;36m[07/03/25 15:53:22]\u001b[0m\u001b[2;36m \u001b[0m\u001b[34mINFO    \u001b[0m Saving cached data to C:\\Users\\ez\\soccerdata\\data\\Understat             \u001b]8;id=117840;file://c:\\Users\\ez\\Documents\\GitHub\\AI-Football-Manager\\.venv\\lib\\site-packages\\soccerdata\\_common.py\u001b\\\u001b[2m_common.py\u001b[0m\u001b]8;;\u001b\\\u001b[2m:\u001b[0m\u001b]8;id=93371;file://c:\\Users\\ez\\Documents\\GitHub\\AI-Football-Manager\\.venv\\lib\\site-packages\\soccerdata\\_common.py#263\u001b\\\u001b[2m263\u001b[0m\u001b]8;;\u001b\\\n"
      ]
     },
     "metadata": {},
     "output_type": "display_data"
    },
    {
     "name": "stdout",
     "output_type": "stream",
     "text": [
      "✅ 저장 완료: teamData_xG.csv (행 수: 1)\n"
     ]
    }
   ],
   "source": [
    "from merge_understat_xg import merge_understat_xg\n",
    "\n",
    "df_updated = merge_understat_xg(\n",
    "    df = df_test,\n",
    "    seasons=[2024],\n",
    "    save_path='teamData_xG.csv'\n",
    ")"
   ]
  },
  {
   "cell_type": "code",
   "execution_count": 7,
   "id": "72c2db9c",
   "metadata": {},
   "outputs": [
    {
     "data": {
      "text/html": [
       "<div>\n",
       "<style scoped>\n",
       "    .dataframe tbody tr th:only-of-type {\n",
       "        vertical-align: middle;\n",
       "    }\n",
       "\n",
       "    .dataframe tbody tr th {\n",
       "        vertical-align: top;\n",
       "    }\n",
       "\n",
       "    .dataframe thead th {\n",
       "        text-align: right;\n",
       "    }\n",
       "</style>\n",
       "<table border=\"1\" class=\"dataframe\">\n",
       "  <thead>\n",
       "    <tr style=\"text-align: right;\">\n",
       "      <th></th>\n",
       "      <th>MatchDate</th>\n",
       "      <th>HomeTeam</th>\n",
       "      <th>AwayTeam</th>\n",
       "      <th>GF3Home</th>\n",
       "      <th>GA3Home</th>\n",
       "      <th>GF5Home</th>\n",
       "      <th>GA5Home</th>\n",
       "      <th>GF3Away</th>\n",
       "      <th>GA3Away</th>\n",
       "      <th>GF5Away</th>\n",
       "      <th>...</th>\n",
       "      <th>elo_diff</th>\n",
       "      <th>elo_change_home</th>\n",
       "      <th>elo_change_away</th>\n",
       "      <th>h_xg</th>\n",
       "      <th>a_xg</th>\n",
       "      <th>xG_diff</th>\n",
       "      <th>xg_margin</th>\n",
       "      <th>xg_ratio</th>\n",
       "      <th>rolling_xg_home_5</th>\n",
       "      <th>rolling_xg_away_5</th>\n",
       "    </tr>\n",
       "  </thead>\n",
       "  <tbody>\n",
       "    <tr>\n",
       "      <th>0</th>\n",
       "      <td>2025-05-25</td>\n",
       "      <td>Wolverhampton Wanderers</td>\n",
       "      <td>Brentford</td>\n",
       "      <td>2</td>\n",
       "      <td>7</td>\n",
       "      <td>6</td>\n",
       "      <td>7</td>\n",
       "      <td>7</td>\n",
       "      <td>6</td>\n",
       "      <td>13</td>\n",
       "      <td>...</td>\n",
       "      <td>-76.853638</td>\n",
       "      <td>-6.730103</td>\n",
       "      <td>0.0</td>\n",
       "      <td>1.10889</td>\n",
       "      <td>1.97196</td>\n",
       "      <td>-0.86307</td>\n",
       "      <td>0.86307</td>\n",
       "      <td>0.562329</td>\n",
       "      <td>1.10889</td>\n",
       "      <td>1.97196</td>\n",
       "    </tr>\n",
       "  </tbody>\n",
       "</table>\n",
       "<p>1 rows × 27 columns</p>\n",
       "</div>"
      ],
      "text/plain": [
       "    MatchDate                 HomeTeam   AwayTeam  GF3Home  GA3Home  GF5Home  \\\n",
       "0  2025-05-25  Wolverhampton Wanderers  Brentford        2        7        6   \n",
       "\n",
       "   GA5Home  GF3Away  GA3Away  GF5Away  ...   elo_diff  elo_change_home  \\\n",
       "0        7        7        6       13  ... -76.853638        -6.730103   \n",
       "\n",
       "   elo_change_away     h_xg     a_xg  xG_diff  xg_margin  xg_ratio  \\\n",
       "0              0.0  1.10889  1.97196 -0.86307    0.86307  0.562329   \n",
       "\n",
       "   rolling_xg_home_5  rolling_xg_away_5  \n",
       "0            1.10889            1.97196  \n",
       "\n",
       "[1 rows x 27 columns]"
      ]
     },
     "execution_count": 7,
     "metadata": {},
     "output_type": "execute_result"
    }
   ],
   "source": [
    "df_updated"
   ]
  },
  {
   "cell_type": "code",
   "execution_count": 8,
   "id": "7880a9f4",
   "metadata": {},
   "outputs": [
    {
     "data": {
      "text/plain": [
       "Index(['MatchDate', 'HomeTeam', 'AwayTeam', 'GF3Home', 'GA3Home', 'GF5Home',\n",
       "       'GA5Home', 'GF3Away', 'GA3Away', 'GF5Away', 'GA5Away', 'Form3Home',\n",
       "       'Form5Home', 'Form3Away', 'Form5Away', 'HomeElo', 'AwayElo', 'elo_diff',\n",
       "       'elo_change_home', 'elo_change_away', 'h_xg', 'a_xg', 'xG_diff',\n",
       "       'xg_margin', 'xg_ratio', 'rolling_xg_home_5', 'rolling_xg_away_5'],\n",
       "      dtype='object')"
      ]
     },
     "execution_count": 8,
     "metadata": {},
     "output_type": "execute_result"
    }
   ],
   "source": [
    "df_updated.columns"
   ]
  }
 ],
 "metadata": {
  "kernelspec": {
   "display_name": ".venv",
   "language": "python",
   "name": "python3"
  },
  "language_info": {
   "codemirror_mode": {
    "name": "ipython",
    "version": 3
   },
   "file_extension": ".py",
   "mimetype": "text/x-python",
   "name": "python",
   "nbconvert_exporter": "python",
   "pygments_lexer": "ipython3",
   "version": "3.9.13"
  }
 },
 "nbformat": 4,
 "nbformat_minor": 5
}
